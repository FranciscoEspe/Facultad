{
 "cells": [
  {
   "cell_type": "code",
   "execution_count": 1,
   "id": "18aacd5a-a359-40df-82a3-a258058edc2e",
   "metadata": {},
   "outputs": [],
   "source": [
    "import sympy as smp"
   ]
  },
  {
   "cell_type": "code",
   "execution_count": 2,
   "id": "0a1a18ec-b094-472c-9239-6154cecf4d17",
   "metadata": {},
   "outputs": [],
   "source": [
    "# Defino las variables y sus derivadas. Las coordenadas generalizadas en este caso van a ser las desviaciones \n",
    "# de la posición de equilibrio.\n",
    "\n",
    "m, M, k, R, t = smp.symbols('m M k R t')\n",
    "th1, th2, th3 = smp.symbols(r'\\theta_1 \\theta_2 \\theta_3', cls=smp.Function)\n",
    "th1 = th1(t)\n",
    "th2 = th2(t)\n",
    "th3 = th3(t)\n",
    "th1_t = smp.diff(th1,t)\n",
    "th2_t = smp.diff(th2,t)\n",
    "th3_t = smp.diff(th3,t)"
   ]
  },
  {
   "cell_type": "code",
   "execution_count": 4,
   "id": "0b4965ad-bcbb-483d-aa7e-62c5ed17849a",
   "metadata": {},
   "outputs": [],
   "source": [
    "# Defino las posiciones angulares correctamente y también la longitud de equilibrio entre las masas\n",
    "l0 = smp.pi*smp.Rational(2, 3) * R\n",
    "th1_ñ = th1\n",
    "th2_ñ = smp.pi*smp.Rational(2,3)+th2\n",
    "th3_ñ = smp.pi*smp.Rational(4,3)+th3\n",
    "\n",
    "# Coordenadas en el sistema de referencia cartesiano en función de las coordenadas generalizadas\n",
    "x1 = R* smp.cos(th1_ñ)\n",
    "y1 = R* smp.sin(th1_ñ)\n",
    "x2 = R* smp.cos(th2_ñ)\n",
    "y2 = R* smp.sin(th2_ñ)\n",
    "x3 = R* smp.cos(th3_ñ)\n",
    "y3 = R* smp.sin(th3_ñ)\n",
    "\n",
    "# Energías cinética y potencial y lagrangiano del sistema\n",
    "T1 = smp.Rational(1,2) * M * (smp.diff(x1,t)**2 + smp.diff(y1,t)**2)\n",
    "T2 = smp.Rational(1,2) * m * (smp.diff(x2,t)**2 + smp.diff(y2,t)**2)\n",
    "T3 = smp.Rational(1,2) * m * (smp.diff(x3,t)**2 + smp.diff(y3,t)**2)\n",
    "T = T1 + T2 + T3\n",
    "\n",
    "\n",
    "U = smp.Rational(1,2) * k * ((R*(th2 - th1))**2 + (R*(th3 - th2))**2 + (R*(th1 - (2*smp.pi - th3)))**2)\n",
    "\n",
    "L = T - U"
   ]
  },
  {
   "cell_type": "code",
   "execution_count": 4,
   "id": "283a3c2a-e90c-44a3-9987-fea7a7b4eebd",
   "metadata": {},
   "outputs": [
    {
     "data": {
      "text/latex": [
       "$\\displaystyle \\frac{R^{2} k \\left(9 \\left(- \\theta_{1}{\\left(t \\right)} + \\theta_{2}{\\left(t \\right)}\\right)^{2} + 9 \\left(- \\theta_{2}{\\left(t \\right)} + \\theta_{3}{\\left(t \\right)}\\right)^{2} + \\left(3 \\theta_{1}{\\left(t \\right)} + 3 \\theta_{3}{\\left(t \\right)} - 4 \\pi\\right)^{2}\\right)}{18}$"
      ],
      "text/plain": [
       "R**2*k*(9*(-\\theta_1(t) + \\theta_2(t))**2 + 9*(-\\theta_2(t) + \\theta_3(t))**2 + (3*\\theta_1(t) + 3*\\theta_3(t) - 4*pi)**2)/18"
      ]
     },
     "execution_count": 4,
     "metadata": {},
     "output_type": "execute_result"
    }
   ],
   "source": [
    "U.simplify()"
   ]
  },
  {
   "cell_type": "code",
   "execution_count": 10,
   "id": "2b3dfc00-6a07-4e9c-9b1a-5542d8e9846e",
   "metadata": {},
   "outputs": [
    {
     "data": {
      "text/plain": [
       "[k*(2*R*(-R*(-\\theta_1(t) + \\theta_2(t) + 2*pi/3) + 2*pi*R/3) - 2*R*(-R*(\\theta_1(t) + \\theta_3(t) - 2*pi/3) + 2*pi*R/3))/2,\n",
       " k*(-2*R*(-R*(-\\theta_1(t) + \\theta_2(t) + 2*pi/3) + 2*pi*R/3) + 2*R*(-R*(-\\theta_2(t) + \\theta_3(t) + 2*pi/3) + 2*pi*R/3))/2,\n",
       " k*(-2*R*(-R*(\\theta_1(t) + \\theta_3(t) - 2*pi/3) + 2*pi*R/3) - 2*R*(-R*(-\\theta_2(t) + \\theta_3(t) + 2*pi/3) + 2*pi*R/3))/2]"
      ]
     },
     "execution_count": 10,
     "metadata": {},
     "output_type": "execute_result"
    }
   ],
   "source": [
    "[smp.diff(U, theta)/R for theta in [th1, th2, th3]]"
   ]
  },
  {
   "cell_type": "code",
   "execution_count": 6,
   "id": "7bfc82a0-66dd-4fff-a439-66cd891067b3",
   "metadata": {},
   "outputs": [],
   "source": [
    "# E + L\n",
    "EL1 = smp.diff(smp.diff(L, th1_t),t) - smp.diff(L,th1_ñ)\n",
    "EL2 = smp.diff(smp.diff(L, th2_t),t) - smp.diff(L,th2)\n",
    "EL3 = smp.diff(smp.diff(L, th3_t),t) - smp.diff(L,th3)"
   ]
  },
  {
   "cell_type": "code",
   "execution_count": 7,
   "id": "3135073e-b5a7-449e-b6cd-8beba373adbd",
   "metadata": {},
   "outputs": [
    {
     "data": {
      "text/latex": [
       "$\\displaystyle R^{2} \\left(M \\frac{d^{2}}{d t^{2}} \\theta_{1}{\\left(t \\right)} - \\frac{k \\left(- 6 \\theta_{1}{\\left(t \\right)} + 3 \\theta_{2}{\\left(t \\right)} - 3 \\theta_{3}{\\left(t \\right)} + 4 \\pi\\right)}{3}\\right)$"
      ],
      "text/plain": [
       "R**2*(M*Derivative(\\theta_1(t), (t, 2)) - k*(-6*\\theta_1(t) + 3*\\theta_2(t) - 3*\\theta_3(t) + 4*pi)/3)"
      ]
     },
     "execution_count": 7,
     "metadata": {},
     "output_type": "execute_result"
    }
   ],
   "source": [
    "EL1.simplify()"
   ]
  },
  {
   "cell_type": "code",
   "execution_count": 8,
   "id": "31619e7b-e8c1-4311-ae8e-25dc1c2ea344",
   "metadata": {},
   "outputs": [],
   "source": [
    "a1, a2, a3, w = smp.symbols(r'a_1 a_2 a_3 \\omega', real=True, positive=True)\n",
    "anz1 = a1 * smp.exp(smp.I* w * t)\n",
    "anz2 = a2 * smp.exp(smp.I* w * t)\n",
    "anz3 = a3 * smp.exp(smp.I* w * t)\n",
    "EL1 = EL1.subs([(th1,anz1), (th2, anz2), (th3,anz3)]).simplify()\n",
    "EL2 = EL2.subs([(th1,anz1), (th2, anz2), (th3,anz3)]).simplify()\n",
    "EL3 = EL3.subs([(th1,anz1), (th2, anz2), (th3,anz3)]).simplify()\n",
    "\n",
    "# Código que simplifacría hecho arriba\n",
    "#\n",
    "# eqns = [EL1, EL2, EL3]\n",
    "# [e.subs([(th1,anz1), (th2, anz2), (th3,anz3)]).simplify() for e in eqns]"
   ]
  },
  {
   "cell_type": "code",
   "execution_count": 9,
   "id": "1cc026f2-3e68-4219-8f8c-8919bb2886b8",
   "metadata": {},
   "outputs": [],
   "source": [
    "eqns= [EL1, EL2, EL3]\n",
    "A, b = smp.linear_eq_to_matrix(eqns, [a1,a2,a3])"
   ]
  },
  {
   "cell_type": "code",
   "execution_count": 44,
   "id": "861cbf94-cd25-411b-8ed2-646cd7d59815",
   "metadata": {},
   "outputs": [
    {
     "data": {
      "text/latex": [
       "$\\displaystyle \\left[\\begin{matrix}R^{2} \\left(- M \\omega^{2} e^{i \\omega t} + 2 k e^{i \\omega t}\\right) & - R^{2} k e^{i \\omega t} & R^{2} k e^{i \\omega t}\\\\- R^{2} k e^{i \\omega t} & R^{2} \\left(- \\omega^{2} m e^{i \\omega t} + 2 k e^{i \\omega t}\\right) & - R^{2} k e^{i \\omega t}\\\\R^{2} k e^{i \\omega t} & - R^{2} k e^{i \\omega t} & R^{2} \\left(- \\omega^{2} m e^{i \\omega t} + 2 k e^{i \\omega t}\\right)\\end{matrix}\\right]$"
      ],
      "text/plain": [
       "Matrix([\n",
       "[R**2*(-M*\\omega**2*exp(I*\\omega*t) + 2*k*exp(I*\\omega*t)),                                   -R**2*k*exp(I*\\omega*t),                                    R**2*k*exp(I*\\omega*t)],\n",
       "[                                  -R**2*k*exp(I*\\omega*t), R**2*(-\\omega**2*m*exp(I*\\omega*t) + 2*k*exp(I*\\omega*t)),                                   -R**2*k*exp(I*\\omega*t)],\n",
       "[                                   R**2*k*exp(I*\\omega*t),                                   -R**2*k*exp(I*\\omega*t), R**2*(-\\omega**2*m*exp(I*\\omega*t) + 2*k*exp(I*\\omega*t))]])"
      ]
     },
     "execution_count": 44,
     "metadata": {},
     "output_type": "execute_result"
    }
   ],
   "source": [
    "A"
   ]
  },
  {
   "cell_type": "code",
   "execution_count": 11,
   "id": "738b4259-20e5-4876-b85a-9ef51e373761",
   "metadata": {},
   "outputs": [
    {
     "data": {
      "text/latex": [
       "$\\displaystyle \\left[\\begin{matrix}\\frac{4 \\pi R^{2} k}{3}\\\\0\\\\\\frac{4 \\pi R^{2} k}{3}\\end{matrix}\\right]$"
      ],
      "text/plain": [
       "Matrix([\n",
       "[4*pi*R**2*k/3],\n",
       "[            0],\n",
       "[4*pi*R**2*k/3]])"
      ]
     },
     "execution_count": 11,
     "metadata": {},
     "output_type": "execute_result"
    }
   ],
   "source": [
    "b"
   ]
  },
  {
   "cell_type": "code",
   "execution_count": 45,
   "id": "4f37c187-951b-4406-a134-6541c4d9a92a",
   "metadata": {},
   "outputs": [],
   "source": [
    "A_n = A / (R**2*k*smp.exp(smp.I*w*t))"
   ]
  },
  {
   "cell_type": "code",
   "execution_count": 56,
   "id": "1aade8b1-2c3e-449a-aaa8-6b64ffb06593",
   "metadata": {},
   "outputs": [
    {
     "data": {
      "text/plain": [
       "sympy.matrices.dense.MutableDenseMatrix"
      ]
     },
     "execution_count": 56,
     "metadata": {},
     "output_type": "execute_result"
    }
   ],
   "source": [
    "type(A_n)"
   ]
  },
  {
   "cell_type": "code",
   "execution_count": 60,
   "id": "fed4e22e-fd99-4038-af82-67e20297c773",
   "metadata": {},
   "outputs": [
    {
     "data": {
      "text/latex": [
       "$\\displaystyle \\left[\\begin{matrix}\\frac{\\left(- M \\omega^{2} e^{i \\omega t} + 2 k e^{i \\omega t}\\right) e^{- i \\omega t}}{k} & -1 & 1\\\\-1 & \\frac{\\left(- \\omega^{2} m e^{i \\omega t} + 2 k e^{i \\omega t}\\right) e^{- i \\omega t}}{k} & -1\\\\1 & -1 & \\frac{\\left(- \\omega^{2} m e^{i \\omega t} + 2 k e^{i \\omega t}\\right) e^{- i \\omega t}}{k}\\end{matrix}\\right]$"
      ],
      "text/plain": [
       "Matrix([\n",
       "[(-M*\\omega**2*exp(I*\\omega*t) + 2*k*exp(I*\\omega*t))*exp(-I*\\omega*t)/k,                                                                      -1,                                                                       1],\n",
       "[                                                                     -1, (-\\omega**2*m*exp(I*\\omega*t) + 2*k*exp(I*\\omega*t))*exp(-I*\\omega*t)/k,                                                                      -1],\n",
       "[                                                                      1,                                                                      -1, (-\\omega**2*m*exp(I*\\omega*t) + 2*k*exp(I*\\omega*t))*exp(-I*\\omega*t)/k]])"
      ]
     },
     "execution_count": 60,
     "metadata": {},
     "output_type": "execute_result"
    }
   ],
   "source": [
    "A_n"
   ]
  },
  {
   "cell_type": "code",
   "execution_count": 78,
   "id": "e664672e-432c-417d-8adf-a2e375d0eddb",
   "metadata": {},
   "outputs": [
    {
     "data": {
      "text/latex": [
       "$\\displaystyle \\left[\\begin{matrix}- \\frac{M \\omega^{2}}{k} + 2 & -1 & 1\\\\-1 & - \\frac{\\omega^{2} m}{k} + 2 & -1\\\\1 & -1 & - \\frac{\\omega^{2} m}{k} + 2\\end{matrix}\\right]$"
      ],
      "text/plain": [
       "Matrix([\n",
       "[-M*\\omega**2/k + 2,                 -1,                  1],\n",
       "[                -1, -\\omega**2*m/k + 2,                 -1],\n",
       "[                 1,                 -1, -\\omega**2*m/k + 2]])"
      ]
     },
     "execution_count": 78,
     "metadata": {},
     "output_type": "execute_result"
    }
   ],
   "source": [
    "A_n = smp.MutableDenseMatrix([[-M*w**2/k+2,-1,1], [-1,-m*w**2/k+2,-1],[1,-1,-m*w**2/k+2]])\n",
    "A_n"
   ]
  },
  {
   "cell_type": "code",
   "execution_count": 79,
   "id": "af368676-45a3-45a2-a436-740324a324bf",
   "metadata": {},
   "outputs": [],
   "source": [
    "sol = A_n.eigenvects()"
   ]
  },
  {
   "cell_type": "code",
   "execution_count": 84,
   "id": "62397f39-0df7-41b3-9c46-71a34d38f03b",
   "metadata": {},
   "outputs": [
    {
     "data": {
      "text/latex": [
       "$\\displaystyle \\frac{- \\omega^{2} m + k}{k}$"
      ],
      "text/plain": [
       "(-\\omega**2*m + k)/k"
      ]
     },
     "execution_count": 84,
     "metadata": {},
     "output_type": "execute_result"
    }
   ],
   "source": [
    "sol[0][0]"
   ]
  },
  {
   "cell_type": "code",
   "execution_count": 89,
   "id": "d60da669-8ef6-4460-9d12-4a9c8cd62d6a",
   "metadata": {},
   "outputs": [
    {
     "data": {
      "text/latex": [
       "$\\displaystyle \\frac{- M \\omega^{2} - \\omega^{2} m + 5 k - \\sqrt{M^{2} \\omega^{4} - 2 M \\omega^{4} m + 2 M \\omega^{2} k + \\omega^{4} m^{2} - 2 \\omega^{2} k m + 9 k^{2}}}{2 k}$"
      ],
      "text/plain": [
       "(-M*\\omega**2 - \\omega**2*m + 5*k - sqrt(M**2*\\omega**4 - 2*M*\\omega**4*m + 2*M*\\omega**2*k + \\omega**4*m**2 - 2*\\omega**2*k*m + 9*k**2))/(2*k)"
      ]
     },
     "execution_count": 89,
     "metadata": {},
     "output_type": "execute_result"
    }
   ],
   "source": [
    "sol[1][0]"
   ]
  },
  {
   "cell_type": "code",
   "execution_count": 90,
   "id": "aa624944-7524-4376-976a-967e775fd850",
   "metadata": {},
   "outputs": [
    {
     "data": {
      "text/latex": [
       "$\\displaystyle \\frac{- M \\omega^{2} - \\omega^{2} m + 5 k + \\sqrt{M^{2} \\omega^{4} - 2 M \\omega^{4} m + 2 M \\omega^{2} k + \\omega^{4} m^{2} - 2 \\omega^{2} k m + 9 k^{2}}}{2 k}$"
      ],
      "text/plain": [
       "(-M*\\omega**2 - \\omega**2*m + 5*k + sqrt(M**2*\\omega**4 - 2*M*\\omega**4*m + 2*M*\\omega**2*k + \\omega**4*m**2 - 2*\\omega**2*k*m + 9*k**2))/(2*k)"
      ]
     },
     "execution_count": 90,
     "metadata": {},
     "output_type": "execute_result"
    }
   ],
   "source": [
    "sol[2][0]"
   ]
  },
  {
   "cell_type": "code",
   "execution_count": 94,
   "id": "2f7fd2cc-3dc6-43c8-89ff-8fbdff0d78bd",
   "metadata": {},
   "outputs": [
    {
     "data": {
      "text/latex": [
       "$\\displaystyle - \\frac{\\sqrt{M^{2} \\omega^{4} - 2 M \\omega^{4} m + 2 M \\omega^{2} k + \\omega^{4} m^{2} - 2 \\omega^{2} k m + 9 k^{2}}}{k}$"
      ],
      "text/plain": [
       "-sqrt(M**2*\\omega**4 - 2*M*\\omega**4*m + 2*M*\\omega**2*k + \\omega**4*m**2 - 2*\\omega**2*k*m + 9*k**2)/k"
      ]
     },
     "execution_count": 94,
     "metadata": {},
     "output_type": "execute_result"
    }
   ],
   "source": [
    "j = sol[1][0] - sol[2][0]\n",
    "j.simplify()"
   ]
  },
  {
   "cell_type": "code",
   "execution_count": 100,
   "id": "ed53fc38-0bb5-4d6b-8c7f-57668e855a67",
   "metadata": {},
   "outputs": [],
   "source": [
    "ana = smp.solve(A_n.det(),w)"
   ]
  },
  {
   "cell_type": "code",
   "execution_count": 101,
   "id": "72c37396-658b-41a7-bcc9-d0930eb81bb4",
   "metadata": {},
   "outputs": [
    {
     "data": {
      "text/latex": [
       "$\\displaystyle - \\sqrt{\\frac{k}{m}}$"
      ],
      "text/plain": [
       "-sqrt(k/m)"
      ]
     },
     "execution_count": 101,
     "metadata": {},
     "output_type": "execute_result"
    }
   ],
   "source": [
    "ana[0]"
   ]
  },
  {
   "cell_type": "code",
   "execution_count": 102,
   "id": "d92deaa1-f87c-4698-a72d-3a789a627d25",
   "metadata": {},
   "outputs": [
    {
     "data": {
      "text/latex": [
       "$\\displaystyle \\sqrt{\\frac{k}{m}}$"
      ],
      "text/plain": [
       "sqrt(k/m)"
      ]
     },
     "execution_count": 102,
     "metadata": {},
     "output_type": "execute_result"
    }
   ],
   "source": [
    "ana[1]"
   ]
  },
  {
   "cell_type": "code",
   "execution_count": 103,
   "id": "c5812d4d-d6ea-42bb-9863-431bfd2b9727",
   "metadata": {},
   "outputs": [
    {
     "data": {
      "text/latex": [
       "$\\displaystyle - \\sqrt{\\frac{k \\left(3 M + 2 m\\right)}{2 M m} - \\frac{k \\sqrt{9 M^{2} - 4 M m + 4 m^{2}}}{2 M m}}$"
      ],
      "text/plain": [
       "-sqrt(k*(3*M + 2*m)/(2*M*m) - k*sqrt(9*M**2 - 4*M*m + 4*m**2)/(2*M*m))"
      ]
     },
     "execution_count": 103,
     "metadata": {},
     "output_type": "execute_result"
    }
   ],
   "source": [
    "ana[2]"
   ]
  },
  {
   "cell_type": "code",
   "execution_count": null,
   "id": "04242809-e5cb-440f-9b53-f1c749aa0277",
   "metadata": {},
   "outputs": [],
   "source": [
    "eq = - w**6 *M*m**2/k + w**4 *2*m*(M+m)/k - w**2 *(5*M+2*m)/k + 12\n",
    "smp.solve(eq, w)"
   ]
  },
  {
   "cell_type": "code",
   "execution_count": null,
   "id": "2f14ee57-aa72-4eec-8bc3-5430368e32e0",
   "metadata": {},
   "outputs": [],
   "source": []
  }
 ],
 "metadata": {
  "kernelspec": {
   "display_name": "Python 3 (ipykernel)",
   "language": "python",
   "name": "python3"
  },
  "language_info": {
   "codemirror_mode": {
    "name": "ipython",
    "version": 3
   },
   "file_extension": ".py",
   "mimetype": "text/x-python",
   "name": "python",
   "nbconvert_exporter": "python",
   "pygments_lexer": "ipython3",
   "version": "3.8.10"
  }
 },
 "nbformat": 4,
 "nbformat_minor": 5
}
