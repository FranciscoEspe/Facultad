{
 "cells": [
  {
   "cell_type": "code",
   "execution_count": 1,
   "id": "2660ac37-ee10-4978-b641-5871477d2291",
   "metadata": {},
   "outputs": [],
   "source": [
    "import numpy as np\n",
    "import matplotlib as pt\n",
    "import sympy as smp"
   ]
  },
  {
   "cell_type": "code",
   "execution_count": 9,
   "id": "51f2a37f-5dfe-4d03-bcf7-81608a2535b7",
   "metadata": {},
   "outputs": [],
   "source": [
    "a, t = smp.symbols('a t', real=True)\n",
    "the, phi = smp.symbols(r'\\theta \\phi', cls=smp.Function)\n",
    "the = the(t)\n",
    "phi = phi(t)\n",
    "the_t = smp.diff(the,t)\n",
    "the_tt = smp.diff(the_t,t)\n",
    "phi_t = smp.diff(phi,t)\n",
    "phi_tt = smp.diff(phi_t,t)"
   ]
  },
  {
   "cell_type": "code",
   "execution_count": 10,
   "id": "2d68a7a0-6666-40d2-adc3-b6403a1dad02",
   "metadata": {},
   "outputs": [],
   "source": [
    "x = a * smp.sin(the) * smp.cos(phi)\n",
    "y = a * smp.sin(the) * smp.sin(phi)\n",
    "z = a * smp.cos(the)"
   ]
  },
  {
   "cell_type": "code",
   "execution_count": 13,
   "id": "d42bc4e8-e2d8-4a48-9e12-c4d535f206e6",
   "metadata": {},
   "outputs": [],
   "source": [
    "m, g = smp.symbols('m g', real=True, positive=True)\n",
    "T = smp.Rational(1,2) * m * (smp.diff(x,t)**2 + smp.diff(y,t)**2 + smp.diff(z,t)**2)\n",
    "U = m * g * z\n",
    "L = T - U"
   ]
  },
  {
   "cell_type": "code",
   "execution_count": 14,
   "id": "fc7ca191-3e63-4bbf-840c-767695b3d264",
   "metadata": {},
   "outputs": [
    {
     "data": {
      "text/latex": [
       "$\\displaystyle \\frac{a m \\left(a \\left(\\sin^{2}{\\left(\\theta{\\left(t \\right)} \\right)} \\left(\\frac{d}{d t} \\phi{\\left(t \\right)}\\right)^{2} + \\left(\\frac{d}{d t} \\theta{\\left(t \\right)}\\right)^{2}\\right) - 2 g \\cos{\\left(\\theta{\\left(t \\right)} \\right)}\\right)}{2}$"
      ],
      "text/plain": [
       "a*m*(a*(sin(\\theta(t))**2*Derivative(\\phi(t), t)**2 + Derivative(\\theta(t), t)**2) - 2*g*cos(\\theta(t)))/2"
      ]
     },
     "execution_count": 14,
     "metadata": {},
     "output_type": "execute_result"
    }
   ],
   "source": [
    "L.simplify()"
   ]
  },
  {
   "cell_type": "code",
   "execution_count": 19,
   "id": "2a5d4e90-51a3-43f4-acaa-85e891e1fe78",
   "metadata": {},
   "outputs": [
    {
     "data": {
      "text/latex": [
       "$\\displaystyle a m \\left(- \\frac{a \\sin{\\left(2 \\theta{\\left(t \\right)} \\right)} \\left(\\frac{d}{d t} \\phi{\\left(t \\right)}\\right)^{2}}{2} + a \\frac{d^{2}}{d t^{2}} \\theta{\\left(t \\right)} - g \\sin{\\left(\\theta{\\left(t \\right)} \\right)}\\right)$"
      ],
      "text/plain": [
       "a*m*(-a*sin(2*\\theta(t))*Derivative(\\phi(t), t)**2/2 + a*Derivative(\\theta(t), (t, 2)) - g*sin(\\theta(t)))"
      ]
     },
     "execution_count": 19,
     "metadata": {},
     "output_type": "execute_result"
    }
   ],
   "source": [
    "ELthe = smp.diff(smp.diff(L,the_t),t) - smp.diff(L, the)\n",
    "ELthe.simplify()"
   ]
  },
  {
   "cell_type": "code",
   "execution_count": 20,
   "id": "55a3bd5a-586d-458e-a39d-b2b659c0dc9e",
   "metadata": {},
   "outputs": [
    {
     "data": {
      "text/latex": [
       "$\\displaystyle a^{2} m \\left(\\sin{\\left(2 \\theta{\\left(t \\right)} \\right)} \\frac{d}{d t} \\phi{\\left(t \\right)} \\frac{d}{d t} \\theta{\\left(t \\right)} - \\frac{\\cos{\\left(2 \\theta{\\left(t \\right)} \\right)} \\frac{d^{2}}{d t^{2}} \\phi{\\left(t \\right)}}{2} + \\frac{\\frac{d^{2}}{d t^{2}} \\phi{\\left(t \\right)}}{2}\\right)$"
      ],
      "text/plain": [
       "a**2*m*(sin(2*\\theta(t))*Derivative(\\phi(t), t)*Derivative(\\theta(t), t) - cos(2*\\theta(t))*Derivative(\\phi(t), (t, 2))/2 + Derivative(\\phi(t), (t, 2))/2)"
      ]
     },
     "execution_count": 20,
     "metadata": {},
     "output_type": "execute_result"
    }
   ],
   "source": [
    "ELphi = smp.diff(smp.diff(L,phi_t),t) - smp.diff(L, phi)\n",
    "ELphi.simplify()"
   ]
  },
  {
   "cell_type": "code",
   "execution_count": 21,
   "id": "133a8be6-ee9a-4c00-8100-8e9067ba91d5",
   "metadata": {},
   "outputs": [],
   "source": [
    "sols = smp.solve([ELthe, ELphi], (the_tt, phi_tt))"
   ]
  },
  {
   "cell_type": "code",
   "execution_count": 40,
   "id": "cfc5006a-0b0a-4734-937b-85517bce0571",
   "metadata": {},
   "outputs": [
    {
     "data": {
      "text/latex": [
       "$\\displaystyle \\sin{\\left(\\theta{\\left(t \\right)} \\right)} \\cos{\\left(\\theta{\\left(t \\right)} \\right)} \\left(\\frac{d}{d t} \\phi{\\left(t \\right)}\\right)^{2} + \\frac{g \\sin{\\left(\\theta{\\left(t \\right)} \\right)}}{a}$"
      ],
      "text/plain": [
       "sin(\\theta(t))*cos(\\theta(t))*Derivative(\\phi(t), t)**2 + g*sin(\\theta(t))/a"
      ]
     },
     "execution_count": 40,
     "metadata": {},
     "output_type": "execute_result"
    }
   ],
   "source": [
    "sol_the_tt = sols[the_tt].expand()\n",
    "sol_the_tt"
   ]
  },
  {
   "cell_type": "code",
   "execution_count": 24,
   "id": "e353e7a2-3695-48c1-b0be-e8ea97ba9172",
   "metadata": {},
   "outputs": [
    {
     "data": {
      "text/latex": [
       "$\\displaystyle - \\frac{2 \\frac{d}{d t} \\phi{\\left(t \\right)} \\frac{d}{d t} \\theta{\\left(t \\right)}}{\\tan{\\left(\\theta{\\left(t \\right)} \\right)}}$"
      ],
      "text/plain": [
       "-2*Derivative(\\phi(t), t)*Derivative(\\theta(t), t)/tan(\\theta(t))"
      ]
     },
     "execution_count": 24,
     "metadata": {},
     "output_type": "execute_result"
    }
   ],
   "source": [
    "sols[phi_tt]"
   ]
  },
  {
   "cell_type": "markdown",
   "id": "7da6c0d9-8030-4792-a0f2-3561326b8c71",
   "metadata": {},
   "source": [
    "Importante chequear que acá $\\phi$ es cíclica, así que la segunda ecuación en realidad me complica de más. Me alcanza con mirar el momento conservado $p_{\\phi}$"
   ]
  },
  {
   "cell_type": "code",
   "execution_count": 38,
   "id": "beb2d6b9-11c2-44d2-b838-8620a33128b9",
   "metadata": {},
   "outputs": [],
   "source": [
    "pphi = smp.diff(L,phi_t)"
   ]
  },
  {
   "cell_type": "code",
   "execution_count": 39,
   "id": "91f91a68-b9b8-4350-86f5-d8034c854ef4",
   "metadata": {},
   "outputs": [
    {
     "data": {
      "text/latex": [
       "$\\displaystyle a^{2} m \\sin^{2}{\\left(\\theta{\\left(t \\right)} \\right)} \\frac{d}{d t} \\phi{\\left(t \\right)}$"
      ],
      "text/plain": [
       "a**2*m*sin(\\theta(t))**2*Derivative(\\phi(t), t)"
      ]
     },
     "execution_count": 39,
     "metadata": {},
     "output_type": "execute_result"
    }
   ],
   "source": [
    "pphi.simplify()"
   ]
  },
  {
   "cell_type": "markdown",
   "id": "fbff5744-7b30-45c9-a0e8-b460303fe402",
   "metadata": {},
   "source": [
    "Entonces lo que voy a hacer es sustituir esto en la ecuación de $\\theta_{tt}$"
   ]
  },
  {
   "cell_type": "code",
   "execution_count": 62,
   "id": "1ac95469-1d00-4792-8f00-28098ec01e4b",
   "metadata": {},
   "outputs": [
    {
     "data": {
      "text/latex": [
       "$\\displaystyle \\frac{g \\sin{\\left(\\theta{\\left(t \\right)} \\right)}}{a} + \\frac{p_{\\phi}^{2} \\cos{\\left(\\theta{\\left(t \\right)} \\right)}}{a^{4} m^{2} \\sin^{3}{\\left(\\theta{\\left(t \\right)} \\right)}}$"
      ],
      "text/plain": [
       "g*sin(\\theta(t))/a + p_{\\phi}**2*cos(\\theta(t))/(a**4*m**2*sin(\\theta(t))**3)"
      ]
     },
     "execution_count": 62,
     "metadata": {},
     "output_type": "execute_result"
    }
   ],
   "source": [
    "p = smp.symbols(r'p_{\\phi}')\n",
    "phi_t2 = p/(a**2*m*smp.sin(the)**2)\n",
    "sol_the_tt.subs(phi_t, phi_t2).simplify().expand()"
   ]
  },
  {
   "cell_type": "markdown",
   "id": "d95a5428-63a0-48bc-ba12-9893c42b3951",
   "metadata": {},
   "source": [
    "Esto sin embargo no modifica mi expresión guardada en `sol_the_tt`, solo hace la sustitución necesaria para mostrarmelo por pantalla. Lo que tengo que hacer entonces es sobre escribir esa variable con la nueva expresión, tengo que hacer esa asignación."
   ]
  },
  {
   "cell_type": "code",
   "execution_count": 63,
   "id": "e5a0e93f-1e70-41a9-8fd7-d4aa28abcb92",
   "metadata": {},
   "outputs": [
    {
     "data": {
      "text/latex": [
       "$\\displaystyle \\sin{\\left(\\theta{\\left(t \\right)} \\right)} \\cos{\\left(\\theta{\\left(t \\right)} \\right)} \\left(\\frac{d}{d t} \\phi{\\left(t \\right)}\\right)^{2} + \\frac{g \\sin{\\left(\\theta{\\left(t \\right)} \\right)}}{a}$"
      ],
      "text/plain": [
       "sin(\\theta(t))*cos(\\theta(t))*Derivative(\\phi(t), t)**2 + g*sin(\\theta(t))/a"
      ]
     },
     "execution_count": 63,
     "metadata": {},
     "output_type": "execute_result"
    }
   ],
   "source": [
    "sol_the_tt.simplify().expand()"
   ]
  },
  {
   "cell_type": "code",
   "execution_count": 64,
   "id": "cae02142-3b71-4e03-b0d5-bffaa3b6803d",
   "metadata": {},
   "outputs": [],
   "source": [
    "sol_the_tt = sol_the_tt.subs(phi_t, phi_t2).simplify().expand()"
   ]
  },
  {
   "cell_type": "code",
   "execution_count": 65,
   "id": "2ff0adae-0d1e-4f06-830f-546e56b0b064",
   "metadata": {},
   "outputs": [
    {
     "data": {
      "text/latex": [
       "$\\displaystyle \\frac{g \\sin{\\left(\\theta{\\left(t \\right)} \\right)}}{a} + \\frac{p_{\\phi}^{2} \\cos{\\left(\\theta{\\left(t \\right)} \\right)}}{a^{4} m^{2} \\sin^{3}{\\left(\\theta{\\left(t \\right)} \\right)}}$"
      ],
      "text/plain": [
       "g*sin(\\theta(t))/a + p_{\\phi}**2*cos(\\theta(t))/(a**4*m**2*sin(\\theta(t))**3)"
      ]
     },
     "execution_count": 65,
     "metadata": {},
     "output_type": "execute_result"
    }
   ],
   "source": [
    "sol_the_tt"
   ]
  },
  {
   "cell_type": "markdown",
   "id": "140074f8-c69a-4351-8e80-4fb859e2961b",
   "metadata": {},
   "source": [
    "Ahora sí, tengo mi expresión deseada para $\\ddot\\theta$, solo queda resolver la ecuación diferencial numéricamente."
   ]
  },
  {
   "cell_type": "code",
   "execution_count": 74,
   "id": "57ebfb43-8965-44d2-a9e7-c7a6f8a449fd",
   "metadata": {},
   "outputs": [],
   "source": [
    "dwdt_f = smp.lambdify((t,g,m,a,p,the,the_t), sol_the_tt)\n",
    "dthedt_f = smp.lambdify(the_t,the_t)"
   ]
  },
  {
   "cell_type": "code",
   "execution_count": 75,
   "id": "ae1827c6-83c6-49ba-8eeb-aeaffc7b654b",
   "metadata": {},
   "outputs": [],
   "source": [
    "def dSdt(S,t,g,m,a,p):\n",
    "    the, w = S\n",
    "    return [\n",
    "        dthedt_f(w),\n",
    "        dwdt_f(t,g,m,a,p, the, w)\n",
    "    ]"
   ]
  },
  {
   "cell_type": "code",
   "execution_count": 76,
   "id": "3191b796-6080-4325-8b66-9a6f141aa103",
   "metadata": {},
   "outputs": [],
   "source": [
    "from scipy.integrate import odeint\n",
    "import numpy as np"
   ]
  },
  {
   "cell_type": "code",
   "execution_count": 82,
   "id": "1b442fc7-b660-4047-8408-ce85917090d3",
   "metadata": {},
   "outputs": [
    {
     "name": "stdout",
     "output_type": "stream",
     "text": [
      " lsoda--  warning..internal t (=r1) and h (=r2) are\u0000\u0000\n",
      "       such that in the machine, t + h = t on the next step  \n",
      "       (h = step size). solver will continue anyway\u0000\u0000\n",
      "      in above,  r1 =  0.0000000000000D+00   r2 =  0.0000000000000D+00\n",
      " intdy--  t (=r1) illegal      \u0000\u0000\n",
      "      in above message,  r1 =  0.1000000000000D-01\n",
      "      t not in interval tcur - hu (= r1) to tcur (=r2)       \n",
      "      in above,  r1 =  0.0000000000000D+00   r2 =  0.0000000000000D+00\n",
      " intdy--  t (=r1) illegal      \u0000\u0000\n",
      "      in above message,  r1 =  0.2000000000000D-01\n",
      "      t not in interval tcur - hu (= r1) to tcur (=r2)       \n",
      "      in above,  r1 =  0.0000000000000D+00   r2 =  0.0000000000000D+00\n",
      " lsoda--  trouble from intdy. itask = i1, tout = r1\u0000\u0000\n",
      "      in above message,  i1 =         1\n",
      "      in above message,  r1 =  0.2000000000000D-01\n"
     ]
    }
   ],
   "source": [
    "t_e = np.linspace(1,10,1001)\n",
    "g_e = 9.81\n",
    "m_e = 1\n",
    "a_e = 2\n",
    "p_e = 1\n",
    "condinic = [0, np.pi/5]\n",
    "ans = odeint(dSdt, y0= condinic, t=t_e, args=(g_e,m_e,a_e,p_e))"
   ]
  },
  {
   "cell_type": "code",
   "execution_count": 81,
   "id": "23429bb0-72cd-40a5-9893-b9d325c94275",
   "metadata": {},
   "outputs": [
    {
     "data": {
      "text/plain": [
       "array([[0.        ,        nan,        nan, ..., 0.        , 0.        ,\n",
       "        0.        ],\n",
       "       [0.62831853,        nan,        nan, ..., 0.        , 0.        ,\n",
       "        0.        ]])"
      ]
     },
     "execution_count": 81,
     "metadata": {},
     "output_type": "execute_result"
    }
   ],
   "source": [
    "ans[0].T"
   ]
  },
  {
   "cell_type": "markdown",
   "id": "8ec46b08-d8f9-4126-9b97-6c70b72d49ef",
   "metadata": {},
   "source": [
    "Bueno ni idea porqué el `odeint` no me dejó resolver el sistema de ecuaciones. Me quedaré con las ganas de resolver el sistema pero por lo menos me quedo tranquilo que no es lo que me pedían tampoco."
   ]
  },
  {
   "cell_type": "code",
   "execution_count": null,
   "id": "dee411be-a36f-4a6c-a53f-e3b9c5b5fbfb",
   "metadata": {},
   "outputs": [],
   "source": []
  }
 ],
 "metadata": {
  "kernelspec": {
   "display_name": "Python 3 (ipykernel)",
   "language": "python",
   "name": "python3"
  },
  "language_info": {
   "codemirror_mode": {
    "name": "ipython",
    "version": 3
   },
   "file_extension": ".py",
   "mimetype": "text/x-python",
   "name": "python",
   "nbconvert_exporter": "python",
   "pygments_lexer": "ipython3",
   "version": "3.8.10"
  }
 },
 "nbformat": 4,
 "nbformat_minor": 5
}
