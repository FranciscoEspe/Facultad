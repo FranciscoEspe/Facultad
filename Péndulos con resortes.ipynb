{
 "cells": [
  {
   "cell_type": "markdown",
   "id": "1d5a3f93-dc4d-48e3-8b2a-a4163866555c",
   "metadata": {},
   "source": [
    "# Enunciado\n",
    "Dos péndulos de longitud $l$ y masa $m$ están separados una distancia $2d$ y unidos por un resorte de longitud natural también $2d$ y constante $k$. Voy a encontrar las posiciones de equilibrio, y las ecuaciones de movimiento para pequeñas oscilaciones alrededor del punto de equilibrio estable."
   ]
  },
  {
   "cell_type": "markdown",
   "id": "98b24b18-4b51-4f00-ac8c-80e2ce0877a8",
   "metadata": {},
   "source": [
    "### Definiendo las variables y armando el lagrangiano"
   ]
  },
  {
   "cell_type": "code",
   "execution_count": 1,
   "id": "d0b2ad08-f78f-48ca-abce-ed2838c6cd6b",
   "metadata": {},
   "outputs": [],
   "source": [
    "import sympy as smp"
   ]
  },
  {
   "cell_type": "code",
   "execution_count": 2,
   "id": "f7cecac5-d12f-4b12-9d9e-e94593a3e56c",
   "metadata": {},
   "outputs": [],
   "source": [
    "d, l, k, m, g, t = smp.symbols('d l k m g t')\n",
    "the1, the2 = smp.symbols(r'\\theta_1 \\theta_2', cls=smp.Function)\n",
    "the1 = the1(t)\n",
    "the2 = the2(t)\n",
    "the1_t = smp.diff(the1,t)\n",
    "the2_t = smp.diff(the2,t)\n",
    "the1_tt = smp.diff(the1_t,t)\n",
    "the2_tt = smp.diff(the2_t,t)"
   ]
  },
  {
   "cell_type": "code",
   "execution_count": 3,
   "id": "173d3043-7c42-4f9f-8bfc-af72ad4114ca",
   "metadata": {},
   "outputs": [],
   "source": [
    "x1 = -d + l*smp.sin(the1)\n",
    "x2 = d + l*smp.sin(the2)\n",
    "y1 = - l*smp.cos(the1)\n",
    "y2 = - l*smp.cos(the2)\n",
    "\n",
    "T = smp.Rational(1,2)*m*(smp.diff(x1,t)**2+smp.diff(y1,t)**2+smp.diff(x2,t)**2+smp.diff(y2,t)**2)\n",
    "U = m*g*(y1+y2) + smp.Rational(1,2)*k*(2*d-(x2-x1))**2\n",
    "L = T-U"
   ]
  },
  {
   "cell_type": "code",
   "execution_count": 4,
   "id": "b3ef107b-a191-4117-b61c-5d94a2556997",
   "metadata": {},
   "outputs": [
    {
     "data": {
      "text/latex": [
       "$\\displaystyle \\frac{l \\left(- 2 g m \\left(\\cos{\\left(\\theta_{1}{\\left(t \\right)} \\right)} + \\cos{\\left(\\theta_{2}{\\left(t \\right)} \\right)}\\right) + k l \\left(\\sin{\\left(\\theta_{1}{\\left(t \\right)} \\right)} - \\sin{\\left(\\theta_{2}{\\left(t \\right)} \\right)}\\right)^{2}\\right)}{2}$"
      ],
      "text/plain": [
       "l*(-2*g*m*(cos(\\theta_1(t)) + cos(\\theta_2(t))) + k*l*(sin(\\theta_1(t)) - sin(\\theta_2(t)))**2)/2"
      ]
     },
     "execution_count": 4,
     "metadata": {},
     "output_type": "execute_result"
    }
   ],
   "source": [
    "U.simplify()"
   ]
  },
  {
   "cell_type": "markdown",
   "id": "400ea22a-e3ce-4e8c-a09c-1a1fc0ad10d1",
   "metadata": {},
   "source": [
    "### Encontrando los puntos de equilibrio\n",
    "Para eso vamos a resolver \n",
    "$$\n",
    "\\vec\\nabla U = \\vec0\n",
    "$$"
   ]
  },
  {
   "cell_type": "code",
   "execution_count": 5,
   "id": "99295e86-e6e2-4491-99b0-34eb468c0f4f",
   "metadata": {},
   "outputs": [
    {
     "data": {
      "text/plain": [
       "[l*(g*m*sin(\\theta_1(t)) + k*l*(sin(\\theta_1(t)) - sin(\\theta_2(t)))*cos(\\theta_1(t))),\n",
       " l*(g*m*sin(\\theta_2(t)) - k*l*(sin(\\theta_1(t)) - sin(\\theta_2(t)))*cos(\\theta_2(t)))]"
      ]
     },
     "execution_count": 5,
     "metadata": {},
     "output_type": "execute_result"
    }
   ],
   "source": [
    "var = [the1, the2]\n",
    "grad = [smp.diff(U,z).simplify() for z in var]\n",
    "grad"
   ]
  },
  {
   "cell_type": "markdown",
   "id": "9594de2e-81af-4bb6-a376-63c340499815",
   "metadata": {},
   "source": [
    "### Bueno\n",
    "Por alguna razón `sympy` no puede resolver este sistema que se resuelve al menos con $\\theta_1 = \\theta_2 = 0 \\lor \\pi$. Así que voy a armar mi array de puntos críticos a manopla."
   ]
  },
  {
   "cell_type": "code",
   "execution_count": 48,
   "id": "137d0dcc-1a30-41d1-8936-9376e2fa2232",
   "metadata": {},
   "outputs": [
    {
     "data": {
      "text/plain": [
       "[(0, 0),\n",
       " (0, pi),\n",
       " (I*atanh(tanh(log(-(g*m - sqrt(g**2*m**2 - 4*k**2*l**2))/(2*k*l)))),\n",
       "  -I*log(-(g*m - sqrt(g**2*m**2 - 4*k**2*l**2))/(2*k*l))),\n",
       " (I*atanh(tanh(log(-(g*m + sqrt(g**2*m**2 - 4*k**2*l**2))/(2*k*l)))),\n",
       "  -I*log(-(g*m + sqrt(g**2*m**2 - 4*k**2*l**2))/(2*k*l)))]"
      ]
     },
     "execution_count": 48,
     "metadata": {},
     "output_type": "execute_result"
    }
   ],
   "source": [
    "crit = smp.solve([smp.tan(the1)+smp.tan(the2), smp.tan(the2)-k*l/(m*g)*(smp.sin(the1)-smp.sin(the2))], var)\n",
    "crit"
   ]
  },
  {
   "cell_type": "code",
   "execution_count": 7,
   "id": "7e0d5d3d-d1ad-4a44-8cd0-6ca7a8f40232",
   "metadata": {},
   "outputs": [
    {
     "data": {
      "text/plain": [
       "[0, pi]"
      ]
     },
     "execution_count": 7,
     "metadata": {},
     "output_type": "execute_result"
    }
   ],
   "source": [
    "crit = [0, smp.pi]\n",
    "crit"
   ]
  },
  {
   "cell_type": "code",
   "execution_count": 18,
   "id": "31d5ea9e-f8c1-44e4-bab3-74d0e54c1643",
   "metadata": {},
   "outputs": [],
   "source": [
    "hess = smp.MutableDenseMatrix([[smp.diff(grad[0], z) for z in var],[smp.diff(grad[1], z) for z in var]])"
   ]
  },
  {
   "cell_type": "code",
   "execution_count": 19,
   "id": "5bf0639c-c1a1-4c4a-b62b-ae7913db96b7",
   "metadata": {},
   "outputs": [
    {
     "data": {
      "text/latex": [
       "$\\displaystyle \\left[\\begin{matrix}l \\left(g m \\cos{\\left(\\theta_{1}{\\left(t \\right)} \\right)} - k l \\left(\\sin{\\left(\\theta_{1}{\\left(t \\right)} \\right)} - \\sin{\\left(\\theta_{2}{\\left(t \\right)} \\right)}\\right) \\sin{\\left(\\theta_{1}{\\left(t \\right)} \\right)} + k l \\cos^{2}{\\left(\\theta_{1}{\\left(t \\right)} \\right)}\\right) & - k l^{2} \\cos{\\left(\\theta_{1}{\\left(t \\right)} \\right)} \\cos{\\left(\\theta_{2}{\\left(t \\right)} \\right)}\\\\- k l^{2} \\cos{\\left(\\theta_{1}{\\left(t \\right)} \\right)} \\cos{\\left(\\theta_{2}{\\left(t \\right)} \\right)} & l \\left(g m \\cos{\\left(\\theta_{2}{\\left(t \\right)} \\right)} + k l \\left(\\sin{\\left(\\theta_{1}{\\left(t \\right)} \\right)} - \\sin{\\left(\\theta_{2}{\\left(t \\right)} \\right)}\\right) \\sin{\\left(\\theta_{2}{\\left(t \\right)} \\right)} + k l \\cos^{2}{\\left(\\theta_{2}{\\left(t \\right)} \\right)}\\right)\\end{matrix}\\right]$"
      ],
      "text/plain": [
       "Matrix([\n",
       "[l*(g*m*cos(\\theta_1(t)) - k*l*(sin(\\theta_1(t)) - sin(\\theta_2(t)))*sin(\\theta_1(t)) + k*l*cos(\\theta_1(t))**2),                                                                       -k*l**2*cos(\\theta_1(t))*cos(\\theta_2(t))],\n",
       "[                                                                      -k*l**2*cos(\\theta_1(t))*cos(\\theta_2(t)), l*(g*m*cos(\\theta_2(t)) + k*l*(sin(\\theta_1(t)) - sin(\\theta_2(t)))*sin(\\theta_2(t)) + k*l*cos(\\theta_2(t))**2)]])"
      ]
     },
     "execution_count": 19,
     "metadata": {},
     "output_type": "execute_result"
    }
   ],
   "source": [
    "hess"
   ]
  },
  {
   "cell_type": "code",
   "execution_count": 15,
   "id": "65ae587f-ee65-4b69-88b4-38ab2062759e",
   "metadata": {},
   "outputs": [
    {
     "data": {
      "text/latex": [
       "$\\displaystyle \\left[\\begin{matrix}l \\left(g m + k l\\right) & - k l^{2}\\\\- k l^{2} & l \\left(g m + k l\\right)\\end{matrix}\\right]$"
      ],
      "text/plain": [
       "Matrix([\n",
       "[l*(g*m + k*l),       -k*l**2],\n",
       "[      -k*l**2, l*(g*m + k*l)]])"
      ]
     },
     "execution_count": 15,
     "metadata": {},
     "output_type": "execute_result"
    }
   ],
   "source": [
    "hess.subs([(the1,crit[0]),(the2,crit[0])])"
   ]
  },
  {
   "cell_type": "code",
   "execution_count": 29,
   "id": "4fe002d1-bf73-4764-8738-58f61c16078d",
   "metadata": {},
   "outputs": [
    {
     "data": {
      "text/plain": [
       "[l*(g*m + k*l), l*(-g*m + k*l)]"
      ]
     },
     "execution_count": 29,
     "metadata": {},
     "output_type": "execute_result"
    }
   ],
   "source": [
    "[hess[0].subs([(the1,crit[i]),(the2,crit[i])]) for i in [0,1]]"
   ]
  },
  {
   "cell_type": "code",
   "execution_count": 34,
   "id": "08ae8279-150b-4f72-b21e-f545e8e5658a",
   "metadata": {},
   "outputs": [
    {
     "data": {
      "text/plain": [
       "[-k**2*l**4 + l**2*(g*m + k*l)**2, -k**2*l**4 + l**2*(-g*m + k*l)**2]"
      ]
     },
     "execution_count": 34,
     "metadata": {},
     "output_type": "execute_result"
    }
   ],
   "source": [
    "[hess.det().subs([(the1,crit[i]),(the2,crit[i])]) for i in [0,1]]"
   ]
  },
  {
   "cell_type": "markdown",
   "id": "0a8eab85-7adc-408a-b574-fd184bf578d6",
   "metadata": {},
   "source": [
    "Si bien podemos confirmar que para $\\theta_1 = \\theta_2 = 0$ tenemos un mínimo, porque tanto $H_{11}$ como su determinante son positivos, con el criterio de Sylvester no puedo decir que en $\\theta_1 = \\theta_2 = \\pi$ tenga un máximo, porque depende de una relación entre $kl-gm$. Debería usar el criterio de los autovalores, pero eso queda para otro día. Hago la expansión alrededor de los $\\theta = 0$"
   ]
  },
  {
   "cell_type": "markdown",
   "id": "f17bea67-1b2b-4631-a7eb-38e5d1e383a5",
   "metadata": {},
   "source": [
    "### Ecuaciones de movimiento"
   ]
  },
  {
   "cell_type": "code",
   "execution_count": 8,
   "id": "3115709e-90e5-4a3e-bdec-5dc7c2611516",
   "metadata": {},
   "outputs": [],
   "source": [
    "EL1 = smp.diff(smp.diff(L, the1_t), t) - smp.diff(L,the1)\n",
    "EL2 = smp.diff(smp.diff(L, the2_t), t) - smp.diff(L,the2)"
   ]
  },
  {
   "cell_type": "code",
   "execution_count": 9,
   "id": "0098e2e3-1f77-4a6e-838e-ce9247040674",
   "metadata": {},
   "outputs": [],
   "source": [
    "sols = smp.solve([EL1,EL2], [the1_tt,the2_tt])"
   ]
  },
  {
   "cell_type": "code",
   "execution_count": 10,
   "id": "24aba084-6a0f-4845-b476-78fbff85ca84",
   "metadata": {},
   "outputs": [
    {
     "data": {
      "text/latex": [
       "$\\displaystyle - \\frac{g \\sin{\\left(\\theta_{1}{\\left(t \\right)} \\right)}}{l} - \\frac{k \\sin{\\left(2 \\theta_{1}{\\left(t \\right)} \\right)}}{2 m} + \\frac{k \\sin{\\left(\\theta_{2}{\\left(t \\right)} \\right)} \\cos{\\left(\\theta_{1}{\\left(t \\right)} \\right)}}{m}$"
      ],
      "text/plain": [
       "-g*sin(\\theta_1(t))/l - k*sin(2*\\theta_1(t))/(2*m) + k*sin(\\theta_2(t))*cos(\\theta_1(t))/m"
      ]
     },
     "execution_count": 10,
     "metadata": {},
     "output_type": "execute_result"
    }
   ],
   "source": [
    "sols[the1_tt]"
   ]
  },
  {
   "cell_type": "code",
   "execution_count": 11,
   "id": "fd86a403-e47d-46f6-92f3-cf676ed33b25",
   "metadata": {},
   "outputs": [
    {
     "data": {
      "text/latex": [
       "$\\displaystyle - \\frac{g \\sin{\\left(\\theta_{2}{\\left(t \\right)} \\right)}}{l} + \\frac{k \\sin{\\left(\\theta_{1}{\\left(t \\right)} \\right)} \\cos{\\left(\\theta_{2}{\\left(t \\right)} \\right)}}{m} - \\frac{k \\sin{\\left(2 \\theta_{2}{\\left(t \\right)} \\right)}}{2 m}$"
      ],
      "text/plain": [
       "-g*sin(\\theta_2(t))/l + k*sin(\\theta_1(t))*cos(\\theta_2(t))/m - k*sin(2*\\theta_2(t))/(2*m)"
      ]
     },
     "execution_count": 11,
     "metadata": {},
     "output_type": "execute_result"
    }
   ],
   "source": [
    "sols[the2_tt]"
   ]
  },
  {
   "cell_type": "markdown",
   "id": "8a3dee7e-17ad-4708-9c3c-2ad0319c2521",
   "metadata": {},
   "source": [
    "Bueno, después de asumir que las oscilaciones son pequeñas, o sea que $\\theta_i \\approx 0$, y que $\\theta_i = a_i e^{i\\omega t}$, y reemplazando todo esto en las ecuaciones de movimiento que obtuve arriba gracias a EL llego al sistema de ecuaciones homogeneo $Wa = 0$."
   ]
  },
  {
   "cell_type": "code",
   "execution_count": 35,
   "id": "098e4ed2-29e7-44fe-976e-919ed25ea3b1",
   "metadata": {},
   "outputs": [
    {
     "data": {
      "text/latex": [
       "$\\displaystyle \\left[\\begin{matrix}\\omega^{2} - \\frac{g}{l} - \\frac{k}{m} & \\frac{k}{m}\\\\\\frac{k}{m} & \\omega^{2} - \\frac{g}{l} - \\frac{k}{m}\\end{matrix}\\right]$"
      ],
      "text/plain": [
       "Matrix([\n",
       "[\\omega**2 - g/l - k/m,                   k/m],\n",
       "[                  k/m, \\omega**2 - g/l - k/m]])"
      ]
     },
     "execution_count": 35,
     "metadata": {},
     "output_type": "execute_result"
    }
   ],
   "source": [
    "w = smp.symbols(r'\\omega')\n",
    "W = smp.MutableDenseMatrix([[w**2-g/l-k/m, k/m],[k/m, w**2-g/l-k/m]])\n",
    "W"
   ]
  },
  {
   "cell_type": "markdown",
   "id": "3ca6fe4a-739e-4483-b754-caa77c8df6ea",
   "metadata": {},
   "source": [
    "Para que el sistema tenga solución aparte de la trivial, el determinante de esta matriz tiene que ser no nulo"
   ]
  },
  {
   "cell_type": "code",
   "execution_count": 43,
   "id": "e3186047-649a-4234-adae-da57c0a8957f",
   "metadata": {},
   "outputs": [
    {
     "data": {
      "text/latex": [
       "$\\displaystyle - \\frac{k^{2}}{m^{2}} + \\left(\\omega^{2} - \\frac{g}{l} - \\frac{k}{m}\\right)^{2}$"
      ],
      "text/plain": [
       "-k**2/m**2 + (\\omega**2 - g/l - k/m)**2"
      ]
     },
     "execution_count": 43,
     "metadata": {},
     "output_type": "execute_result"
    }
   ],
   "source": [
    "W.det()"
   ]
  },
  {
   "cell_type": "code",
   "execution_count": 42,
   "id": "a4393e5d-4345-488a-8915-f19aaaa26432",
   "metadata": {},
   "outputs": [
    {
     "data": {
      "text/plain": [
       "[-sqrt(g/l), sqrt(g/l), -sqrt(g/l + 2*k/m), sqrt(g/l + 2*k/m)]"
      ]
     },
     "execution_count": 42,
     "metadata": {},
     "output_type": "execute_result"
    }
   ],
   "source": [
    "smp.solve(W.det(), w)"
   ]
  },
  {
   "cell_type": "markdown",
   "id": "abe7cf99-6102-4567-97a9-47483f988c16",
   "metadata": {},
   "source": [
    "Sustituyendo esto en el sistema de ecuaciones y resolviendo para $a$ me debería dar la información para imaginarme el movimiento que van a hacer. Es decir, los signos y las amplitudes relativas me dicen en qué sentido se van a mover y cuánto una respecto a la otra."
   ]
  },
  {
   "cell_type": "code",
   "execution_count": 54,
   "id": "a0719ae6-bb9b-44e3-9699-d8964fb91389",
   "metadata": {},
   "outputs": [],
   "source": [
    "W1 = W.subs(w, smp.sqrt(g/l)).col_insert(2,smp.Matrix([0,0]))\n",
    "W2 = W.subs(w, smp.sqrt(g/l+k/m)).col_insert(2,smp.Matrix([0,0]))"
   ]
  },
  {
   "cell_type": "code",
   "execution_count": 56,
   "id": "a1482a96-6637-43c2-b036-c1c1a500310a",
   "metadata": {},
   "outputs": [
    {
     "data": {
      "text/plain": [
       "{a_1: a_2}"
      ]
     },
     "execution_count": 56,
     "metadata": {},
     "output_type": "execute_result"
    }
   ],
   "source": [
    "a1, a2 = smp.symbols(r'a_1 a_2')\n",
    "smp.solve_linear_system(W1, a1, a2)"
   ]
  },
  {
   "cell_type": "code",
   "execution_count": 58,
   "id": "35074156-97ae-440f-af12-754dd7d12a1e",
   "metadata": {},
   "outputs": [
    {
     "data": {
      "text/plain": [
       "{a_1: 0, a_2: 0}"
      ]
     },
     "execution_count": 58,
     "metadata": {},
     "output_type": "execute_result"
    }
   ],
   "source": [
    "smp.solve_linear_system(W2, a1, a2)"
   ]
  },
  {
   "cell_type": "code",
   "execution_count": null,
   "id": "d26eece5-73fc-4c1c-acfc-ed51644055aa",
   "metadata": {},
   "outputs": [],
   "source": []
  }
 ],
 "metadata": {
  "kernelspec": {
   "display_name": "Python 3 (ipykernel)",
   "language": "python",
   "name": "python3"
  },
  "language_info": {
   "codemirror_mode": {
    "name": "ipython",
    "version": 3
   },
   "file_extension": ".py",
   "mimetype": "text/x-python",
   "name": "python",
   "nbconvert_exporter": "python",
   "pygments_lexer": "ipython3",
   "version": "3.8.10"
  }
 },
 "nbformat": 4,
 "nbformat_minor": 5
}
