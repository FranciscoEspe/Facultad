{
 "cells": [
  {
   "cell_type": "markdown",
   "id": "8231ad42-ade4-4419-9a19-7e5685b7e928",
   "metadata": {},
   "source": [
    "# Enunciado\n",
    "Tengo dos masas $m_1$ y $m_2$ unidas por resortes de constantes $k_1$ y $k_2$ respectivamente. Voy a encontrar las posiciones de equilibrio y aproximar por pequeñas oscilaciones."
   ]
  },
  {
   "cell_type": "code",
   "execution_count": 2,
   "id": "d79f2c7d-bf78-4c22-ab44-98ab302d063a",
   "metadata": {},
   "outputs": [],
   "source": [
    "import sympy as smp"
   ]
  },
  {
   "cell_type": "code",
   "execution_count": 3,
   "id": "5c48176c-e718-4b17-b3cc-b282ba6dad8a",
   "metadata": {},
   "outputs": [],
   "source": [
    "t, g, m1, m2, k1, k2, l10, l20 = smp.symbols(r't g m_1 m_2 k_1 k_2 l_{10} l_{20}', real=True)\n",
    "h1, h2 = smp.symbols(r'h_1 h_2', cls = smp.Function)\n",
    "h1 = h1(t); h2 = h2(t); h1_t = smp.diff(h1,t); h2_t = smp.diff(h2,t)\n",
    "T = smp.Rational(1,2) * (m1 * h1_t**2 + m2 * h2_t**2)\n",
    "U = - m1*g*h1 - m2*g*h2 + smp.Rational(1,2)*k1* (l10-h1)**2 + smp.Rational(1,2)*k2*(h1+l20-h2)**2\n",
    "L = T-U"
   ]
  },
  {
   "cell_type": "markdown",
   "id": "8f4643f1-51da-4529-b60f-98f96b41db9b",
   "metadata": {},
   "source": [
    "### Calculo los puntos críticos del potencial"
   ]
  },
  {
   "cell_type": "code",
   "execution_count": 4,
   "id": "3c794b82-78d3-47d9-b312-26aecb15cab4",
   "metadata": {},
   "outputs": [
    {
     "data": {
      "text/latex": [
       "$\\displaystyle - g m_{1} \\operatorname{h_{1}}{\\left(t \\right)} - g m_{2} \\operatorname{h_{2}}{\\left(t \\right)} + \\frac{k_{1} \\left(l_{10} - \\operatorname{h_{1}}{\\left(t \\right)}\\right)^{2}}{2} + \\frac{k_{2} \\left(l_{20} + \\operatorname{h_{1}}{\\left(t \\right)} - \\operatorname{h_{2}}{\\left(t \\right)}\\right)^{2}}{2}$"
      ],
      "text/plain": [
       "-g*m_1*h_1(t) - g*m_2*h_2(t) + k_1*(l_{10} - h_1(t))**2/2 + k_2*(l_{20} + h_1(t) - h_2(t))**2/2"
      ]
     },
     "execution_count": 4,
     "metadata": {},
     "output_type": "execute_result"
    }
   ],
   "source": [
    "U"
   ]
  },
  {
   "cell_type": "code",
   "execution_count": 5,
   "id": "1b74ce46-b4d9-475a-9ad8-2c63114f339f",
   "metadata": {},
   "outputs": [],
   "source": [
    "var = [h1,h2]\n",
    "grad_U = [smp.diff(U,z).simplify() for z in var]"
   ]
  },
  {
   "cell_type": "code",
   "execution_count": 6,
   "id": "1377fbab-7eb5-4723-8f8f-61365cef660b",
   "metadata": {},
   "outputs": [
    {
     "data": {
      "text/plain": [
       "[-g*m_1 - k_1*(l_{10} - h_1(t)) + k_2*(l_{20} + h_1(t) - h_2(t)),\n",
       " -g*m_2 - k_2*(l_{20} + h_1(t) - h_2(t))]"
      ]
     },
     "execution_count": 6,
     "metadata": {},
     "output_type": "execute_result"
    }
   ],
   "source": [
    "grad_U"
   ]
  },
  {
   "cell_type": "code",
   "execution_count": 7,
   "id": "f0a62c5f-9c22-4f24-a661-3579cde48535",
   "metadata": {},
   "outputs": [
    {
     "data": {
      "text/latex": [
       "$\\displaystyle - g m_{1} - k_{1} \\left(l_{10} - \\operatorname{h_{1}}{\\left(t \\right)}\\right) + k_{2} \\left(l_{20} + \\operatorname{h_{1}}{\\left(t \\right)} - \\operatorname{h_{2}}{\\left(t \\right)}\\right)$"
      ],
      "text/plain": [
       "-g*m_1 - k_1*(l_{10} - h_1(t)) + k_2*(l_{20} + h_1(t) - h_2(t))"
      ]
     },
     "execution_count": 7,
     "metadata": {},
     "output_type": "execute_result"
    }
   ],
   "source": [
    "grad_U[0]"
   ]
  },
  {
   "cell_type": "code",
   "execution_count": 8,
   "id": "5a12ab65-7647-411a-864f-0c09760b44f9",
   "metadata": {},
   "outputs": [
    {
     "data": {
      "text/latex": [
       "$\\displaystyle - g m_{2} - k_{2} \\left(l_{20} + \\operatorname{h_{1}}{\\left(t \\right)} - \\operatorname{h_{2}}{\\left(t \\right)}\\right)$"
      ],
      "text/plain": [
       "-g*m_2 - k_2*(l_{20} + h_1(t) - h_2(t))"
      ]
     },
     "execution_count": 8,
     "metadata": {},
     "output_type": "execute_result"
    }
   ],
   "source": [
    "grad_U[1]"
   ]
  },
  {
   "cell_type": "code",
   "execution_count": 9,
   "id": "60d3b37d-6d82-4665-8060-11afc7ec701b",
   "metadata": {},
   "outputs": [],
   "source": [
    "crit = smp.solve(grad_U, var)"
   ]
  },
  {
   "cell_type": "code",
   "execution_count": 10,
   "id": "e7df37d6-e9e3-4c14-88a2-0482b8982266",
   "metadata": {},
   "outputs": [
    {
     "data": {
      "text/latex": [
       "$\\displaystyle \\frac{g m_{1}}{k_{1}} + \\frac{g m_{2}}{k_{1}} + l_{10}$"
      ],
      "text/plain": [
       "g*m_1/k_1 + g*m_2/k_1 + l_{10}"
      ]
     },
     "execution_count": 10,
     "metadata": {},
     "output_type": "execute_result"
    }
   ],
   "source": [
    "eq1 = crit[h1].expand()\n",
    "crit[h1].expand()"
   ]
  },
  {
   "cell_type": "code",
   "execution_count": 11,
   "id": "e4d87ee4-3254-4f50-98ad-dfe8dc17c2ab",
   "metadata": {},
   "outputs": [
    {
     "data": {
      "text/latex": [
       "$\\displaystyle \\frac{g m_{2}}{k_{2}} + \\frac{g m_{1}}{k_{1}} + \\frac{g m_{2}}{k_{1}} + l_{10} + l_{20}$"
      ],
      "text/plain": [
       "g*m_2/k_2 + g*m_1/k_1 + g*m_2/k_1 + l_{10} + l_{20}"
      ]
     },
     "execution_count": 11,
     "metadata": {},
     "output_type": "execute_result"
    }
   ],
   "source": [
    "eq2 = crit[h2]\n",
    "crit[h2]"
   ]
  },
  {
   "cell_type": "markdown",
   "id": "84972323-e877-42c5-b2ee-3688e6cd88a1",
   "metadata": {},
   "source": [
    "Evalúo el potencial en los puntos encontrados. Vemos que los términos lineales se anulan,, lo que está de acuerdo con el hecho de que $\\vec\\nabla U=0$ en dichos puntos. O sea que solo nos queda una constante, que sería el $V_0$ y términos de orden cuadrático, que serían los de segundo orden en el desarrollo de Taylor. También se puede ver que los términos debido a la gravitatoria aparecen como constantes. Esto quiere decir que los pesos lo único que hacen es mover la posición de equilibrio, pero después lo que entra en juego es toda energía elástica."
   ]
  },
  {
   "cell_type": "code",
   "execution_count": 12,
   "id": "462f185e-b8dd-4f04-a63a-8e8a311c9b24",
   "metadata": {},
   "outputs": [
    {
     "data": {
      "text/latex": [
       "$\\displaystyle - \\frac{g^{2} m_{2}^{2}}{2 k_{2}} - \\frac{g^{2} m_{1}^{2}}{2 k_{1}} - \\frac{g^{2} m_{1} m_{2}}{k_{1}} - \\frac{g^{2} m_{2}^{2}}{2 k_{1}} - g l_{10} m_{1} - g l_{10} m_{2} - g l_{20} m_{2} + \\frac{k_{1} \\delta{y_1}^{2}{\\left(t \\right)}}{2} + \\frac{k_{2} \\delta{y_1}^{2}{\\left(t \\right)}}{2} - k_{2} \\delta{y_1}{\\left(t \\right)} \\delta{y_2}{\\left(t \\right)} + \\frac{k_{2} \\delta{y_2}^{2}{\\left(t \\right)}}{2}$"
      ],
      "text/plain": [
       "-g**2*m_2**2/(2*k_2) - g**2*m_1**2/(2*k_1) - g**2*m_1*m_2/k_1 - g**2*m_2**2/(2*k_1) - g*l_{10}*m_1 - g*l_{10}*m_2 - g*l_{20}*m_2 + k_1*\\delta{y_1}(t)**2/2 + k_2*\\delta{y_1}(t)**2/2 - k_2*\\delta{y_1}(t)*\\delta{y_2}(t) + k_2*\\delta{y_2}(t)**2/2"
      ]
     },
     "execution_count": 12,
     "metadata": {},
     "output_type": "execute_result"
    }
   ],
   "source": [
    "dy1, dy2 = smp.symbols(r'\\delta{y_1} \\delta{y_2}', real=True, cls=smp.Function)\n",
    "dy1 = dy1(t); dy2 = dy2(t)\n",
    "dy1_t = smp.diff(dy1,t); dy1_tt = smp.diff(dy1_t,t)\n",
    "dy2_t = smp.diff(dy2,t); dy2_tt = smp.diff(dy2_t,t)\n",
    "y1 = eq1 + dy1\n",
    "y2 = eq2 + dy2\n",
    "U_eq = U.subs([(h1,y1),(h2,y2)])\n",
    "U_eq.expand()"
   ]
  },
  {
   "cell_type": "markdown",
   "id": "a806b156-9f2f-4441-be80-b25a2460712c",
   "metadata": {},
   "source": [
    "### EOM con pequeñas oscilaciones\n",
    "Ahora que tenemos el potencial en los puntos de equilibrio + una perturbación, podemos plantear el lagrangiano con esta misma aproximación."
   ]
  },
  {
   "cell_type": "code",
   "execution_count": 13,
   "id": "a8fdf4f1-92e7-4756-8977-3f59ea11211d",
   "metadata": {},
   "outputs": [
    {
     "data": {
      "text/latex": [
       "$\\displaystyle \\frac{g^{2} m_{2}^{2}}{2 k_{2}} + \\frac{g^{2} m_{1}^{2}}{2 k_{1}} + \\frac{g^{2} m_{1} m_{2}}{k_{1}} + \\frac{g^{2} m_{2}^{2}}{2 k_{1}} + g l_{10} m_{1} + g l_{10} m_{2} + g l_{20} m_{2} - \\frac{k_{1} \\delta{y_1}^{2}{\\left(t \\right)}}{2} - \\frac{k_{2} \\delta{y_1}^{2}{\\left(t \\right)}}{2} + k_{2} \\delta{y_1}{\\left(t \\right)} \\delta{y_2}{\\left(t \\right)} - \\frac{k_{2} \\delta{y_2}^{2}{\\left(t \\right)}}{2} + \\frac{m_{1} \\left(\\frac{d}{d t} \\delta{y_1}{\\left(t \\right)}\\right)^{2}}{2} + \\frac{m_{2} \\left(\\frac{d}{d t} \\delta{y_2}{\\left(t \\right)}\\right)^{2}}{2}$"
      ],
      "text/plain": [
       "g**2*m_2**2/(2*k_2) + g**2*m_1**2/(2*k_1) + g**2*m_1*m_2/k_1 + g**2*m_2**2/(2*k_1) + g*l_{10}*m_1 + g*l_{10}*m_2 + g*l_{20}*m_2 - k_1*\\delta{y_1}(t)**2/2 - k_2*\\delta{y_1}(t)**2/2 + k_2*\\delta{y_1}(t)*\\delta{y_2}(t) - k_2*\\delta{y_2}(t)**2/2 + m_1*Derivative(\\delta{y_1}(t), t)**2/2 + m_2*Derivative(\\delta{y_2}(t), t)**2/2"
      ]
     },
     "execution_count": 13,
     "metadata": {},
     "output_type": "execute_result"
    }
   ],
   "source": [
    "T_eq = T.subs([(h1,y1),(h2,y2)]).simplify()\n",
    "L_eq = T_eq - U_eq\n",
    "L_eq.expand()"
   ]
  },
  {
   "cell_type": "code",
   "execution_count": 14,
   "id": "a83f3e86-ca25-45ba-bbdc-80fbb0adc765",
   "metadata": {},
   "outputs": [],
   "source": [
    "EL1 = smp.diff(smp.diff(L_eq, dy1_t),t) - smp.diff(L_eq, dy1)\n",
    "EL2 = smp.diff(smp.diff(L_eq, dy2_t),t) - smp.diff(L_eq, dy2)\n",
    "sols = smp.solve([EL1, EL2], (dy1_tt, dy2_tt))"
   ]
  },
  {
   "cell_type": "code",
   "execution_count": 15,
   "id": "8a5f273e-1c49-4630-9f5b-833b190c1bb5",
   "metadata": {},
   "outputs": [],
   "source": [
    "ec1 = dy1_tt - sols[dy1_tt]\n",
    "ec2 = dy2_tt - sols[dy2_tt]"
   ]
  },
  {
   "cell_type": "code",
   "execution_count": 16,
   "id": "4bdca858-ca80-44b3-8933-14fa53195658",
   "metadata": {},
   "outputs": [],
   "source": [
    "a1, a2, w= smp.symbols('a1 a2 w')\n",
    "ec1_ans = (ec1.subs([(dy1, a1*smp.exp(smp.I * w*t)), (dy2, a2*smp.exp(smp.I * w*t))])/smp.exp(smp.I*w*t)).simplify()\n",
    "ec2_ans = (ec2.subs([(dy1, a1*smp.exp(smp.I * w*t)), (dy2, a2*smp.exp(smp.I * w*t))])/smp.exp(smp.I*w*t)).simplify()"
   ]
  },
  {
   "cell_type": "code",
   "execution_count": 17,
   "id": "9dc35b21-fab8-454f-b7c6-356acb415c46",
   "metadata": {},
   "outputs": [
    {
     "data": {
      "text/latex": [
       "$\\displaystyle - \\frac{a_{1} \\left(- k_{1} - k_{2} + m_{1} w^{2}\\right) + a_{2} k_{2}}{m_{1}}$"
      ],
      "text/plain": [
       "-(a1*(-k_1 - k_2 + m_1*w**2) + a2*k_2)/m_1"
      ]
     },
     "execution_count": 17,
     "metadata": {},
     "output_type": "execute_result"
    }
   ],
   "source": [
    "ec1_ans.factor(a1,a2)"
   ]
  },
  {
   "cell_type": "code",
   "execution_count": 18,
   "id": "a17436e7-e7b4-4572-bbf5-995a5ef2a8f6",
   "metadata": {},
   "outputs": [
    {
     "data": {
      "text/latex": [
       "$\\displaystyle - \\frac{a_{1} k_{2} + a_{2} \\left(- k_{2} + m_{2} w^{2}\\right)}{m_{2}}$"
      ],
      "text/plain": [
       "-(a1*k_2 + a2*(-k_2 + m_2*w**2))/m_2"
      ]
     },
     "execution_count": 18,
     "metadata": {},
     "output_type": "execute_result"
    }
   ],
   "source": [
    "ec2_ans.factor(a1,a2)"
   ]
  },
  {
   "cell_type": "code",
   "execution_count": 19,
   "id": "349c6de6-f635-4cba-b546-4292f036af2c",
   "metadata": {
    "tags": []
   },
   "outputs": [],
   "source": [
    "W = smp.linear_eq_to_matrix([ec1_ans,ec2_ans], [a1,a2])[0]\n",
    "modos = smp.solve(W.det(), w, simplify=True)\n",
    "matrices = []\n",
    "soluciones = []\n",
    "for i in range(4):\n",
    "    matrices.append(W.subs(w, modos[i]))\n",
    "    soluciones.append(smp.solve_linear_system(matrices[i].col_insert(2,smp.Matrix([0,0])), a1,a2)[a1])"
   ]
  },
  {
   "cell_type": "code",
   "execution_count": 20,
   "id": "e45a073c-ccac-4f8e-b2d8-c464b145d21c",
   "metadata": {},
   "outputs": [
    {
     "data": {
      "text/latex": [
       "$\\displaystyle \\frac{k_{1} k_{2} + m_{1} m_{2} w^{4} + w^{2} \\left(- k_{1} m_{2} - k_{2} m_{1} - k_{2} m_{2}\\right)}{m_{1} m_{2}}$"
      ],
      "text/plain": [
       "(k_1*k_2 + m_1*m_2*w**4 + w**2*(-k_1*m_2 - k_2*m_1 - k_2*m_2))/(m_1*m_2)"
      ]
     },
     "execution_count": 20,
     "metadata": {},
     "output_type": "execute_result"
    }
   ],
   "source": [
    "W.det().factor(w)"
   ]
  },
  {
   "cell_type": "code",
   "execution_count": 25,
   "id": "9a2050e0-58d2-4206-829e-9e190ece0c4b",
   "metadata": {},
   "outputs": [
    {
     "data": {
      "text/latex": [
       "$\\displaystyle \\left[\\begin{matrix}\\frac{k_{1}}{m_{1}} + \\frac{k_{2}}{m_{1}} - w^{2} & - \\frac{k_{2}}{m_{1}}\\\\- \\frac{k_{2}}{m_{2}} & \\frac{k_{2}}{m_{2}} - w^{2}\\end{matrix}\\right]$"
      ],
      "text/plain": [
       "Matrix([\n",
       "[k_1/m_1 + k_2/m_1 - w**2,       -k_2/m_1],\n",
       "[                -k_2/m_2, k_2/m_2 - w**2]])"
      ]
     },
     "execution_count": 25,
     "metadata": {},
     "output_type": "execute_result"
    }
   ],
   "source": [
    "W"
   ]
  },
  {
   "cell_type": "code",
   "execution_count": 30,
   "id": "dea30716-f424-4c3a-8b12-6b73f8c72808",
   "metadata": {},
   "outputs": [
    {
     "data": {
      "text/latex": [
       "$\\displaystyle - \\frac{\\sqrt{2} \\sqrt{\\omega_1^{2} + \\omega_2^{2} + \\frac{k_{2}}{m_{1}} - \\frac{\\sqrt{k_{1}^{2} m_{2}^{2} - 2 k_{1} k_{2} m_{1} m_{2} + 2 k_{1} k_{2} m_{2}^{2} + k_{2}^{2} m_{1}^{2} + 2 k_{2}^{2} m_{1} m_{2} + k_{2}^{2} m_{2}^{2}}}{m_{1} m_{2}}}}{2}$"
      ],
      "text/plain": [
       "-sqrt(2)*sqrt(\\omega_1**2 + \\omega_2**2 + k_2/m_1 - sqrt(k_1**2*m_2**2 - 2*k_1*k_2*m_1*m_2 + 2*k_1*k_2*m_2**2 + k_2**2*m_1**2 + 2*k_2**2*m_1*m_2 + k_2**2*m_2**2)/(m_1*m_2))/2"
      ]
     },
     "execution_count": 30,
     "metadata": {},
     "output_type": "execute_result"
    }
   ],
   "source": [
    "w1,w2 = smp.symbols(r'\\omega_1 \\omega_2')\n",
    "modos[0].expand().subs([(k1/m1, w1**2),(k2/m2,w2**2)])"
   ]
  },
  {
   "cell_type": "markdown",
   "id": "4e2a19ce-4d32-43f7-a2c1-4e46712371f8",
   "metadata": {
    "jp-MarkdownHeadingCollapsed": true,
    "tags": []
   },
   "source": [
    "## Ya fue, me voy a copiar del planteo del profe\n",
    "La idea es correr el 0 del eje $y$ una distancia $H$ lo suficientemente grande como para que todas las distancias que nos interesan medir sean positivas. Además vamos a definir las posiciones como la posición de equilibrio más una desviación, entonces cuando calculemos la pos. de equilibrio vamos a tener que poner esas desviaciones a 0."
   ]
  },
  {
   "cell_type": "code",
   "execution_count": 3,
   "id": "04369339-7642-4936-aa9b-784161f44129",
   "metadata": {},
   "outputs": [],
   "source": [
    "import sympy as smp"
   ]
  },
  {
   "cell_type": "code",
   "execution_count": 163,
   "id": "b1eb3b45-0b21-4ee5-9f9a-38a6373c562c",
   "metadata": {},
   "outputs": [],
   "source": [
    "t, g, m1, m2, k1, k2, H = smp.symbols(r't g m_1 m_2 k_1 k_2 H', real=True)\n",
    "\n",
    "#pos. de equilibrio y longitudes naturales\n",
    "l1, l2, l10, l20 = smp.symbols(r'l_1 l_2 l_{10} l_{20}', real=True)\n",
    "#desviaciones del equilibrio\n",
    "y1, y2 = smp.symbols(r'y_1 y_2', cls = smp.Function)\n",
    "y1 = y1(t); y2 = y2(t); y1_t = smp.diff(y1,t); y2_t = smp.diff(y2,t)\n",
    "#cuánto se aparta el equilibrio de la long natural\n",
    "s1 = l1- l10; s2 = l2 - l20\n",
    "#las alturas respecto de la posición de referencia\n",
    "h1 = H - (l1 + y1)\n",
    "h2 = H - (l1 + y1) - (l2 + y2)\n",
    "#energías y lagrangiano\n",
    "T = smp.Rational(1,2) * (m1 * h1_t**2 + m2 * h2_t**2)\n",
    "U = m1*g*h1 + m2*g*h2 + smp.Rational(1,2)*k1* (y1 + s1)**2 + smp.Rational(1,2)*k2*(y2 - y1 + s2)**2\n",
    "L = T-U"
   ]
  },
  {
   "cell_type": "code",
   "execution_count": 164,
   "id": "5518e0c6-696e-4da9-9f5d-f9a632815806",
   "metadata": {},
   "outputs": [
    {
     "data": {
      "text/latex": [
       "$\\displaystyle g m_{1} \\left(H - l_{1} - \\operatorname{y_{1}}{\\left(t \\right)}\\right) + g m_{2} \\left(H - l_{1} - l_{2} - \\operatorname{y_{1}}{\\left(t \\right)} - \\operatorname{y_{2}}{\\left(t \\right)}\\right) + \\frac{k_{1} \\left(l_{1} - l_{10} + \\operatorname{y_{1}}{\\left(t \\right)}\\right)^{2}}{2} + \\frac{k_{2} \\left(l_{2} - l_{20} - \\operatorname{y_{1}}{\\left(t \\right)} + \\operatorname{y_{2}}{\\left(t \\right)}\\right)^{2}}{2}$"
      ],
      "text/plain": [
       "g*m_1*(H - l_1 - y_1(t)) + g*m_2*(H - l_1 - l_2 - y_1(t) - y_2(t)) + k_1*(l_1 - l_{10} + y_1(t))**2/2 + k_2*(l_2 - l_{20} - y_1(t) + y_2(t))**2/2"
      ]
     },
     "execution_count": 164,
     "metadata": {},
     "output_type": "execute_result"
    }
   ],
   "source": [
    "U"
   ]
  },
  {
   "cell_type": "code",
   "execution_count": 165,
   "id": "97a94c29-e2f3-4e7e-97eb-fe2714432260",
   "metadata": {},
   "outputs": [
    {
     "data": {
      "text/plain": [
       "[-g*m_1 - g*m_2 + k_1*(l_1 - l_{10} + y_1(t)) - k_2*(l_2 - l_{20} - y_1(t) + y_2(t)),\n",
       " -g*m_2 + k_2*(l_2 - l_{20} - y_1(t) + y_2(t))]"
      ]
     },
     "execution_count": 165,
     "metadata": {},
     "output_type": "execute_result"
    }
   ],
   "source": [
    "var = [y1,y2]\n",
    "grad_U = [smp.diff(U,z).simplify() for z in var]\n",
    "grad_U"
   ]
  },
  {
   "cell_type": "code",
   "execution_count": 166,
   "id": "9264eb66-499a-42ac-b24c-ffffba532571",
   "metadata": {},
   "outputs": [],
   "source": [
    "#evalúo las desviaciones en 0\n",
    "for i in [0,1]:\n",
    "    grad_U[i] = grad_U[i].subs([(y1,0),(y2,0)])"
   ]
  },
  {
   "cell_type": "code",
   "execution_count": 167,
   "id": "949c9538-40cb-4e6a-a315-4e0fed0b41f3",
   "metadata": {},
   "outputs": [
    {
     "data": {
      "text/plain": [
       "{l_2: g*m_2/k_2 + l_{20}, l_1: (g*m_1 + 2*g*m_2 + k_1*l_{10})/k_1}"
      ]
     },
     "execution_count": 167,
     "metadata": {},
     "output_type": "execute_result"
    }
   ],
   "source": [
    "crit = smp.solve(grad_U, [l1, l2])\n",
    "crit"
   ]
  },
  {
   "cell_type": "code",
   "execution_count": 171,
   "id": "dc0dc6f8-f43e-443a-b698-50a67d366b47",
   "metadata": {},
   "outputs": [
    {
     "data": {
      "text/latex": [
       "$\\displaystyle \\frac{g m_{1}}{k_{1}} + \\frac{2 g m_{2}}{k_{1}} + l_{10}$"
      ],
      "text/plain": [
       "g*m_1/k_1 + 2*g*m_2/k_1 + l_{10}"
      ]
     },
     "execution_count": 171,
     "metadata": {},
     "output_type": "execute_result"
    }
   ],
   "source": [
    "eq1 = crit[l1].expand()\n",
    "eq2 = crit[l2]\n",
    "eq1"
   ]
  },
  {
   "cell_type": "markdown",
   "id": "ef45c0a2-b57e-4d2a-bf59-2745cb8fe647",
   "metadata": {},
   "source": [
    "A esta altura tengo guardado en `eq1` y `eq2` las posiciones de equilibrio. Me queda entonces evaluar el potencial `U` en estas nuevas posiciones."
   ]
  },
  {
   "cell_type": "code",
   "execution_count": 172,
   "id": "45f5f764-db77-4258-8d1c-0f8ee577aa27",
   "metadata": {},
   "outputs": [
    {
     "data": {
      "text/latex": [
       "$\\displaystyle H g m_{1} + H g m_{2} + \\frac{g^{2} m_{2}^{2}}{2 k_{2}} - \\frac{g^{2} m_{1}^{2}}{2 k_{1}} - \\frac{g^{2} m_{1} m_{2}}{k_{1}} - g l_{2} m_{2} - g l_{10} m_{1} - g l_{10} m_{2} + \\frac{k_{1} \\operatorname{y_{1}}^{2}{\\left(t \\right)}}{2} + \\frac{k_{2} \\operatorname{y_{1}}^{2}{\\left(t \\right)}}{2} - k_{2} \\operatorname{y_{1}}{\\left(t \\right)} \\operatorname{y_{2}}{\\left(t \\right)} + \\frac{k_{2} \\operatorname{y_{2}}^{2}{\\left(t \\right)}}{2}$"
      ],
      "text/plain": [
       "H*g*m_1 + H*g*m_2 + g**2*m_2**2/(2*k_2) - g**2*m_1**2/(2*k_1) - g**2*m_1*m_2/k_1 - g*l_2*m_2 - g*l_{10}*m_1 - g*l_{10}*m_2 + k_1*y_1(t)**2/2 + k_2*y_1(t)**2/2 - k_2*y_1(t)*y_2(t) + k_2*y_2(t)**2/2"
      ]
     },
     "execution_count": 172,
     "metadata": {},
     "output_type": "execute_result"
    }
   ],
   "source": [
    "h1_nuevo = h1.subs(l1, eq1)\n",
    "h2_nuevo = h2.subs([(l1,eq1),(l2,eq2)])\n",
    "s1_nuevo = s1.subs([(l1,eq1),(l2,eq2)])\n",
    "s2_nuevo = s2.subs([(l1,eq1),(l2,eq2)])\n",
    "U_eq = U.subs([(h1, h1_nuevo), (h2, h2_nuevo), (s1, s1_nuevo), (s2, s2_nuevo)]).expand()\n",
    "U_eq"
   ]
  },
  {
   "cell_type": "markdown",
   "id": "2321a495-d4b8-4426-a1f4-79e4c5bf8b92",
   "metadata": {},
   "source": [
    "Ahora en `U_eq` tengo guardado el potencial evaluado en la posición de equilibrio más una desviación. Podemos ver que los primeros términos no dependen de `y`, son constantes que no van a pinchar ni cortar cuando busquemos las eom. Los últimos 3 términos pueden ser expresados como $\\frac12 k_2 (y_2-y_1)^2$, como pedía la práctica."
   ]
  },
  {
   "cell_type": "markdown",
   "id": "229a7003-f100-4924-93fa-62785a288488",
   "metadata": {},
   "source": [
    "Esta es la parte en la que caigo que lo que yo había hecho estaba bien, solo que no me estaba dando cuenta que había un $(y_2-y_1)^2$ expandido. Sigo con lo mío porque lo siento más mío, pero esto estuvo bueno para chequearlo."
   ]
  },
  {
   "cell_type": "code",
   "execution_count": null,
   "id": "47c68563-8b56-4789-82ef-64103d0a5d74",
   "metadata": {},
   "outputs": [],
   "source": []
  }
 ],
 "metadata": {
  "kernelspec": {
   "display_name": "Python 3 (ipykernel)",
   "language": "python",
   "name": "python3"
  },
  "language_info": {
   "codemirror_mode": {
    "name": "ipython",
    "version": 3
   },
   "file_extension": ".py",
   "mimetype": "text/x-python",
   "name": "python",
   "nbconvert_exporter": "python",
   "pygments_lexer": "ipython3",
   "version": "3.8.10"
  }
 },
 "nbformat": 4,
 "nbformat_minor": 5
}
