{
 "cells": [
  {
   "cell_type": "markdown",
   "id": "45d13414-9b01-43a2-bee1-f0e93f948ea4",
   "metadata": {},
   "source": [
    "# Solo calculo jacobianos\n",
    "\n",
    "soy una mentira, no automatizo casi nada"
   ]
  },
  {
   "cell_type": "code",
   "execution_count": 1,
   "id": "03a23721-a14e-41e1-81b8-44a460dfc9c0",
   "metadata": {
    "tags": []
   },
   "outputs": [],
   "source": [
    "# Esta línea es una línea mágica de jupyter. Hace que puedas hacerle zoom y mover los grafiquitos. Si escribís directamente\n",
    "# en un script de python hay que sacarla\n",
    "%matplotlib ipympl\n",
    "\n",
    "# Acá sí importamos las librerías como corresponde\n",
    "import sympy as smp\n",
    "import numpy as np\n",
    "import matplotlib.pyplot as plt\n",
    "from mpl_toolkits import mplot3d\n",
    "from matplotlib import cm    # Le da color a los puntos de la superficie en base a su valor en z"
   ]
  },
  {
   "cell_type": "code",
   "execution_count": 3,
   "id": "fdc0cbd2-2394-402b-b6a7-2bfa849bf315",
   "metadata": {
    "tags": []
   },
   "outputs": [],
   "source": [
    "# Defino la variable del tiempo y la masa\n",
    "t, m, R = smp.symbols('t m R', real=True)\n",
    "\n",
    "# Defino las variables cartesianas como las x_i y sus momentos como px_i\n",
    "# después defino las variables de llegada como y_i y sus momentos como py_i\n",
    "x1,x2,x3,px1,px2,px3 = smp.symbols(r'x_1 x_2 x_3 p_x1 p_x2 p_x3', real=True, cls=smp.Function)\n",
    "y1,y2,y3,py1,py2,py3 = smp.symbols(r'y_1 y_2 y_3 p_y1 p_y2 p_y3', real=True, cls=smp.Function)\n",
    "\n",
    "y1=y1(t); y2=y2(t); y3=y3(t)\n",
    "py1=py1(t,y1,y2,y3); py2=py2(t,y1,y2,y3); py3=py3(t,y1,y2,y3)\n",
    "dy1 = smp.diff(y1,t); dy2 = smp.diff(y2,t); dy3 = smp.diff(y3,t)\n",
    "\n",
    "x1=x1(y1,y2,y3,py1,py2,py3); x2=x2(y1,y2,y3,py1,py2,py3); x3=x3(y1,y2,y3,py1,py2,py3)\n",
    "px1=px1(y1,y2,y3,py1,py2,py3); px2=px2(y1,y2,y3,py1,py2,py3); px3=px3(y1,y2,y3,py1,py2,py3)\n"
   ]
  },
  {
   "cell_type": "markdown",
   "id": "7387d568-aa0c-47d0-a2eb-0d0bb3684962",
   "metadata": {
    "jp-MarkdownHeadingCollapsed": true,
    "tags": []
   },
   "source": [
    "## Cambio de coordenadas en el espacio de fases para la esfera"
   ]
  },
  {
   "cell_type": "code",
   "execution_count": 288,
   "id": "a0d531ed-8152-4434-85cb-9b5f0fd8dea2",
   "metadata": {
    "tags": []
   },
   "outputs": [
    {
     "data": {
      "text/latex": [
       "$\\displaystyle \\frac{m \\left(y_{1}^{2}{\\left(t \\right)} \\sin^{2}{\\left(y_{2}{\\left(t \\right)} \\right)} \\left(\\frac{d}{d t} y_{3}{\\left(t \\right)}\\right)^{2} + y_{1}^{2}{\\left(t \\right)} \\left(\\frac{d}{d t} y_{2}{\\left(t \\right)}\\right)^{2} + \\left(\\frac{d}{d t} y_{1}{\\left(t \\right)}\\right)^{2}\\right)}{2}$"
      ],
      "text/plain": [
       "m*(y_1(t)**2*sin(y_2(t))**2*Derivative(y_3(t), t)**2 + y_1(t)**2*Derivative(y_2(t), t)**2 + Derivative(y_1(t), t)**2)/2"
      ]
     },
     "execution_count": 288,
     "metadata": {},
     "output_type": "execute_result"
    }
   ],
   "source": [
    "# Ahora hay que definir la transformación de un sistema a otro\n",
    "x1 = y1*smp.sin(y2)*smp.cos(y3)\n",
    "x2 = y1*smp.sin(y2)*smp.sin(y3)\n",
    "x3 = y1*smp.cos(y2)\n",
    "\n",
    "# Calculo el lagrangiano\n",
    "v2 = (smp.diff(x1,t)**2 + smp.diff(x2,t)**2 + smp.diff(x3,t)**2).simplify()\n",
    "L = smp.Rational(1,2)*m*v2\n",
    "L"
   ]
  },
  {
   "cell_type": "code",
   "execution_count": 289,
   "id": "49b69252-5313-477e-ba5a-bd19c70e3855",
   "metadata": {
    "tags": []
   },
   "outputs": [],
   "source": [
    "# Calculo los momentos\n",
    "px1 = (m*smp.diff(x1,t)).expand()\n",
    "px2 = (m*smp.diff(x2,t)).expand()\n",
    "px3 = (m*smp.diff(x3,t)).expand()\n",
    "Px = smp.Matrix([px1,px2,px3])\n",
    "\n",
    "py1 = smp.diff(L,dy1)\n",
    "py2 = smp.diff(L,dy2)\n",
    "py3 = smp.diff(L,dy3)\n",
    "Py = smp.Matrix([py1,py2,py3])"
   ]
  },
  {
   "cell_type": "code",
   "execution_count": 257,
   "id": "3b22c8d0-3615-4d5d-9645-4924c1d457d1",
   "metadata": {
    "tags": []
   },
   "outputs": [
    {
     "data": {
      "text/latex": [
       "$\\displaystyle \\left[\\begin{matrix}m \\frac{d}{d t} y_{1}{\\left(t \\right)}\\\\m y_{1}^{2}{\\left(t \\right)} \\frac{d}{d t} y_{2}{\\left(t \\right)}\\\\m y_{1}^{2}{\\left(t \\right)} \\sin^{2}{\\left(y_{2}{\\left(t \\right)} \\right)} \\frac{d}{d t} y_{3}{\\left(t \\right)}\\end{matrix}\\right]$"
      ],
      "text/plain": [
       "Matrix([\n",
       "[                         m*Derivative(y_1(t), t)],\n",
       "[               m*y_1(t)**2*Derivative(y_2(t), t)],\n",
       "[m*y_1(t)**2*sin(y_2(t))**2*Derivative(y_3(t), t)]])"
      ]
     },
     "execution_count": 257,
     "metadata": {},
     "output_type": "execute_result"
    }
   ],
   "source": [
    "Py"
   ]
  },
  {
   "cell_type": "code",
   "execution_count": 258,
   "id": "5bfbc13d-8f87-4e40-afcd-1ca47942d2de",
   "metadata": {
    "tags": []
   },
   "outputs": [
    {
     "data": {
      "text/latex": [
       "$\\displaystyle \\left[\\begin{matrix}- m y_{1}{\\left(t \\right)} \\sin{\\left(y_{2}{\\left(t \\right)} \\right)} \\sin{\\left(y_{3}{\\left(t \\right)} \\right)} \\frac{d}{d t} y_{3}{\\left(t \\right)} + m y_{1}{\\left(t \\right)} \\cos{\\left(y_{2}{\\left(t \\right)} \\right)} \\cos{\\left(y_{3}{\\left(t \\right)} \\right)} \\frac{d}{d t} y_{2}{\\left(t \\right)} + m \\sin{\\left(y_{2}{\\left(t \\right)} \\right)} \\cos{\\left(y_{3}{\\left(t \\right)} \\right)} \\frac{d}{d t} y_{1}{\\left(t \\right)}\\\\m y_{1}{\\left(t \\right)} \\sin{\\left(y_{2}{\\left(t \\right)} \\right)} \\cos{\\left(y_{3}{\\left(t \\right)} \\right)} \\frac{d}{d t} y_{3}{\\left(t \\right)} + m y_{1}{\\left(t \\right)} \\sin{\\left(y_{3}{\\left(t \\right)} \\right)} \\cos{\\left(y_{2}{\\left(t \\right)} \\right)} \\frac{d}{d t} y_{2}{\\left(t \\right)} + m \\sin{\\left(y_{2}{\\left(t \\right)} \\right)} \\sin{\\left(y_{3}{\\left(t \\right)} \\right)} \\frac{d}{d t} y_{1}{\\left(t \\right)}\\\\- m y_{1}{\\left(t \\right)} \\sin{\\left(y_{2}{\\left(t \\right)} \\right)} \\frac{d}{d t} y_{2}{\\left(t \\right)} + m \\cos{\\left(y_{2}{\\left(t \\right)} \\right)} \\frac{d}{d t} y_{1}{\\left(t \\right)}\\end{matrix}\\right]$"
      ],
      "text/plain": [
       "Matrix([\n",
       "[-m*y_1(t)*sin(y_2(t))*sin(y_3(t))*Derivative(y_3(t), t) + m*y_1(t)*cos(y_2(t))*cos(y_3(t))*Derivative(y_2(t), t) + m*sin(y_2(t))*cos(y_3(t))*Derivative(y_1(t), t)],\n",
       "[ m*y_1(t)*sin(y_2(t))*cos(y_3(t))*Derivative(y_3(t), t) + m*y_1(t)*sin(y_3(t))*cos(y_2(t))*Derivative(y_2(t), t) + m*sin(y_2(t))*sin(y_3(t))*Derivative(y_1(t), t)],\n",
       "[                                                                                 -m*y_1(t)*sin(y_2(t))*Derivative(y_2(t), t) + m*cos(y_2(t))*Derivative(y_1(t), t)]])"
      ]
     },
     "execution_count": 258,
     "metadata": {},
     "output_type": "execute_result"
    }
   ],
   "source": [
    "Px"
   ]
  },
  {
   "cell_type": "markdown",
   "id": "178203f9-cdeb-4ae0-a887-9bc288354715",
   "metadata": {},
   "source": [
    "---"
   ]
  },
  {
   "cell_type": "markdown",
   "id": "706bab75-62ed-4849-aa5b-07e9524e3224",
   "metadata": {},
   "source": [
    "**Una vez calculados los momentos podemos mirar fuerte los vectores e identificar la relación entre los momentos.**\n",
    "\n",
    "**Esto lo vamos a usar para redefinir a los momentos unos en función de otros.**"
   ]
  },
  {
   "cell_type": "markdown",
   "id": "08479cc2-de8d-425c-b6fa-9663e076d492",
   "metadata": {},
   "source": [
    "---"
   ]
  },
  {
   "cell_type": "code",
   "execution_count": 290,
   "id": "c5e6e846-003a-4b6f-97b7-a198b8bf2075",
   "metadata": {
    "tags": []
   },
   "outputs": [],
   "source": [
    "y1,y2,y3,py1,py2,py3 = smp.symbols(r'y_1 y_2 y_3 p_y1 p_y2 p_y3', real=True, cls=smp.Function)\n",
    "\n",
    "y1=y1(t); y2=y2(t); y3=y3(t)\n",
    "py1=py1(t,y1,y2,y3); py2=py2(t,y1,y2,y3); py3=py3(t,y1,y2,y3)\n",
    "\n",
    "px1 = py1*smp.sin(y2)*smp.cos(y3) + py2* smp.cos(y2)*smp.cos(y3)/y1 + py3* smp.sin(y3)/(-y1*smp.sin(y2))\n",
    "px2 = py1*smp.sin(y2)*smp.sin(y3) + py2* smp.cos(y2)*smp.sin(y3)/y1 + py3* smp.cos(y3)/(y1*smp.sin(y2))\n",
    "px3 = py1*smp.cos(y2) + py2* smp.sin(y2)/(-y1)"
   ]
  },
  {
   "cell_type": "code",
   "execution_count": 296,
   "id": "71190c6c-701a-4228-ae5f-4cf616c0b738",
   "metadata": {
    "tags": []
   },
   "outputs": [
    {
     "data": {
      "text/latex": [
       "$\\displaystyle \\left[\\begin{matrix}\\sin{\\left(y_{2}{\\left(t \\right)} \\right)} \\cos{\\left(y_{3}{\\left(t \\right)} \\right)} & y_{1}{\\left(t \\right)} \\cos{\\left(y_{2}{\\left(t \\right)} \\right)} \\cos{\\left(y_{3}{\\left(t \\right)} \\right)} & - y_{1}{\\left(t \\right)} \\sin{\\left(y_{2}{\\left(t \\right)} \\right)} \\sin{\\left(y_{3}{\\left(t \\right)} \\right)} & 0 & 0 & 0\\\\\\sin{\\left(y_{2}{\\left(t \\right)} \\right)} \\sin{\\left(y_{3}{\\left(t \\right)} \\right)} & y_{1}{\\left(t \\right)} \\sin{\\left(y_{3}{\\left(t \\right)} \\right)} \\cos{\\left(y_{2}{\\left(t \\right)} \\right)} & y_{1}{\\left(t \\right)} \\sin{\\left(y_{2}{\\left(t \\right)} \\right)} \\cos{\\left(y_{3}{\\left(t \\right)} \\right)} & 0 & 0 & 0\\\\\\cos{\\left(y_{2}{\\left(t \\right)} \\right)} & - y_{1}{\\left(t \\right)} \\sin{\\left(y_{2}{\\left(t \\right)} \\right)} & 0 & 0 & 0 & 0\\\\\\frac{- \\frac{\\left(\\sin{\\left(2 y_{2}{\\left(t \\right)} - y_{3}{\\left(t \\right)} \\right)} + \\sin{\\left(2 y_{2}{\\left(t \\right)} + y_{3}{\\left(t \\right)} \\right)}\\right) p_{y2}{\\left(t,y_{1}{\\left(t \\right)},y_{2}{\\left(t \\right)},y_{3}{\\left(t \\right)} \\right)}}{4} + \\frac{\\left(\\sin{\\left(2 y_{2}{\\left(t \\right)} - y_{3}{\\left(t \\right)} \\right)} + \\sin{\\left(2 y_{2}{\\left(t \\right)} + y_{3}{\\left(t \\right)} \\right)}\\right) y_{1}{\\left(t \\right)} \\frac{d}{d y_{1}{\\left(t \\right)}} p_{y2}{\\left(t,y_{1}{\\left(t \\right)},y_{2}{\\left(t \\right)},y_{3}{\\left(t \\right)} \\right)}}{4} + p_{y3}{\\left(t,y_{1}{\\left(t \\right)},y_{2}{\\left(t \\right)},y_{3}{\\left(t \\right)} \\right)} \\sin{\\left(y_{3}{\\left(t \\right)} \\right)} + y_{1}^{2}{\\left(t \\right)} \\sin^{2}{\\left(y_{2}{\\left(t \\right)} \\right)} \\cos{\\left(y_{3}{\\left(t \\right)} \\right)} \\frac{d}{d y_{1}{\\left(t \\right)}} p_{y1}{\\left(t,y_{1}{\\left(t \\right)},y_{2}{\\left(t \\right)},y_{3}{\\left(t \\right)} \\right)} - y_{1}{\\left(t \\right)} \\sin{\\left(y_{3}{\\left(t \\right)} \\right)} \\frac{d}{d y_{1}{\\left(t \\right)}} p_{y3}{\\left(t,y_{1}{\\left(t \\right)},y_{2}{\\left(t \\right)},y_{3}{\\left(t \\right)} \\right)}}{y_{1}^{2}{\\left(t \\right)} \\sin{\\left(y_{2}{\\left(t \\right)} \\right)}} & \\frac{p_{y1}{\\left(t,y_{1}{\\left(t \\right)},y_{2}{\\left(t \\right)},y_{3}{\\left(t \\right)} \\right)} y_{1}{\\left(t \\right)} \\cos{\\left(y_{2}{\\left(t \\right)} \\right)} \\cos{\\left(y_{3}{\\left(t \\right)} \\right)} - p_{y2}{\\left(t,y_{1}{\\left(t \\right)},y_{2}{\\left(t \\right)},y_{3}{\\left(t \\right)} \\right)} \\sin{\\left(y_{2}{\\left(t \\right)} \\right)} \\cos{\\left(y_{3}{\\left(t \\right)} \\right)} + \\frac{p_{y3}{\\left(t,y_{1}{\\left(t \\right)},y_{2}{\\left(t \\right)},y_{3}{\\left(t \\right)} \\right)} \\sin{\\left(y_{3}{\\left(t \\right)} \\right)} \\cos{\\left(y_{2}{\\left(t \\right)} \\right)}}{\\sin^{2}{\\left(y_{2}{\\left(t \\right)} \\right)}} + y_{1}{\\left(t \\right)} \\sin{\\left(y_{2}{\\left(t \\right)} \\right)} \\cos{\\left(y_{3}{\\left(t \\right)} \\right)} \\frac{d}{d y_{2}{\\left(t \\right)}} p_{y1}{\\left(t,y_{1}{\\left(t \\right)},y_{2}{\\left(t \\right)},y_{3}{\\left(t \\right)} \\right)} + \\cos{\\left(y_{2}{\\left(t \\right)} \\right)} \\cos{\\left(y_{3}{\\left(t \\right)} \\right)} \\frac{d}{d y_{2}{\\left(t \\right)}} p_{y2}{\\left(t,y_{1}{\\left(t \\right)},y_{2}{\\left(t \\right)},y_{3}{\\left(t \\right)} \\right)} - \\frac{\\sin{\\left(y_{3}{\\left(t \\right)} \\right)} \\frac{d}{d y_{2}{\\left(t \\right)}} p_{y3}{\\left(t,y_{1}{\\left(t \\right)},y_{2}{\\left(t \\right)},y_{3}{\\left(t \\right)} \\right)}}{\\sin{\\left(y_{2}{\\left(t \\right)} \\right)}}}{y_{1}{\\left(t \\right)}} & \\frac{\\left(- p_{y1}{\\left(t,y_{1}{\\left(t \\right)},y_{2}{\\left(t \\right)},y_{3}{\\left(t \\right)} \\right)} \\sin{\\left(y_{3}{\\left(t \\right)} \\right)} + \\cos{\\left(y_{3}{\\left(t \\right)} \\right)} \\frac{d}{d y_{3}{\\left(t \\right)}} p_{y1}{\\left(t,y_{1}{\\left(t \\right)},y_{2}{\\left(t \\right)},y_{3}{\\left(t \\right)} \\right)}\\right) y_{1}{\\left(t \\right)} \\sin^{2}{\\left(y_{2}{\\left(t \\right)} \\right)} + \\left(- p_{y2}{\\left(t,y_{1}{\\left(t \\right)},y_{2}{\\left(t \\right)},y_{3}{\\left(t \\right)} \\right)} \\sin{\\left(y_{3}{\\left(t \\right)} \\right)} + \\cos{\\left(y_{3}{\\left(t \\right)} \\right)} \\frac{d}{d y_{3}{\\left(t \\right)}} p_{y2}{\\left(t,y_{1}{\\left(t \\right)},y_{2}{\\left(t \\right)},y_{3}{\\left(t \\right)} \\right)}\\right) \\sin{\\left(y_{2}{\\left(t \\right)} \\right)} \\cos{\\left(y_{2}{\\left(t \\right)} \\right)} - p_{y3}{\\left(t,y_{1}{\\left(t \\right)},y_{2}{\\left(t \\right)},y_{3}{\\left(t \\right)} \\right)} \\cos{\\left(y_{3}{\\left(t \\right)} \\right)} - \\sin{\\left(y_{3}{\\left(t \\right)} \\right)} \\frac{d}{d y_{3}{\\left(t \\right)}} p_{y3}{\\left(t,y_{1}{\\left(t \\right)},y_{2}{\\left(t \\right)},y_{3}{\\left(t \\right)} \\right)}}{y_{1}{\\left(t \\right)} \\sin{\\left(y_{2}{\\left(t \\right)} \\right)}} & \\sin{\\left(y_{2}{\\left(t \\right)} \\right)} \\cos{\\left(y_{3}{\\left(t \\right)} \\right)} & \\frac{\\cos{\\left(y_{2}{\\left(t \\right)} \\right)} \\cos{\\left(y_{3}{\\left(t \\right)} \\right)}}{y_{1}{\\left(t \\right)}} & - \\frac{\\sin{\\left(y_{3}{\\left(t \\right)} \\right)}}{y_{1}{\\left(t \\right)} \\sin{\\left(y_{2}{\\left(t \\right)} \\right)}}\\\\\\frac{- \\frac{\\left(\\cos{\\left(2 y_{2}{\\left(t \\right)} - y_{3}{\\left(t \\right)} \\right)} - \\cos{\\left(2 y_{2}{\\left(t \\right)} + y_{3}{\\left(t \\right)} \\right)}\\right) p_{y2}{\\left(t,y_{1}{\\left(t \\right)},y_{2}{\\left(t \\right)},y_{3}{\\left(t \\right)} \\right)}}{4} + \\frac{\\left(\\cos{\\left(2 y_{2}{\\left(t \\right)} - y_{3}{\\left(t \\right)} \\right)} - \\cos{\\left(2 y_{2}{\\left(t \\right)} + y_{3}{\\left(t \\right)} \\right)}\\right) y_{1}{\\left(t \\right)} \\frac{d}{d y_{1}{\\left(t \\right)}} p_{y2}{\\left(t,y_{1}{\\left(t \\right)},y_{2}{\\left(t \\right)},y_{3}{\\left(t \\right)} \\right)}}{4} - p_{y3}{\\left(t,y_{1}{\\left(t \\right)},y_{2}{\\left(t \\right)},y_{3}{\\left(t \\right)} \\right)} \\cos{\\left(y_{3}{\\left(t \\right)} \\right)} + y_{1}^{2}{\\left(t \\right)} \\sin^{2}{\\left(y_{2}{\\left(t \\right)} \\right)} \\sin{\\left(y_{3}{\\left(t \\right)} \\right)} \\frac{d}{d y_{1}{\\left(t \\right)}} p_{y1}{\\left(t,y_{1}{\\left(t \\right)},y_{2}{\\left(t \\right)},y_{3}{\\left(t \\right)} \\right)} + y_{1}{\\left(t \\right)} \\cos{\\left(y_{3}{\\left(t \\right)} \\right)} \\frac{d}{d y_{1}{\\left(t \\right)}} p_{y3}{\\left(t,y_{1}{\\left(t \\right)},y_{2}{\\left(t \\right)},y_{3}{\\left(t \\right)} \\right)}}{y_{1}^{2}{\\left(t \\right)} \\sin{\\left(y_{2}{\\left(t \\right)} \\right)}} & \\frac{p_{y1}{\\left(t,y_{1}{\\left(t \\right)},y_{2}{\\left(t \\right)},y_{3}{\\left(t \\right)} \\right)} y_{1}{\\left(t \\right)} \\sin{\\left(y_{3}{\\left(t \\right)} \\right)} \\cos{\\left(y_{2}{\\left(t \\right)} \\right)} - p_{y2}{\\left(t,y_{1}{\\left(t \\right)},y_{2}{\\left(t \\right)},y_{3}{\\left(t \\right)} \\right)} \\sin{\\left(y_{2}{\\left(t \\right)} \\right)} \\sin{\\left(y_{3}{\\left(t \\right)} \\right)} - \\frac{p_{y3}{\\left(t,y_{1}{\\left(t \\right)},y_{2}{\\left(t \\right)},y_{3}{\\left(t \\right)} \\right)} \\cos{\\left(y_{2}{\\left(t \\right)} \\right)} \\cos{\\left(y_{3}{\\left(t \\right)} \\right)}}{\\sin^{2}{\\left(y_{2}{\\left(t \\right)} \\right)}} + y_{1}{\\left(t \\right)} \\sin{\\left(y_{2}{\\left(t \\right)} \\right)} \\sin{\\left(y_{3}{\\left(t \\right)} \\right)} \\frac{d}{d y_{2}{\\left(t \\right)}} p_{y1}{\\left(t,y_{1}{\\left(t \\right)},y_{2}{\\left(t \\right)},y_{3}{\\left(t \\right)} \\right)} + \\sin{\\left(y_{3}{\\left(t \\right)} \\right)} \\cos{\\left(y_{2}{\\left(t \\right)} \\right)} \\frac{d}{d y_{2}{\\left(t \\right)}} p_{y2}{\\left(t,y_{1}{\\left(t \\right)},y_{2}{\\left(t \\right)},y_{3}{\\left(t \\right)} \\right)} + \\frac{\\cos{\\left(y_{3}{\\left(t \\right)} \\right)} \\frac{d}{d y_{2}{\\left(t \\right)}} p_{y3}{\\left(t,y_{1}{\\left(t \\right)},y_{2}{\\left(t \\right)},y_{3}{\\left(t \\right)} \\right)}}{\\sin{\\left(y_{2}{\\left(t \\right)} \\right)}}}{y_{1}{\\left(t \\right)}} & \\frac{\\left(p_{y1}{\\left(t,y_{1}{\\left(t \\right)},y_{2}{\\left(t \\right)},y_{3}{\\left(t \\right)} \\right)} \\cos{\\left(y_{3}{\\left(t \\right)} \\right)} + \\sin{\\left(y_{3}{\\left(t \\right)} \\right)} \\frac{d}{d y_{3}{\\left(t \\right)}} p_{y1}{\\left(t,y_{1}{\\left(t \\right)},y_{2}{\\left(t \\right)},y_{3}{\\left(t \\right)} \\right)}\\right) y_{1}{\\left(t \\right)} \\sin^{2}{\\left(y_{2}{\\left(t \\right)} \\right)} + \\left(p_{y2}{\\left(t,y_{1}{\\left(t \\right)},y_{2}{\\left(t \\right)},y_{3}{\\left(t \\right)} \\right)} \\cos{\\left(y_{3}{\\left(t \\right)} \\right)} + \\sin{\\left(y_{3}{\\left(t \\right)} \\right)} \\frac{d}{d y_{3}{\\left(t \\right)}} p_{y2}{\\left(t,y_{1}{\\left(t \\right)},y_{2}{\\left(t \\right)},y_{3}{\\left(t \\right)} \\right)}\\right) \\sin{\\left(y_{2}{\\left(t \\right)} \\right)} \\cos{\\left(y_{2}{\\left(t \\right)} \\right)} - p_{y3}{\\left(t,y_{1}{\\left(t \\right)},y_{2}{\\left(t \\right)},y_{3}{\\left(t \\right)} \\right)} \\sin{\\left(y_{3}{\\left(t \\right)} \\right)} + \\cos{\\left(y_{3}{\\left(t \\right)} \\right)} \\frac{d}{d y_{3}{\\left(t \\right)}} p_{y3}{\\left(t,y_{1}{\\left(t \\right)},y_{2}{\\left(t \\right)},y_{3}{\\left(t \\right)} \\right)}}{y_{1}{\\left(t \\right)} \\sin{\\left(y_{2}{\\left(t \\right)} \\right)}} & \\sin{\\left(y_{2}{\\left(t \\right)} \\right)} \\sin{\\left(y_{3}{\\left(t \\right)} \\right)} & \\frac{\\sin{\\left(y_{3}{\\left(t \\right)} \\right)} \\cos{\\left(y_{2}{\\left(t \\right)} \\right)}}{y_{1}{\\left(t \\right)}} & \\frac{\\cos{\\left(y_{3}{\\left(t \\right)} \\right)}}{y_{1}{\\left(t \\right)} \\sin{\\left(y_{2}{\\left(t \\right)} \\right)}}\\\\\\frac{p_{y2}{\\left(t,y_{1}{\\left(t \\right)},y_{2}{\\left(t \\right)},y_{3}{\\left(t \\right)} \\right)} \\sin{\\left(y_{2}{\\left(t \\right)} \\right)}}{y_{1}^{2}{\\left(t \\right)}} + \\cos{\\left(y_{2}{\\left(t \\right)} \\right)} \\frac{d}{d y_{1}{\\left(t \\right)}} p_{y1}{\\left(t,y_{1}{\\left(t \\right)},y_{2}{\\left(t \\right)},y_{3}{\\left(t \\right)} \\right)} - \\frac{\\sin{\\left(y_{2}{\\left(t \\right)} \\right)} \\frac{d}{d y_{1}{\\left(t \\right)}} p_{y2}{\\left(t,y_{1}{\\left(t \\right)},y_{2}{\\left(t \\right)},y_{3}{\\left(t \\right)} \\right)}}{y_{1}{\\left(t \\right)}} & \\frac{\\left(- p_{y1}{\\left(t,y_{1}{\\left(t \\right)},y_{2}{\\left(t \\right)},y_{3}{\\left(t \\right)} \\right)} \\sin{\\left(y_{2}{\\left(t \\right)} \\right)} + \\cos{\\left(y_{2}{\\left(t \\right)} \\right)} \\frac{d}{d y_{2}{\\left(t \\right)}} p_{y1}{\\left(t,y_{1}{\\left(t \\right)},y_{2}{\\left(t \\right)},y_{3}{\\left(t \\right)} \\right)}\\right) y_{1}{\\left(t \\right)} - p_{y2}{\\left(t,y_{1}{\\left(t \\right)},y_{2}{\\left(t \\right)},y_{3}{\\left(t \\right)} \\right)} \\cos{\\left(y_{2}{\\left(t \\right)} \\right)} - \\sin{\\left(y_{2}{\\left(t \\right)} \\right)} \\frac{d}{d y_{2}{\\left(t \\right)}} p_{y2}{\\left(t,y_{1}{\\left(t \\right)},y_{2}{\\left(t \\right)},y_{3}{\\left(t \\right)} \\right)}}{y_{1}{\\left(t \\right)}} & \\cos{\\left(y_{2}{\\left(t \\right)} \\right)} \\frac{d}{d y_{3}{\\left(t \\right)}} p_{y1}{\\left(t,y_{1}{\\left(t \\right)},y_{2}{\\left(t \\right)},y_{3}{\\left(t \\right)} \\right)} - \\frac{\\sin{\\left(y_{2}{\\left(t \\right)} \\right)} \\frac{d}{d y_{3}{\\left(t \\right)}} p_{y2}{\\left(t,y_{1}{\\left(t \\right)},y_{2}{\\left(t \\right)},y_{3}{\\left(t \\right)} \\right)}}{y_{1}{\\left(t \\right)}} & \\cos{\\left(y_{2}{\\left(t \\right)} \\right)} & - \\frac{\\sin{\\left(y_{2}{\\left(t \\right)} \\right)}}{y_{1}{\\left(t \\right)}} & 0\\end{matrix}\\right]$"
      ],
      "text/plain": [
       "Matrix([\n",
       "[                                                                                                                                                                                                                                                                                                                                                                                                                          sin(y_2(t))*cos(y_3(t)),                                                                                                                                                                                                                                                                                                                                                                                                                              y_1(t)*cos(y_2(t))*cos(y_3(t)),                                                                                                                                                                                                                                                                                                                                                                                          -y_1(t)*sin(y_2(t))*sin(y_3(t)),                       0,                              0,                                 0],\n",
       "[                                                                                                                                                                                                                                                                                                                                                                                                                          sin(y_2(t))*sin(y_3(t)),                                                                                                                                                                                                                                                                                                                                                                                                                              y_1(t)*sin(y_3(t))*cos(y_2(t)),                                                                                                                                                                                                                                                                                                                                                                                           y_1(t)*sin(y_2(t))*cos(y_3(t)),                       0,                              0,                                 0],\n",
       "[                                                                                                                                                                                                                                                                                                                                                                                                                                      cos(y_2(t)),                                                                                                                                                                                                                                                                                                                                                                                                                                         -y_1(t)*sin(y_2(t)),                                                                                                                                                                                                                                                                                                                                                                                                                        0,                       0,                              0,                                 0],\n",
       "[(-(sin(2*y_2(t) - y_3(t)) + sin(2*y_2(t) + y_3(t)))*p_y2(t, y_1(t), y_2(t), y_3(t))/4 + (sin(2*y_2(t) - y_3(t)) + sin(2*y_2(t) + y_3(t)))*y_1(t)*Derivative(p_y2(t, y_1(t), y_2(t), y_3(t)), y_1(t))/4 + p_y3(t, y_1(t), y_2(t), y_3(t))*sin(y_3(t)) + y_1(t)**2*sin(y_2(t))**2*cos(y_3(t))*Derivative(p_y1(t, y_1(t), y_2(t), y_3(t)), y_1(t)) - y_1(t)*sin(y_3(t))*Derivative(p_y3(t, y_1(t), y_2(t), y_3(t)), y_1(t)))/(y_1(t)**2*sin(y_2(t))), (p_y1(t, y_1(t), y_2(t), y_3(t))*y_1(t)*cos(y_2(t))*cos(y_3(t)) - p_y2(t, y_1(t), y_2(t), y_3(t))*sin(y_2(t))*cos(y_3(t)) + p_y3(t, y_1(t), y_2(t), y_3(t))*sin(y_3(t))*cos(y_2(t))/sin(y_2(t))**2 + y_1(t)*sin(y_2(t))*cos(y_3(t))*Derivative(p_y1(t, y_1(t), y_2(t), y_3(t)), y_2(t)) + cos(y_2(t))*cos(y_3(t))*Derivative(p_y2(t, y_1(t), y_2(t), y_3(t)), y_2(t)) - sin(y_3(t))*Derivative(p_y3(t, y_1(t), y_2(t), y_3(t)), y_2(t))/sin(y_2(t)))/y_1(t), ((-p_y1(t, y_1(t), y_2(t), y_3(t))*sin(y_3(t)) + cos(y_3(t))*Derivative(p_y1(t, y_1(t), y_2(t), y_3(t)), y_3(t)))*y_1(t)*sin(y_2(t))**2 + (-p_y2(t, y_1(t), y_2(t), y_3(t))*sin(y_3(t)) + cos(y_3(t))*Derivative(p_y2(t, y_1(t), y_2(t), y_3(t)), y_3(t)))*sin(y_2(t))*cos(y_2(t)) - p_y3(t, y_1(t), y_2(t), y_3(t))*cos(y_3(t)) - sin(y_3(t))*Derivative(p_y3(t, y_1(t), y_2(t), y_3(t)), y_3(t)))/(y_1(t)*sin(y_2(t))), sin(y_2(t))*cos(y_3(t)), cos(y_2(t))*cos(y_3(t))/y_1(t), -sin(y_3(t))/(y_1(t)*sin(y_2(t)))],\n",
       "[(-(cos(2*y_2(t) - y_3(t)) - cos(2*y_2(t) + y_3(t)))*p_y2(t, y_1(t), y_2(t), y_3(t))/4 + (cos(2*y_2(t) - y_3(t)) - cos(2*y_2(t) + y_3(t)))*y_1(t)*Derivative(p_y2(t, y_1(t), y_2(t), y_3(t)), y_1(t))/4 - p_y3(t, y_1(t), y_2(t), y_3(t))*cos(y_3(t)) + y_1(t)**2*sin(y_2(t))**2*sin(y_3(t))*Derivative(p_y1(t, y_1(t), y_2(t), y_3(t)), y_1(t)) + y_1(t)*cos(y_3(t))*Derivative(p_y3(t, y_1(t), y_2(t), y_3(t)), y_1(t)))/(y_1(t)**2*sin(y_2(t))), (p_y1(t, y_1(t), y_2(t), y_3(t))*y_1(t)*sin(y_3(t))*cos(y_2(t)) - p_y2(t, y_1(t), y_2(t), y_3(t))*sin(y_2(t))*sin(y_3(t)) - p_y3(t, y_1(t), y_2(t), y_3(t))*cos(y_2(t))*cos(y_3(t))/sin(y_2(t))**2 + y_1(t)*sin(y_2(t))*sin(y_3(t))*Derivative(p_y1(t, y_1(t), y_2(t), y_3(t)), y_2(t)) + sin(y_3(t))*cos(y_2(t))*Derivative(p_y2(t, y_1(t), y_2(t), y_3(t)), y_2(t)) + cos(y_3(t))*Derivative(p_y3(t, y_1(t), y_2(t), y_3(t)), y_2(t))/sin(y_2(t)))/y_1(t),   ((p_y1(t, y_1(t), y_2(t), y_3(t))*cos(y_3(t)) + sin(y_3(t))*Derivative(p_y1(t, y_1(t), y_2(t), y_3(t)), y_3(t)))*y_1(t)*sin(y_2(t))**2 + (p_y2(t, y_1(t), y_2(t), y_3(t))*cos(y_3(t)) + sin(y_3(t))*Derivative(p_y2(t, y_1(t), y_2(t), y_3(t)), y_3(t)))*sin(y_2(t))*cos(y_2(t)) - p_y3(t, y_1(t), y_2(t), y_3(t))*sin(y_3(t)) + cos(y_3(t))*Derivative(p_y3(t, y_1(t), y_2(t), y_3(t)), y_3(t)))/(y_1(t)*sin(y_2(t))), sin(y_2(t))*sin(y_3(t)), sin(y_3(t))*cos(y_2(t))/y_1(t),  cos(y_3(t))/(y_1(t)*sin(y_2(t)))],\n",
       "[                                                                                                                                                                                                                                                 p_y2(t, y_1(t), y_2(t), y_3(t))*sin(y_2(t))/y_1(t)**2 + cos(y_2(t))*Derivative(p_y1(t, y_1(t), y_2(t), y_3(t)), y_1(t)) - sin(y_2(t))*Derivative(p_y2(t, y_1(t), y_2(t), y_3(t)), y_1(t))/y_1(t),                                                                                                                                                                                                            ((-p_y1(t, y_1(t), y_2(t), y_3(t))*sin(y_2(t)) + cos(y_2(t))*Derivative(p_y1(t, y_1(t), y_2(t), y_3(t)), y_2(t)))*y_1(t) - p_y2(t, y_1(t), y_2(t), y_3(t))*cos(y_2(t)) - sin(y_2(t))*Derivative(p_y2(t, y_1(t), y_2(t), y_3(t)), y_2(t)))/y_1(t),                                                                                                                                                                                                                                                                                 cos(y_2(t))*Derivative(p_y1(t, y_1(t), y_2(t), y_3(t)), y_3(t)) - sin(y_2(t))*Derivative(p_y2(t, y_1(t), y_2(t), y_3(t)), y_3(t))/y_1(t),             cos(y_2(t)),            -sin(y_2(t))/y_1(t),                                 0]])"
      ]
     },
     "execution_count": 296,
     "metadata": {},
     "output_type": "execute_result"
    }
   ],
   "source": [
    "# Defino una lista de variables\n",
    "x_px = [x1,x2,x3,px1,px2,px3]\n",
    "y_py = [y1,y2,y3,py1,py2,py3]\n",
    "\n",
    "jacobiana = smp.Matrix([[smp.diff(x_px[i],y_py[j]) for j in range(6)] for i in range(6)]).applyfunc(lambda x: x.simplify())\n",
    "jacobiana"
   ]
  },
  {
   "cell_type": "code",
   "execution_count": 298,
   "id": "a99792f9-3f05-4584-b9ee-a14090734a99",
   "metadata": {
    "tags": []
   },
   "outputs": [
    {
     "data": {
      "text/latex": [
       "$\\displaystyle 1$"
      ],
      "text/plain": [
       "1"
      ]
     },
     "execution_count": 298,
     "metadata": {},
     "output_type": "execute_result"
    }
   ],
   "source": [
    "jacobiana.det().simplify()"
   ]
  },
  {
   "cell_type": "code",
   "execution_count": null,
   "id": "b8d625e8-2b9b-4e9b-b114-cb93cc3d3d48",
   "metadata": {},
   "outputs": [],
   "source": []
  },
  {
   "cell_type": "markdown",
   "id": "67eead4d-435e-454c-a1a4-9dafe60d8fad",
   "metadata": {
    "jp-MarkdownHeadingCollapsed": true,
    "tags": []
   },
   "source": [
    "## Cambio de coordenadas en el espacio de fases para el toro"
   ]
  },
  {
   "cell_type": "code",
   "execution_count": 7,
   "id": "f940fb26-5150-406b-b453-6235e9537287",
   "metadata": {
    "tags": []
   },
   "outputs": [
    {
     "data": {
      "text/latex": [
       "$\\displaystyle \\frac{m \\left(R^{2} \\left(\\frac{d}{d t} y_{3}{\\left(t \\right)}\\right)^{2} + 2 R y_{1}{\\left(t \\right)} \\cos{\\left(y_{2}{\\left(t \\right)} \\right)} \\left(\\frac{d}{d t} y_{3}{\\left(t \\right)}\\right)^{2} + y_{1}^{2}{\\left(t \\right)} \\cos^{2}{\\left(y_{2}{\\left(t \\right)} \\right)} \\left(\\frac{d}{d t} y_{3}{\\left(t \\right)}\\right)^{2} + y_{1}^{2}{\\left(t \\right)} \\left(\\frac{d}{d t} y_{2}{\\left(t \\right)}\\right)^{2} + \\left(\\frac{d}{d t} y_{1}{\\left(t \\right)}\\right)^{2}\\right)}{2}$"
      ],
      "text/plain": [
       "m*(R**2*Derivative(y_3(t), t)**2 + 2*R*y_1(t)*cos(y_2(t))*Derivative(y_3(t), t)**2 + y_1(t)**2*cos(y_2(t))**2*Derivative(y_3(t), t)**2 + y_1(t)**2*Derivative(y_2(t), t)**2 + Derivative(y_1(t), t)**2)/2"
      ]
     },
     "execution_count": 7,
     "metadata": {},
     "output_type": "execute_result"
    }
   ],
   "source": [
    "# Ahora hay que definir la transformación de un sistema a otro\n",
    "x1 = (R + y1*smp.cos(y2))*smp.cos(y3)\n",
    "x2 = (R + y1*smp.cos(y2))*smp.sin(y3)\n",
    "x3 = y1*smp.sin(y2)\n",
    "\n",
    "# Calculo el lagrangiano\n",
    "v2 = (smp.diff(x1,t)**2 + smp.diff(x2,t)**2 + smp.diff(x3,t)**2).simplify()\n",
    "L = (smp.Rational(1,2)*m*v2).simplify()\n",
    "L"
   ]
  },
  {
   "cell_type": "code",
   "execution_count": 13,
   "id": "28b05a63-4c3f-4817-9f4c-1a3a7caa5c92",
   "metadata": {
    "tags": []
   },
   "outputs": [],
   "source": [
    "# Calculo los momentos\n",
    "px1 = (m*smp.diff(x1,t)).expand()\n",
    "px2 = (m*smp.diff(x2,t)).expand()\n",
    "px3 = (m*smp.diff(x3,t)).expand()\n",
    "Px = smp.Matrix([px1,px2,px3]).applyfunc(lambda x: x.simplify())\n",
    "\n",
    "py1 = smp.diff(L,dy1)\n",
    "py2 = smp.diff(L,dy2)\n",
    "py3 = smp.diff(L,dy3)\n",
    "Py = smp.Matrix([py1,py2,py3]).applyfunc(lambda x: x.simplify())"
   ]
  },
  {
   "cell_type": "code",
   "execution_count": 14,
   "id": "86b34676-6186-4788-8f48-6ac0745a1a16",
   "metadata": {
    "tags": []
   },
   "outputs": [
    {
     "data": {
      "text/latex": [
       "$\\displaystyle \\left[\\begin{matrix}m \\frac{d}{d t} y_{1}{\\left(t \\right)}\\\\m y_{1}^{2}{\\left(t \\right)} \\frac{d}{d t} y_{2}{\\left(t \\right)}\\\\m \\left(R + y_{1}{\\left(t \\right)} \\cos{\\left(y_{2}{\\left(t \\right)} \\right)}\\right)^{2} \\frac{d}{d t} y_{3}{\\left(t \\right)}\\end{matrix}\\right]$"
      ],
      "text/plain": [
       "Matrix([\n",
       "[                            m*Derivative(y_1(t), t)],\n",
       "[                  m*y_1(t)**2*Derivative(y_2(t), t)],\n",
       "[m*(R + y_1(t)*cos(y_2(t)))**2*Derivative(y_3(t), t)]])"
      ]
     },
     "execution_count": 14,
     "metadata": {},
     "output_type": "execute_result"
    }
   ],
   "source": [
    "Py"
   ]
  },
  {
   "cell_type": "code",
   "execution_count": 15,
   "id": "e153ec88-f0d7-4533-adf6-a70f917f8e16",
   "metadata": {
    "tags": []
   },
   "outputs": [
    {
     "data": {
      "text/latex": [
       "$\\displaystyle \\left[\\begin{matrix}m \\left(- R \\sin{\\left(y_{3}{\\left(t \\right)} \\right)} \\frac{d}{d t} y_{3}{\\left(t \\right)} - y_{1}{\\left(t \\right)} \\sin{\\left(y_{2}{\\left(t \\right)} \\right)} \\cos{\\left(y_{3}{\\left(t \\right)} \\right)} \\frac{d}{d t} y_{2}{\\left(t \\right)} - y_{1}{\\left(t \\right)} \\sin{\\left(y_{3}{\\left(t \\right)} \\right)} \\cos{\\left(y_{2}{\\left(t \\right)} \\right)} \\frac{d}{d t} y_{3}{\\left(t \\right)} + \\cos{\\left(y_{2}{\\left(t \\right)} \\right)} \\cos{\\left(y_{3}{\\left(t \\right)} \\right)} \\frac{d}{d t} y_{1}{\\left(t \\right)}\\right)\\\\m \\left(R \\cos{\\left(y_{3}{\\left(t \\right)} \\right)} \\frac{d}{d t} y_{3}{\\left(t \\right)} - y_{1}{\\left(t \\right)} \\sin{\\left(y_{2}{\\left(t \\right)} \\right)} \\sin{\\left(y_{3}{\\left(t \\right)} \\right)} \\frac{d}{d t} y_{2}{\\left(t \\right)} + y_{1}{\\left(t \\right)} \\cos{\\left(y_{2}{\\left(t \\right)} \\right)} \\cos{\\left(y_{3}{\\left(t \\right)} \\right)} \\frac{d}{d t} y_{3}{\\left(t \\right)} + \\sin{\\left(y_{3}{\\left(t \\right)} \\right)} \\cos{\\left(y_{2}{\\left(t \\right)} \\right)} \\frac{d}{d t} y_{1}{\\left(t \\right)}\\right)\\\\m \\left(y_{1}{\\left(t \\right)} \\cos{\\left(y_{2}{\\left(t \\right)} \\right)} \\frac{d}{d t} y_{2}{\\left(t \\right)} + \\sin{\\left(y_{2}{\\left(t \\right)} \\right)} \\frac{d}{d t} y_{1}{\\left(t \\right)}\\right)\\end{matrix}\\right]$"
      ],
      "text/plain": [
       "Matrix([\n",
       "[m*(-R*sin(y_3(t))*Derivative(y_3(t), t) - y_1(t)*sin(y_2(t))*cos(y_3(t))*Derivative(y_2(t), t) - y_1(t)*sin(y_3(t))*cos(y_2(t))*Derivative(y_3(t), t) + cos(y_2(t))*cos(y_3(t))*Derivative(y_1(t), t))],\n",
       "[ m*(R*cos(y_3(t))*Derivative(y_3(t), t) - y_1(t)*sin(y_2(t))*sin(y_3(t))*Derivative(y_2(t), t) + y_1(t)*cos(y_2(t))*cos(y_3(t))*Derivative(y_3(t), t) + sin(y_3(t))*cos(y_2(t))*Derivative(y_1(t), t))],\n",
       "[                                                                                                                      m*(y_1(t)*cos(y_2(t))*Derivative(y_2(t), t) + sin(y_2(t))*Derivative(y_1(t), t))]])"
      ]
     },
     "execution_count": 15,
     "metadata": {},
     "output_type": "execute_result"
    }
   ],
   "source": [
    "Px"
   ]
  },
  {
   "cell_type": "markdown",
   "id": "7d1578b5-6555-4369-8941-c8d5ce8e14f4",
   "metadata": {},
   "source": [
    "---"
   ]
  },
  {
   "cell_type": "markdown",
   "id": "f7004a74-4d6b-4fb3-989f-797a48aa42a3",
   "metadata": {},
   "source": [
    "**Una vez calculados los momentos podemos mirar fuerte los vectores e identificar la relación entre los momentos.**\n",
    "\n",
    "**Esto lo vamos a usar para redefinir a los momentos unos en función de otros.**"
   ]
  },
  {
   "cell_type": "markdown",
   "id": "da320787-2ae6-4e05-8dc1-8638e7c6e0bf",
   "metadata": {},
   "source": [
    "---"
   ]
  },
  {
   "cell_type": "code",
   "execution_count": 16,
   "id": "31816a63-aba7-4817-b3b0-0b63ccb65e87",
   "metadata": {
    "tags": []
   },
   "outputs": [],
   "source": [
    "y1,y2,y3,py1,py2,py3 = smp.symbols(r'y_1 y_2 y_3 p_y1 p_y2 p_y3', real=True, cls=smp.Function)\n",
    "\n",
    "y1=y1(t); y2=y2(t); y3=y3(t)\n",
    "py1=py1(t,y1,y2,y3); py2=py2(t,y1,y2,y3); py3=py3(t,y1,y2,y3)\n",
    "\n",
    "px1 = py1*smp.cos(y2)*smp.cos(y3) - py2* smp.sin(y2)*smp.cos(y3)/y1 - py3* smp.sin(y3)/(R + y1*smp.cos(y2))\n",
    "px2 = py1*smp.cos(y2)*smp.sin(y3) - py2* smp.sin(y2)*smp.sin(y3)/y1 + py3* smp.cos(y3)/(R + y1*smp.cos(y2))\n",
    "px3 = py1*smp.sin(y2) + py2* smp.cos(y2)/(-y1)"
   ]
  },
  {
   "cell_type": "code",
   "execution_count": 17,
   "id": "0df1a5e0-a79a-412c-8b35-2ce8c1fd7b23",
   "metadata": {
    "tags": []
   },
   "outputs": [
    {
     "data": {
      "text/latex": [
       "$\\displaystyle \\left[\\begin{matrix}\\cos{\\left(y_{2}{\\left(t \\right)} \\right)} \\cos{\\left(y_{3}{\\left(t \\right)} \\right)} & - y_{1}{\\left(t \\right)} \\sin{\\left(y_{2}{\\left(t \\right)} \\right)} \\cos{\\left(y_{3}{\\left(t \\right)} \\right)} & - \\left(R + y_{1}{\\left(t \\right)} \\cos{\\left(y_{2}{\\left(t \\right)} \\right)}\\right) \\sin{\\left(y_{3}{\\left(t \\right)} \\right)} & 0 & 0 & 0\\\\\\sin{\\left(y_{3}{\\left(t \\right)} \\right)} \\cos{\\left(y_{2}{\\left(t \\right)} \\right)} & - y_{1}{\\left(t \\right)} \\sin{\\left(y_{2}{\\left(t \\right)} \\right)} \\sin{\\left(y_{3}{\\left(t \\right)} \\right)} & \\left(R + y_{1}{\\left(t \\right)} \\cos{\\left(y_{2}{\\left(t \\right)} \\right)}\\right) \\cos{\\left(y_{3}{\\left(t \\right)} \\right)} & 0 & 0 & 0\\\\\\sin{\\left(y_{2}{\\left(t \\right)} \\right)} & y_{1}{\\left(t \\right)} \\cos{\\left(y_{2}{\\left(t \\right)} \\right)} & 0 & 0 & 0 & 0\\\\- \\frac{R \\sin{\\left(y_{3}{\\left(t \\right)} \\right)} \\frac{d}{d y_{1}{\\left(t \\right)}} p_{y3}{\\left(t,y_{1}{\\left(t \\right)},y_{2}{\\left(t \\right)},y_{3}{\\left(t \\right)} \\right)}}{\\left(R + y_{1}{\\left(t \\right)} \\cos{\\left(y_{2}{\\left(t \\right)} \\right)}\\right)^{2}} + \\frac{p_{y2}{\\left(t,y_{1}{\\left(t \\right)},y_{2}{\\left(t \\right)},y_{3}{\\left(t \\right)} \\right)} \\sin{\\left(y_{2}{\\left(t \\right)} \\right)} \\cos{\\left(y_{3}{\\left(t \\right)} \\right)}}{y_{1}^{2}{\\left(t \\right)}} + \\cos{\\left(y_{2}{\\left(t \\right)} \\right)} \\cos{\\left(y_{3}{\\left(t \\right)} \\right)} \\frac{d}{d y_{1}{\\left(t \\right)}} p_{y1}{\\left(t,y_{1}{\\left(t \\right)},y_{2}{\\left(t \\right)},y_{3}{\\left(t \\right)} \\right)} - \\frac{\\sin{\\left(y_{2}{\\left(t \\right)} \\right)} \\cos{\\left(y_{3}{\\left(t \\right)} \\right)} \\frac{d}{d y_{1}{\\left(t \\right)}} p_{y2}{\\left(t,y_{1}{\\left(t \\right)},y_{2}{\\left(t \\right)},y_{3}{\\left(t \\right)} \\right)}}{y_{1}{\\left(t \\right)}} + \\frac{p_{y3}{\\left(t,y_{1}{\\left(t \\right)},y_{2}{\\left(t \\right)},y_{3}{\\left(t \\right)} \\right)} \\sin{\\left(y_{3}{\\left(t \\right)} \\right)} \\cos{\\left(y_{2}{\\left(t \\right)} \\right)}}{\\left(R + y_{1}{\\left(t \\right)} \\cos{\\left(y_{2}{\\left(t \\right)} \\right)}\\right)^{2}} - \\frac{y_{1}{\\left(t \\right)} \\sin{\\left(y_{3}{\\left(t \\right)} \\right)} \\cos{\\left(y_{2}{\\left(t \\right)} \\right)} \\frac{d}{d y_{1}{\\left(t \\right)}} p_{y3}{\\left(t,y_{1}{\\left(t \\right)},y_{2}{\\left(t \\right)},y_{3}{\\left(t \\right)} \\right)}}{\\left(R + y_{1}{\\left(t \\right)} \\cos{\\left(y_{2}{\\left(t \\right)} \\right)}\\right)^{2}} & \\frac{\\left(R + y_{1}{\\left(t \\right)} \\cos{\\left(y_{2}{\\left(t \\right)} \\right)}\\right)^{2} \\left(- p_{y1}{\\left(t,y_{1}{\\left(t \\right)},y_{2}{\\left(t \\right)},y_{3}{\\left(t \\right)} \\right)} \\sin{\\left(y_{2}{\\left(t \\right)} \\right)} + \\cos{\\left(y_{2}{\\left(t \\right)} \\right)} \\frac{d}{d y_{2}{\\left(t \\right)}} p_{y1}{\\left(t,y_{1}{\\left(t \\right)},y_{2}{\\left(t \\right)},y_{3}{\\left(t \\right)} \\right)}\\right) y_{1}{\\left(t \\right)} \\cos{\\left(y_{3}{\\left(t \\right)} \\right)} - \\left(R + y_{1}{\\left(t \\right)} \\cos{\\left(y_{2}{\\left(t \\right)} \\right)}\\right)^{2} \\left(p_{y2}{\\left(t,y_{1}{\\left(t \\right)},y_{2}{\\left(t \\right)},y_{3}{\\left(t \\right)} \\right)} \\cos{\\left(y_{2}{\\left(t \\right)} \\right)} + \\sin{\\left(y_{2}{\\left(t \\right)} \\right)} \\frac{d}{d y_{2}{\\left(t \\right)}} p_{y2}{\\left(t,y_{1}{\\left(t \\right)},y_{2}{\\left(t \\right)},y_{3}{\\left(t \\right)} \\right)}\\right) \\cos{\\left(y_{3}{\\left(t \\right)} \\right)} - \\left(R + y_{1}{\\left(t \\right)} \\cos{\\left(y_{2}{\\left(t \\right)} \\right)}\\right) y_{1}{\\left(t \\right)} \\sin{\\left(y_{3}{\\left(t \\right)} \\right)} \\frac{d}{d y_{2}{\\left(t \\right)}} p_{y3}{\\left(t,y_{1}{\\left(t \\right)},y_{2}{\\left(t \\right)},y_{3}{\\left(t \\right)} \\right)} - p_{y3}{\\left(t,y_{1}{\\left(t \\right)},y_{2}{\\left(t \\right)},y_{3}{\\left(t \\right)} \\right)} y_{1}^{2}{\\left(t \\right)} \\sin{\\left(y_{2}{\\left(t \\right)} \\right)} \\sin{\\left(y_{3}{\\left(t \\right)} \\right)}}{\\left(R + y_{1}{\\left(t \\right)} \\cos{\\left(y_{2}{\\left(t \\right)} \\right)}\\right)^{2} y_{1}{\\left(t \\right)}} & \\frac{\\left(R + y_{1}{\\left(t \\right)} \\cos{\\left(y_{2}{\\left(t \\right)} \\right)}\\right) \\left(- p_{y1}{\\left(t,y_{1}{\\left(t \\right)},y_{2}{\\left(t \\right)},y_{3}{\\left(t \\right)} \\right)} \\sin{\\left(y_{3}{\\left(t \\right)} \\right)} + \\cos{\\left(y_{3}{\\left(t \\right)} \\right)} \\frac{d}{d y_{3}{\\left(t \\right)}} p_{y1}{\\left(t,y_{1}{\\left(t \\right)},y_{2}{\\left(t \\right)},y_{3}{\\left(t \\right)} \\right)}\\right) y_{1}{\\left(t \\right)} \\cos{\\left(y_{2}{\\left(t \\right)} \\right)} + \\left(R + y_{1}{\\left(t \\right)} \\cos{\\left(y_{2}{\\left(t \\right)} \\right)}\\right) \\left(p_{y2}{\\left(t,y_{1}{\\left(t \\right)},y_{2}{\\left(t \\right)},y_{3}{\\left(t \\right)} \\right)} \\sin{\\left(y_{3}{\\left(t \\right)} \\right)} - \\cos{\\left(y_{3}{\\left(t \\right)} \\right)} \\frac{d}{d y_{3}{\\left(t \\right)}} p_{y2}{\\left(t,y_{1}{\\left(t \\right)},y_{2}{\\left(t \\right)},y_{3}{\\left(t \\right)} \\right)}\\right) \\sin{\\left(y_{2}{\\left(t \\right)} \\right)} - \\left(p_{y3}{\\left(t,y_{1}{\\left(t \\right)},y_{2}{\\left(t \\right)},y_{3}{\\left(t \\right)} \\right)} \\cos{\\left(y_{3}{\\left(t \\right)} \\right)} + \\sin{\\left(y_{3}{\\left(t \\right)} \\right)} \\frac{d}{d y_{3}{\\left(t \\right)}} p_{y3}{\\left(t,y_{1}{\\left(t \\right)},y_{2}{\\left(t \\right)},y_{3}{\\left(t \\right)} \\right)}\\right) y_{1}{\\left(t \\right)}}{\\left(R + y_{1}{\\left(t \\right)} \\cos{\\left(y_{2}{\\left(t \\right)} \\right)}\\right) y_{1}{\\left(t \\right)}} & \\cos{\\left(y_{2}{\\left(t \\right)} \\right)} \\cos{\\left(y_{3}{\\left(t \\right)} \\right)} & - \\frac{\\sin{\\left(y_{2}{\\left(t \\right)} \\right)} \\cos{\\left(y_{3}{\\left(t \\right)} \\right)}}{y_{1}{\\left(t \\right)}} & - \\frac{\\sin{\\left(y_{3}{\\left(t \\right)} \\right)}}{R + y_{1}{\\left(t \\right)} \\cos{\\left(y_{2}{\\left(t \\right)} \\right)}}\\\\\\frac{R \\cos{\\left(y_{3}{\\left(t \\right)} \\right)} \\frac{d}{d y_{1}{\\left(t \\right)}} p_{y3}{\\left(t,y_{1}{\\left(t \\right)},y_{2}{\\left(t \\right)},y_{3}{\\left(t \\right)} \\right)}}{\\left(R + y_{1}{\\left(t \\right)} \\cos{\\left(y_{2}{\\left(t \\right)} \\right)}\\right)^{2}} + \\frac{p_{y2}{\\left(t,y_{1}{\\left(t \\right)},y_{2}{\\left(t \\right)},y_{3}{\\left(t \\right)} \\right)} \\sin{\\left(y_{2}{\\left(t \\right)} \\right)} \\sin{\\left(y_{3}{\\left(t \\right)} \\right)}}{y_{1}^{2}{\\left(t \\right)}} + \\sin{\\left(y_{3}{\\left(t \\right)} \\right)} \\cos{\\left(y_{2}{\\left(t \\right)} \\right)} \\frac{d}{d y_{1}{\\left(t \\right)}} p_{y1}{\\left(t,y_{1}{\\left(t \\right)},y_{2}{\\left(t \\right)},y_{3}{\\left(t \\right)} \\right)} - \\frac{\\sin{\\left(y_{2}{\\left(t \\right)} \\right)} \\sin{\\left(y_{3}{\\left(t \\right)} \\right)} \\frac{d}{d y_{1}{\\left(t \\right)}} p_{y2}{\\left(t,y_{1}{\\left(t \\right)},y_{2}{\\left(t \\right)},y_{3}{\\left(t \\right)} \\right)}}{y_{1}{\\left(t \\right)}} - \\frac{p_{y3}{\\left(t,y_{1}{\\left(t \\right)},y_{2}{\\left(t \\right)},y_{3}{\\left(t \\right)} \\right)} \\cos{\\left(y_{2}{\\left(t \\right)} \\right)} \\cos{\\left(y_{3}{\\left(t \\right)} \\right)}}{\\left(R + y_{1}{\\left(t \\right)} \\cos{\\left(y_{2}{\\left(t \\right)} \\right)}\\right)^{2}} + \\frac{y_{1}{\\left(t \\right)} \\cos{\\left(y_{2}{\\left(t \\right)} \\right)} \\cos{\\left(y_{3}{\\left(t \\right)} \\right)} \\frac{d}{d y_{1}{\\left(t \\right)}} p_{y3}{\\left(t,y_{1}{\\left(t \\right)},y_{2}{\\left(t \\right)},y_{3}{\\left(t \\right)} \\right)}}{\\left(R + y_{1}{\\left(t \\right)} \\cos{\\left(y_{2}{\\left(t \\right)} \\right)}\\right)^{2}} & \\frac{\\left(R + y_{1}{\\left(t \\right)} \\cos{\\left(y_{2}{\\left(t \\right)} \\right)}\\right)^{2} \\left(- p_{y1}{\\left(t,y_{1}{\\left(t \\right)},y_{2}{\\left(t \\right)},y_{3}{\\left(t \\right)} \\right)} \\sin{\\left(y_{2}{\\left(t \\right)} \\right)} + \\cos{\\left(y_{2}{\\left(t \\right)} \\right)} \\frac{d}{d y_{2}{\\left(t \\right)}} p_{y1}{\\left(t,y_{1}{\\left(t \\right)},y_{2}{\\left(t \\right)},y_{3}{\\left(t \\right)} \\right)}\\right) y_{1}{\\left(t \\right)} \\sin{\\left(y_{3}{\\left(t \\right)} \\right)} - \\left(R + y_{1}{\\left(t \\right)} \\cos{\\left(y_{2}{\\left(t \\right)} \\right)}\\right)^{2} \\left(p_{y2}{\\left(t,y_{1}{\\left(t \\right)},y_{2}{\\left(t \\right)},y_{3}{\\left(t \\right)} \\right)} \\cos{\\left(y_{2}{\\left(t \\right)} \\right)} + \\sin{\\left(y_{2}{\\left(t \\right)} \\right)} \\frac{d}{d y_{2}{\\left(t \\right)}} p_{y2}{\\left(t,y_{1}{\\left(t \\right)},y_{2}{\\left(t \\right)},y_{3}{\\left(t \\right)} \\right)}\\right) \\sin{\\left(y_{3}{\\left(t \\right)} \\right)} + \\left(R + y_{1}{\\left(t \\right)} \\cos{\\left(y_{2}{\\left(t \\right)} \\right)}\\right) y_{1}{\\left(t \\right)} \\cos{\\left(y_{3}{\\left(t \\right)} \\right)} \\frac{d}{d y_{2}{\\left(t \\right)}} p_{y3}{\\left(t,y_{1}{\\left(t \\right)},y_{2}{\\left(t \\right)},y_{3}{\\left(t \\right)} \\right)} + p_{y3}{\\left(t,y_{1}{\\left(t \\right)},y_{2}{\\left(t \\right)},y_{3}{\\left(t \\right)} \\right)} y_{1}^{2}{\\left(t \\right)} \\sin{\\left(y_{2}{\\left(t \\right)} \\right)} \\cos{\\left(y_{3}{\\left(t \\right)} \\right)}}{\\left(R + y_{1}{\\left(t \\right)} \\cos{\\left(y_{2}{\\left(t \\right)} \\right)}\\right)^{2} y_{1}{\\left(t \\right)}} & \\frac{\\left(R + y_{1}{\\left(t \\right)} \\cos{\\left(y_{2}{\\left(t \\right)} \\right)}\\right) \\left(p_{y1}{\\left(t,y_{1}{\\left(t \\right)},y_{2}{\\left(t \\right)},y_{3}{\\left(t \\right)} \\right)} \\cos{\\left(y_{3}{\\left(t \\right)} \\right)} + \\sin{\\left(y_{3}{\\left(t \\right)} \\right)} \\frac{d}{d y_{3}{\\left(t \\right)}} p_{y1}{\\left(t,y_{1}{\\left(t \\right)},y_{2}{\\left(t \\right)},y_{3}{\\left(t \\right)} \\right)}\\right) y_{1}{\\left(t \\right)} \\cos{\\left(y_{2}{\\left(t \\right)} \\right)} - \\left(R + y_{1}{\\left(t \\right)} \\cos{\\left(y_{2}{\\left(t \\right)} \\right)}\\right) \\left(p_{y2}{\\left(t,y_{1}{\\left(t \\right)},y_{2}{\\left(t \\right)},y_{3}{\\left(t \\right)} \\right)} \\cos{\\left(y_{3}{\\left(t \\right)} \\right)} + \\sin{\\left(y_{3}{\\left(t \\right)} \\right)} \\frac{d}{d y_{3}{\\left(t \\right)}} p_{y2}{\\left(t,y_{1}{\\left(t \\right)},y_{2}{\\left(t \\right)},y_{3}{\\left(t \\right)} \\right)}\\right) \\sin{\\left(y_{2}{\\left(t \\right)} \\right)} + \\left(- p_{y3}{\\left(t,y_{1}{\\left(t \\right)},y_{2}{\\left(t \\right)},y_{3}{\\left(t \\right)} \\right)} \\sin{\\left(y_{3}{\\left(t \\right)} \\right)} + \\cos{\\left(y_{3}{\\left(t \\right)} \\right)} \\frac{d}{d y_{3}{\\left(t \\right)}} p_{y3}{\\left(t,y_{1}{\\left(t \\right)},y_{2}{\\left(t \\right)},y_{3}{\\left(t \\right)} \\right)}\\right) y_{1}{\\left(t \\right)}}{\\left(R + y_{1}{\\left(t \\right)} \\cos{\\left(y_{2}{\\left(t \\right)} \\right)}\\right) y_{1}{\\left(t \\right)}} & \\sin{\\left(y_{3}{\\left(t \\right)} \\right)} \\cos{\\left(y_{2}{\\left(t \\right)} \\right)} & - \\frac{\\sin{\\left(y_{2}{\\left(t \\right)} \\right)} \\sin{\\left(y_{3}{\\left(t \\right)} \\right)}}{y_{1}{\\left(t \\right)}} & \\frac{\\cos{\\left(y_{3}{\\left(t \\right)} \\right)}}{R + y_{1}{\\left(t \\right)} \\cos{\\left(y_{2}{\\left(t \\right)} \\right)}}\\\\\\frac{p_{y2}{\\left(t,y_{1}{\\left(t \\right)},y_{2}{\\left(t \\right)},y_{3}{\\left(t \\right)} \\right)} \\cos{\\left(y_{2}{\\left(t \\right)} \\right)}}{y_{1}^{2}{\\left(t \\right)}} + \\sin{\\left(y_{2}{\\left(t \\right)} \\right)} \\frac{d}{d y_{1}{\\left(t \\right)}} p_{y1}{\\left(t,y_{1}{\\left(t \\right)},y_{2}{\\left(t \\right)},y_{3}{\\left(t \\right)} \\right)} - \\frac{\\cos{\\left(y_{2}{\\left(t \\right)} \\right)} \\frac{d}{d y_{1}{\\left(t \\right)}} p_{y2}{\\left(t,y_{1}{\\left(t \\right)},y_{2}{\\left(t \\right)},y_{3}{\\left(t \\right)} \\right)}}{y_{1}{\\left(t \\right)}} & \\frac{\\left(p_{y1}{\\left(t,y_{1}{\\left(t \\right)},y_{2}{\\left(t \\right)},y_{3}{\\left(t \\right)} \\right)} \\cos{\\left(y_{2}{\\left(t \\right)} \\right)} + \\sin{\\left(y_{2}{\\left(t \\right)} \\right)} \\frac{d}{d y_{2}{\\left(t \\right)}} p_{y1}{\\left(t,y_{1}{\\left(t \\right)},y_{2}{\\left(t \\right)},y_{3}{\\left(t \\right)} \\right)}\\right) y_{1}{\\left(t \\right)} + p_{y2}{\\left(t,y_{1}{\\left(t \\right)},y_{2}{\\left(t \\right)},y_{3}{\\left(t \\right)} \\right)} \\sin{\\left(y_{2}{\\left(t \\right)} \\right)} - \\cos{\\left(y_{2}{\\left(t \\right)} \\right)} \\frac{d}{d y_{2}{\\left(t \\right)}} p_{y2}{\\left(t,y_{1}{\\left(t \\right)},y_{2}{\\left(t \\right)},y_{3}{\\left(t \\right)} \\right)}}{y_{1}{\\left(t \\right)}} & \\sin{\\left(y_{2}{\\left(t \\right)} \\right)} \\frac{d}{d y_{3}{\\left(t \\right)}} p_{y1}{\\left(t,y_{1}{\\left(t \\right)},y_{2}{\\left(t \\right)},y_{3}{\\left(t \\right)} \\right)} - \\frac{\\cos{\\left(y_{2}{\\left(t \\right)} \\right)} \\frac{d}{d y_{3}{\\left(t \\right)}} p_{y2}{\\left(t,y_{1}{\\left(t \\right)},y_{2}{\\left(t \\right)},y_{3}{\\left(t \\right)} \\right)}}{y_{1}{\\left(t \\right)}} & \\sin{\\left(y_{2}{\\left(t \\right)} \\right)} & - \\frac{\\cos{\\left(y_{2}{\\left(t \\right)} \\right)}}{y_{1}{\\left(t \\right)}} & 0\\end{matrix}\\right]$"
      ],
      "text/plain": [
       "Matrix([\n",
       "[                                                                                                                                                                                                                                                                                                                                                                                                                                                                                                                     cos(y_2(t))*cos(y_3(t)),                                                                                                                                                                                                                                                                                                                                                                                                                                                                                                        -y_1(t)*sin(y_2(t))*cos(y_3(t)),                                                                                                                                                                                                                                                                                                                                                                                                                                            -(R + y_1(t)*cos(y_2(t)))*sin(y_3(t)),                       0,                               0,                                     0],\n",
       "[                                                                                                                                                                                                                                                                                                                                                                                                                                                                                                                     sin(y_3(t))*cos(y_2(t)),                                                                                                                                                                                                                                                                                                                                                                                                                                                                                                        -y_1(t)*sin(y_2(t))*sin(y_3(t)),                                                                                                                                                                                                                                                                                                                                                                                                                                             (R + y_1(t)*cos(y_2(t)))*cos(y_3(t)),                       0,                               0,                                     0],\n",
       "[                                                                                                                                                                                                                                                                                                                                                                                                                                                                                                                                 sin(y_2(t)),                                                                                                                                                                                                                                                                                                                                                                                                                                                                                                                     y_1(t)*cos(y_2(t)),                                                                                                                                                                                                                                                                                                                                                                                                                                                                                0,                       0,                               0,                                     0],\n",
       "[-R*sin(y_3(t))*Derivative(p_y3(t, y_1(t), y_2(t), y_3(t)), y_1(t))/(R + y_1(t)*cos(y_2(t)))**2 + p_y2(t, y_1(t), y_2(t), y_3(t))*sin(y_2(t))*cos(y_3(t))/y_1(t)**2 + cos(y_2(t))*cos(y_3(t))*Derivative(p_y1(t, y_1(t), y_2(t), y_3(t)), y_1(t)) - sin(y_2(t))*cos(y_3(t))*Derivative(p_y2(t, y_1(t), y_2(t), y_3(t)), y_1(t))/y_1(t) + p_y3(t, y_1(t), y_2(t), y_3(t))*sin(y_3(t))*cos(y_2(t))/(R + y_1(t)*cos(y_2(t)))**2 - y_1(t)*sin(y_3(t))*cos(y_2(t))*Derivative(p_y3(t, y_1(t), y_2(t), y_3(t)), y_1(t))/(R + y_1(t)*cos(y_2(t)))**2, ((R + y_1(t)*cos(y_2(t)))**2*(-p_y1(t, y_1(t), y_2(t), y_3(t))*sin(y_2(t)) + cos(y_2(t))*Derivative(p_y1(t, y_1(t), y_2(t), y_3(t)), y_2(t)))*y_1(t)*cos(y_3(t)) - (R + y_1(t)*cos(y_2(t)))**2*(p_y2(t, y_1(t), y_2(t), y_3(t))*cos(y_2(t)) + sin(y_2(t))*Derivative(p_y2(t, y_1(t), y_2(t), y_3(t)), y_2(t)))*cos(y_3(t)) - (R + y_1(t)*cos(y_2(t)))*y_1(t)*sin(y_3(t))*Derivative(p_y3(t, y_1(t), y_2(t), y_3(t)), y_2(t)) - p_y3(t, y_1(t), y_2(t), y_3(t))*y_1(t)**2*sin(y_2(t))*sin(y_3(t)))/((R + y_1(t)*cos(y_2(t)))**2*y_1(t)), ((R + y_1(t)*cos(y_2(t)))*(-p_y1(t, y_1(t), y_2(t), y_3(t))*sin(y_3(t)) + cos(y_3(t))*Derivative(p_y1(t, y_1(t), y_2(t), y_3(t)), y_3(t)))*y_1(t)*cos(y_2(t)) + (R + y_1(t)*cos(y_2(t)))*(p_y2(t, y_1(t), y_2(t), y_3(t))*sin(y_3(t)) - cos(y_3(t))*Derivative(p_y2(t, y_1(t), y_2(t), y_3(t)), y_3(t)))*sin(y_2(t)) - (p_y3(t, y_1(t), y_2(t), y_3(t))*cos(y_3(t)) + sin(y_3(t))*Derivative(p_y3(t, y_1(t), y_2(t), y_3(t)), y_3(t)))*y_1(t))/((R + y_1(t)*cos(y_2(t)))*y_1(t)), cos(y_2(t))*cos(y_3(t)), -sin(y_2(t))*cos(y_3(t))/y_1(t), -sin(y_3(t))/(R + y_1(t)*cos(y_2(t)))],\n",
       "[ R*cos(y_3(t))*Derivative(p_y3(t, y_1(t), y_2(t), y_3(t)), y_1(t))/(R + y_1(t)*cos(y_2(t)))**2 + p_y2(t, y_1(t), y_2(t), y_3(t))*sin(y_2(t))*sin(y_3(t))/y_1(t)**2 + sin(y_3(t))*cos(y_2(t))*Derivative(p_y1(t, y_1(t), y_2(t), y_3(t)), y_1(t)) - sin(y_2(t))*sin(y_3(t))*Derivative(p_y2(t, y_1(t), y_2(t), y_3(t)), y_1(t))/y_1(t) - p_y3(t, y_1(t), y_2(t), y_3(t))*cos(y_2(t))*cos(y_3(t))/(R + y_1(t)*cos(y_2(t)))**2 + y_1(t)*cos(y_2(t))*cos(y_3(t))*Derivative(p_y3(t, y_1(t), y_2(t), y_3(t)), y_1(t))/(R + y_1(t)*cos(y_2(t)))**2, ((R + y_1(t)*cos(y_2(t)))**2*(-p_y1(t, y_1(t), y_2(t), y_3(t))*sin(y_2(t)) + cos(y_2(t))*Derivative(p_y1(t, y_1(t), y_2(t), y_3(t)), y_2(t)))*y_1(t)*sin(y_3(t)) - (R + y_1(t)*cos(y_2(t)))**2*(p_y2(t, y_1(t), y_2(t), y_3(t))*cos(y_2(t)) + sin(y_2(t))*Derivative(p_y2(t, y_1(t), y_2(t), y_3(t)), y_2(t)))*sin(y_3(t)) + (R + y_1(t)*cos(y_2(t)))*y_1(t)*cos(y_3(t))*Derivative(p_y3(t, y_1(t), y_2(t), y_3(t)), y_2(t)) + p_y3(t, y_1(t), y_2(t), y_3(t))*y_1(t)**2*sin(y_2(t))*cos(y_3(t)))/((R + y_1(t)*cos(y_2(t)))**2*y_1(t)), ((R + y_1(t)*cos(y_2(t)))*(p_y1(t, y_1(t), y_2(t), y_3(t))*cos(y_3(t)) + sin(y_3(t))*Derivative(p_y1(t, y_1(t), y_2(t), y_3(t)), y_3(t)))*y_1(t)*cos(y_2(t)) - (R + y_1(t)*cos(y_2(t)))*(p_y2(t, y_1(t), y_2(t), y_3(t))*cos(y_3(t)) + sin(y_3(t))*Derivative(p_y2(t, y_1(t), y_2(t), y_3(t)), y_3(t)))*sin(y_2(t)) + (-p_y3(t, y_1(t), y_2(t), y_3(t))*sin(y_3(t)) + cos(y_3(t))*Derivative(p_y3(t, y_1(t), y_2(t), y_3(t)), y_3(t)))*y_1(t))/((R + y_1(t)*cos(y_2(t)))*y_1(t)), sin(y_3(t))*cos(y_2(t)), -sin(y_2(t))*sin(y_3(t))/y_1(t),  cos(y_3(t))/(R + y_1(t)*cos(y_2(t)))],\n",
       "[                                                                                                                                                                                                                                                                                                                                            p_y2(t, y_1(t), y_2(t), y_3(t))*cos(y_2(t))/y_1(t)**2 + sin(y_2(t))*Derivative(p_y1(t, y_1(t), y_2(t), y_3(t)), y_1(t)) - cos(y_2(t))*Derivative(p_y2(t, y_1(t), y_2(t), y_3(t)), y_1(t))/y_1(t),                                                                                                                                                                                                                                                                                        ((p_y1(t, y_1(t), y_2(t), y_3(t))*cos(y_2(t)) + sin(y_2(t))*Derivative(p_y1(t, y_1(t), y_2(t), y_3(t)), y_2(t)))*y_1(t) + p_y2(t, y_1(t), y_2(t), y_3(t))*sin(y_2(t)) - cos(y_2(t))*Derivative(p_y2(t, y_1(t), y_2(t), y_3(t)), y_2(t)))/y_1(t),                                                                                                                                                                                                                                                                                                                                         sin(y_2(t))*Derivative(p_y1(t, y_1(t), y_2(t), y_3(t)), y_3(t)) - cos(y_2(t))*Derivative(p_y2(t, y_1(t), y_2(t), y_3(t)), y_3(t))/y_1(t),             sin(y_2(t)),             -cos(y_2(t))/y_1(t),                                     0]])"
      ]
     },
     "execution_count": 17,
     "metadata": {},
     "output_type": "execute_result"
    }
   ],
   "source": [
    "# Defino una lista de variables\n",
    "x_px = [x1,x2,x3,px1,px2,px3]\n",
    "y_py = [y1,y2,y3,py1,py2,py3]\n",
    "\n",
    "jacobiana = smp.Matrix([[smp.diff(x_px[i],y_py[j]) for j in range(6)] for i in range(6)]).applyfunc(lambda x: x.simplify())\n",
    "jacobiana"
   ]
  },
  {
   "cell_type": "code",
   "execution_count": 18,
   "id": "c277d47d-3730-4892-99d8-7926f7295ce9",
   "metadata": {
    "tags": []
   },
   "outputs": [
    {
     "data": {
      "text/latex": [
       "$\\displaystyle - \\cos{\\left(2 y_{2}{\\left(t \\right)} \\right)}$"
      ],
      "text/plain": [
       "-cos(2*y_2(t))"
      ]
     },
     "execution_count": 18,
     "metadata": {},
     "output_type": "execute_result"
    }
   ],
   "source": [
    "jacobiana.det().simplify()"
   ]
  }
 ],
 "metadata": {
  "kernelspec": {
   "display_name": "Python 3 (ipykernel)",
   "language": "python",
   "name": "python3"
  },
  "language_info": {
   "codemirror_mode": {
    "name": "ipython",
    "version": 3
   },
   "file_extension": ".py",
   "mimetype": "text/x-python",
   "name": "python",
   "nbconvert_exporter": "python",
   "pygments_lexer": "ipython3",
   "version": "3.10.6"
  }
 },
 "nbformat": 4,
 "nbformat_minor": 5
}
