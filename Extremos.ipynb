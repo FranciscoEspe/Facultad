{
 "cells": [
  {
   "cell_type": "code",
   "execution_count": 98,
   "id": "5432e6d9-2b3b-4b62-995d-cffd95681a56",
   "metadata": {},
   "outputs": [
    {
     "name": "stdout",
     "output_type": "stream",
     "text": [
      "The watermark extension is already loaded. To reload it, use:\n",
      "  %reload_ext watermark\n",
      "sympy     : 1.5.1\n",
      "matplotlib: 3.1.2\n",
      "numpy     : 1.17.4\n",
      "\n"
     ]
    }
   ],
   "source": [
    "%load_ext watermark\n",
    "\n",
    "# python, ipython, packages, and machine characteristics\n",
    "%watermark --iversions"
   ]
  },
  {
   "cell_type": "markdown",
   "id": "45d13414-9b01-43a2-bee1-f0e93f948ea4",
   "metadata": {},
   "source": [
    "# Notebook para Análisis Matemático 2\n",
    "\n",
    "La idea es ir agregándole herramientas a medida que se vayan aprendiendo. Más que nada es para ahorrarte o corroborar algunas cuentas."
   ]
  },
  {
   "cell_type": "markdown",
   "id": "916abbc2-bbcc-4274-a0a9-993fc738f43f",
   "metadata": {},
   "source": [
    "Primero importamos las librerías que vamos a usar. La idea de esto es decirle a python que se tenga a mano algunas herramientas:\n",
    "\n",
    "* SymPy: Es la que nos deja hacer cálculo simbólico. Con simbolitos.\n",
    "* Matplotlib: Es la que nos deja hacer gráficos. Llamamos en particular a pyplot porque es la que se usar y la más usada en general.\n",
    "* NumPy: Es una que te permite hacer cuentas grandes de manera súper optimizada. Clave para cálculo numérico."
   ]
  },
  {
   "cell_type": "code",
   "execution_count": 85,
   "id": "03a23721-a14e-41e1-81b8-44a460dfc9c0",
   "metadata": {},
   "outputs": [],
   "source": [
    "import sympy as smp\n",
    "import matplotlib.pyplot as plt\n",
    "import numpy as np"
   ]
  },
  {
   "cell_type": "markdown",
   "id": "6879c948-10f6-4cd6-b164-6e941f88454c",
   "metadata": {},
   "source": [
    "## Extremos con restricciones "
   ]
  },
  {
   "cell_type": "markdown",
   "id": "f7bbabeb-218a-4fa2-b514-caf7c5e53515",
   "metadata": {},
   "source": [
    "Lo primero que hacemos es definir las cosas correctamente según Sympy\n",
    "\n",
    "* Las variables las llamamos en una línea y las funciones en otra. \n",
    "* Las últimas tienen que tener el argumento cls=smp.Function. \n",
    "* Le decimos las variables de las que dependen.\n",
    "\n",
    "Si querés podés agregar más funciones o variables acordándote de seguir el formato anterior."
   ]
  },
  {
   "cell_type": "code",
   "execution_count": 99,
   "id": "fdc0cbd2-2394-402b-b6a7-2bfa849bf315",
   "metadata": {},
   "outputs": [
    {
     "data": {
      "text/latex": [
       "$\\displaystyle \\lambda$"
      ],
      "text/plain": [
       "\\lambda"
      ]
     },
     "execution_count": 99,
     "metadata": {},
     "output_type": "execute_result"
    }
   ],
   "source": [
    "# Esto es un comentario. No se corre lo que le sigue al numeral y no afecta en nada al resto.\n",
    "x,y,l = smp.symbols(r'x y \\lambda', real=True)  # Fijate que puse r' ...' eso es para que me tome la letra griega lambda.\n",
    "f, g = smp.symbols('f g', real=True, cls=smp.Function)\n",
    "f = f(x,y); g=g(x,y)\n",
    "l"
   ]
  },
  {
   "cell_type": "code",
   "execution_count": 87,
   "id": "489f1605-1445-4511-a187-e3159a3294cf",
   "metadata": {},
   "outputs": [],
   "source": [
    "f = 2*x**2 + y**4\n",
    "g = x**2 + 2*y**2 - 8"
   ]
  },
  {
   "cell_type": "code",
   "execution_count": 88,
   "id": "6d6fee17-45de-4013-a8bf-8d2b585ac332",
   "metadata": {},
   "outputs": [
    {
     "data": {
      "text/latex": [
       "$\\displaystyle x^{2} + 2 y^{2} - 8$"
      ],
      "text/plain": [
       "x**2 + 2*y**2 - 8"
      ]
     },
     "execution_count": 88,
     "metadata": {},
     "output_type": "execute_result"
    }
   ],
   "source": [
    "g"
   ]
  },
  {
   "cell_type": "code",
   "execution_count": 89,
   "id": "220891a5-b9a1-4bb0-b0f0-bffc90aa8c8e",
   "metadata": {},
   "outputs": [
    {
     "data": {
      "text/plain": [
       "[4*x, 4*y**3]"
      ]
     },
     "execution_count": 89,
     "metadata": {},
     "output_type": "execute_result"
    }
   ],
   "source": [
    "var = [x,y]\n",
    "grad_f = [smp.diff(f, u) for u in var]\n",
    "grad_g = [smp.diff(g, u) for u in var]\n",
    "grad_f"
   ]
  },
  {
   "cell_type": "code",
   "execution_count": 51,
   "id": "9e3b2426-0a70-4c46-93fb-ebffe6b078f6",
   "metadata": {},
   "outputs": [
    {
     "data": {
      "text/latex": [
       "$\\displaystyle \\left[\\begin{matrix}2 & 0\\\\0 & 6 y^{2}\\end{matrix}\\right]$"
      ],
      "text/plain": [
       "Matrix([\n",
       "[2,      0],\n",
       "[0, 6*y**2]])"
      ]
     },
     "execution_count": 51,
     "metadata": {},
     "output_type": "execute_result"
    }
   ],
   "source": [
    "hess_f = smp.MutableDenseMatrix([[smp.Rational(1,2)*smp.diff(grad_f[i], u) for u in var] for i in [0,1]])\n",
    "hess_f"
   ]
  },
  {
   "cell_type": "code",
   "execution_count": 52,
   "id": "e2c2ff9c-07a4-46dc-a08f-1a36c22b44dd",
   "metadata": {},
   "outputs": [
    {
     "data": {
      "text/plain": [
       "[(2,\n",
       "  1,\n",
       "  [Matrix([\n",
       "   [1],\n",
       "   [0]])]),\n",
       " (6*y**2,\n",
       "  1,\n",
       "  [Matrix([\n",
       "   [0],\n",
       "   [1]])])]"
      ]
     },
     "execution_count": 52,
     "metadata": {},
     "output_type": "execute_result"
    }
   ],
   "source": [
    "hess_f.eigenvects()"
   ]
  },
  {
   "cell_type": "code",
   "execution_count": 53,
   "id": "6cac7615-1aaf-4840-8d1b-d008108aca91",
   "metadata": {},
   "outputs": [],
   "source": [
    "grad_f_menos_lambda_grad_g = [grad_f[i] - l*grad_g[i] for i in [0,1]]\n",
    "sols = smp.solve(grad_f_menos_lambda_grad_g, (x,y))"
   ]
  },
  {
   "cell_type": "code",
   "execution_count": 54,
   "id": "eeea2e1c-c0b0-4fe9-98ac-c5dfe4b68ad9",
   "metadata": {},
   "outputs": [
    {
     "data": {
      "text/plain": [
       "[(0, 0), (0, -sqrt(\\lambda)), (0, sqrt(\\lambda))]"
      ]
     },
     "execution_count": 54,
     "metadata": {},
     "output_type": "execute_result"
    }
   ],
   "source": [
    "sols"
   ]
  },
  {
   "cell_type": "code",
   "execution_count": 55,
   "id": "20d6c798-f50a-4ada-9a7c-5a80bdce3182",
   "metadata": {},
   "outputs": [
    {
     "data": {
      "text/latex": [
       "$\\displaystyle - 2 \\lambda x + 4 x$"
      ],
      "text/plain": [
       "-2*\\lambda*x + 4*x"
      ]
     },
     "execution_count": 55,
     "metadata": {},
     "output_type": "execute_result"
    }
   ],
   "source": [
    "grad_f_menos_lambda_grad_g[0]"
   ]
  },
  {
   "cell_type": "code",
   "execution_count": 56,
   "id": "b95da557-b9e2-45e2-ac41-1b10d75755e8",
   "metadata": {},
   "outputs": [
    {
     "data": {
      "text/latex": [
       "$\\displaystyle - 4 \\lambda y + 4 y^{3}$"
      ],
      "text/plain": [
       "-4*\\lambda*y + 4*y**3"
      ]
     },
     "execution_count": 56,
     "metadata": {},
     "output_type": "execute_result"
    }
   ],
   "source": [
    "grad_f_menos_lambda_grad_g[1]"
   ]
  },
  {
   "cell_type": "code",
   "execution_count": 57,
   "id": "28104b19-53b1-4eb5-9c28-1e43af913694",
   "metadata": {},
   "outputs": [],
   "source": [
    "l_xsol = smp.solve(grad_f_menos_lambda_grad_g[0], l)\n",
    "l_ysol = smp.solve(grad_f_menos_lambda_grad_g[1], l)"
   ]
  },
  {
   "cell_type": "code",
   "execution_count": 58,
   "id": "6d9406fe-467f-4e1a-94f9-7d3f1c2443bc",
   "metadata": {},
   "outputs": [
    {
     "data": {
      "text/plain": [
       "[2]"
      ]
     },
     "execution_count": 58,
     "metadata": {},
     "output_type": "execute_result"
    }
   ],
   "source": [
    "l_xsol"
   ]
  },
  {
   "cell_type": "code",
   "execution_count": 59,
   "id": "0529ac90-53c4-4bd7-8e4b-61b23a8e68d3",
   "metadata": {},
   "outputs": [
    {
     "data": {
      "text/plain": [
       "[y**2]"
      ]
     },
     "execution_count": 59,
     "metadata": {},
     "output_type": "execute_result"
    }
   ],
   "source": [
    "l_ysol"
   ]
  },
  {
   "cell_type": "code",
   "execution_count": 63,
   "id": "4a08146e-efdb-4053-b106-ca2b27845e6f",
   "metadata": {},
   "outputs": [
    {
     "data": {
      "text/plain": [
       "[-2*\\lambda*x + 4*x, -4*\\lambda*y + 4*y**3, x**2 + 2*y**2 - 8]"
      ]
     },
     "execution_count": 63,
     "metadata": {},
     "output_type": "execute_result"
    }
   ],
   "source": [
    "lagrange"
   ]
  },
  {
   "cell_type": "code",
   "execution_count": 60,
   "id": "9f0b5508-cfc3-442b-b226-80bc2f0405a1",
   "metadata": {},
   "outputs": [],
   "source": [
    "lagrange = [grad_f[i] - l*grad_g[i] for i in [0,1]]\n",
    "lagrange.append(g)\n",
    "lagr_sols = smp.solve(lagrange, (x,y,l))"
   ]
  },
  {
   "cell_type": "code",
   "execution_count": 64,
   "id": "daa494fa-a1d9-4e9a-b137-e91d53024557",
   "metadata": {},
   "outputs": [
    {
     "data": {
      "text/plain": [
       "[(-2, -sqrt(2), 2),\n",
       " (-2, sqrt(2), 2),\n",
       " (0, -2, 4),\n",
       " (0, 2, 4),\n",
       " (2, -sqrt(2), 2),\n",
       " (2, sqrt(2), 2),\n",
       " (-2*sqrt(2), 0, 2),\n",
       " (2*sqrt(2), 0, 2)]"
      ]
     },
     "execution_count": 64,
     "metadata": {},
     "output_type": "execute_result"
    }
   ],
   "source": [
    "lagr_sols"
   ]
  },
  {
   "cell_type": "code",
   "execution_count": 65,
   "id": "c9bd3b5f-4401-4c42-bcac-18417c4683f2",
   "metadata": {
    "collapsed": true,
    "jupyter": {
     "outputs_hidden": true
    },
    "tags": []
   },
   "outputs": [
    {
     "name": "stdout",
     "output_type": "stream",
     "text": [
      "x 0\n",
      "0\n",
      "y\n",
      "0\n",
      "x 1\n",
      "0\n",
      "y\n",
      "0\n",
      "x 2\n",
      "0\n",
      "y\n",
      "0\n",
      "x 3\n",
      "0\n",
      "y\n",
      "0\n",
      "x 4\n",
      "0\n",
      "y\n",
      "0\n",
      "x 5\n",
      "0\n",
      "y\n",
      "0\n",
      "x 6\n",
      "0\n",
      "y\n",
      "0\n",
      "x 7\n",
      "0\n",
      "y\n",
      "0\n"
     ]
    }
   ],
   "source": [
    "variables = [x,y,l]\n",
    "for j in range(8):\n",
    "    print('x', j)\n",
    "    print(grad_f_menos_lambda_grad_g[0].subs([(variables[i],lagr_sols[j][i]) for i in [0,1,2]]))\n",
    "    print('y')\n",
    "    print(grad_f_menos_lambda_grad_g[1].subs([(variables[i],lagr_sols[j][i]) for i in [0,1,2]]))"
   ]
  },
  {
   "cell_type": "code",
   "execution_count": 38,
   "id": "24d58685-f01a-4755-bc2f-bc10f9b72388",
   "metadata": {},
   "outputs": [
    {
     "data": {
      "text/latex": [
       "$\\displaystyle 0$"
      ],
      "text/plain": [
       "0"
      ]
     },
     "execution_count": 38,
     "metadata": {},
     "output_type": "execute_result"
    }
   ],
   "source": [
    "grad_f_menos_lambda_grad_g[0].subs([(l,2),(y,0)])"
   ]
  },
  {
   "cell_type": "code",
   "execution_count": 66,
   "id": "a6601750-4706-4e51-a492-86c82dc66073",
   "metadata": {},
   "outputs": [
    {
     "data": {
      "text/latex": [
       "$\\displaystyle \\sqrt{8 - y^{2}}$"
      ],
      "text/plain": [
       "sqrt(8 - y**2)"
      ]
     },
     "execution_count": 66,
     "metadata": {},
     "output_type": "execute_result"
    }
   ],
   "source": [
    "x_de_g = smp.sqrt(8-y**2)\n",
    "x_de_g"
   ]
  },
  {
   "cell_type": "code",
   "execution_count": 82,
   "id": "53e26814-15d1-449a-93a0-bb75358225de",
   "metadata": {},
   "outputs": [
    {
     "data": {
      "text/latex": [
       "$\\displaystyle y^{4} - 2 y^{2} + 16$"
      ],
      "text/plain": [
       "y**4 - 2*y**2 + 16"
      ]
     },
     "execution_count": 82,
     "metadata": {},
     "output_type": "execute_result"
    }
   ],
   "source": [
    "f_restr = f.subs(x,x_de_g)\n",
    "f_restr_n = smp.lambdify(y, f_restr)\n",
    "f_restr"
   ]
  },
  {
   "cell_type": "code",
   "execution_count": 81,
   "id": "e35e7334-9f39-4e50-ab6d-09eb8056e0d1",
   "metadata": {},
   "outputs": [
    {
     "data": {
      "image/png": "[encoded data removed]",
      "text/plain": [
       "<Figure size 432x288 with 1 Axes>"
      ]
     },
     "metadata": {
      "needs_background": "light"
     },
     "output_type": "display_data"
    }
   ],
   "source": [
    "dom = np.linspace(-3, 3, 200)\n",
    "plt.plot(dom, f_restr_n(dom))\n",
    "plt.ylim(10, 30)\n",
    "plt.show()"
   ]
  },
  {
   "cell_type": "code",
   "execution_count": 83,
   "id": "a5508761-5e7a-48c9-b658-d9d50a20b072",
   "metadata": {},
   "outputs": [],
   "source": [
    "grad_f_restr = smp.diff(f_restr, y)"
   ]
  },
  {
   "cell_type": "code",
   "execution_count": 84,
   "id": "3664432d-97cc-43c6-bae9-c6a16479024d",
   "metadata": {},
   "outputs": [
    {
     "data": {
      "text/plain": [
       "[-1, 0, 1]"
      ]
     },
     "execution_count": 84,
     "metadata": {},
     "output_type": "execute_result"
    }
   ],
   "source": [
    "smp.solve(grad_f_restr, y)"
   ]
  },
  {
   "cell_type": "code",
   "execution_count": null,
   "id": "85f5d601-86b5-4846-b88f-c55fe9c4e795",
   "metadata": {},
   "outputs": [],
   "source": []
  }
 ],
 "metadata": {
  "kernelspec": {
   "display_name": "Python 3 (ipykernel)",
   "language": "python",
   "name": "python3"
  },
  "language_info": {
   "codemirror_mode": {
    "name": "ipython",
    "version": 3
   },
   "file_extension": ".py",
   "mimetype": "text/x-python",
   "name": "python",
   "nbconvert_exporter": "python",
   "pygments_lexer": "ipython3",
   "version": "3.8.10"
  }
 },
 "nbformat": 4,
 "nbformat_minor": 5
}
