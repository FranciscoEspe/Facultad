{
 "cells": [
  {
   "cell_type": "markdown",
   "id": "45d13414-9b01-43a2-bee1-f0e93f948ea4",
   "metadata": {},
   "source": [
    "# Notebook para Análisis Matemático 2\n",
    "\n",
    "La idea es ir agregándole herramientas a medida que se vayan aprendiendo. Más que nada es para ahorrarte o corroborar algunas cuentas."
   ]
  },
  {
   "cell_type": "markdown",
   "id": "916abbc2-bbcc-4274-a0a9-993fc738f43f",
   "metadata": {},
   "source": [
    "Primero importamos las librerías que vamos a usar. La idea de esto es decirle a python que se tenga a mano algunas herramientas:\n",
    "\n",
    "* SymPy: Es la que nos deja hacer cálculo simbólico. Con simbolitos.\n",
    "* Matplotlib: Es la que nos deja hacer gráficos. Llamamos en particular a pyplot porque es la que se usar y la más usada en general.\n",
    "* NumPy: Es una que te permite hacer cuentas grandes de manera súper optimizada. Clave para cálculo numérico."
   ]
  },
  {
   "cell_type": "code",
   "execution_count": 4,
   "id": "03a23721-a14e-41e1-81b8-44a460dfc9c0",
   "metadata": {},
   "outputs": [],
   "source": [
    "import sympy as smp\n",
    "import matplotlib.pyplot as plt\n",
    "import numpy as np"
   ]
  },
  {
   "cell_type": "markdown",
   "id": "6879c948-10f6-4cd6-b164-6e941f88454c",
   "metadata": {},
   "source": [
    "## Extremos con restricciones "
   ]
  },
  {
   "cell_type": "markdown",
   "id": "f7bbabeb-218a-4fa2-b514-caf7c5e53515",
   "metadata": {},
   "source": [
    "Lo primero que hacemos es definir las cosas correctamente según Sympy\n",
    "\n",
    "* Las variables las llamamos en una línea y las funciones en otra. \n",
    "* Las últimas tienen que tener el argumento cls=smp.Function. \n",
    "* Le decimos las variables de las que dependen.\n",
    "\n",
    "Si querés podés agregar más funciones o variables acordándote de seguir el formato anterior."
   ]
  },
  {
   "cell_type": "code",
   "execution_count": 65,
   "id": "fdc0cbd2-2394-402b-b6a7-2bfa849bf315",
   "metadata": {},
   "outputs": [],
   "source": [
    "# Esto es un comentario. No se corre lo que le sigue al numeral y no afecta en nada al resto.\n",
    "x,y,l = smp.symbols(r'x y \\lambda', real=True)  # Fijate que puse r' ...' eso es para que me tome la letra griega lambda.\n",
    "f, g = smp.symbols('f g', real=True, cls=smp.Function)\n",
    "f = f(x,y); g=g(x,y)"
   ]
  },
  {
   "cell_type": "markdown",
   "id": "9faca86a-ca6a-4671-a075-77e98737bb3a",
   "metadata": {},
   "source": [
    "Acá definí las funciones como te parezca. En esta notebook f es la función a estudiar y g el vínculo. Si querés otro vínculo acordate de declararlo en la celda anterior y después venís acá."
   ]
  },
  {
   "cell_type": "code",
   "execution_count": 66,
   "id": "489f1605-1445-4511-a187-e3159a3294cf",
   "metadata": {},
   "outputs": [],
   "source": [
    "f = 2*x**2 + y**4\n",
    "g = x**2 + 2*y**2 - 8"
   ]
  },
  {
   "cell_type": "code",
   "execution_count": 67,
   "id": "6d6fee17-45de-4013-a8bf-8d2b585ac332",
   "metadata": {},
   "outputs": [
    {
     "data": {
      "text/latex": [
       "$\\displaystyle x^{2} + 2 y^{2} - 8$"
      ],
      "text/plain": [
       "x**2 + 2*y**2 - 8"
      ]
     },
     "execution_count": 67,
     "metadata": {},
     "output_type": "execute_result"
    }
   ],
   "source": [
    "# Si escribís el nombre de una variable en la última línea de la celda, Jupyter te muestra\n",
    "# que hay en esa variable. En este caso tiene a la función simbólica g definida como en la \n",
    "# celda anterior.\n",
    "g"
   ]
  },
  {
   "cell_type": "markdown",
   "id": "f6a37de5-375c-4741-b155-cb7ecebea027",
   "metadata": {},
   "source": [
    "### Gradiente y extremos locales\n",
    "\n",
    "En la siguiente celda calculamos el gradiente de las funciones.\n",
    "\n",
    "* smp.diff() es la función que hace el trabajo.\n",
    "* Si tu función depende de más variables fijate de cambiar eso acá también. El único cambio que habría que hacer es agregarle las variables nuevas a la lista \"var\".\n",
    "* Notación de Python: las cosas que ponemos entre corchetes se llaman listas. Ej: lista_de_ej = [1, 2, 3]"
   ]
  },
  {
   "cell_type": "code",
   "execution_count": 8,
   "id": "220891a5-b9a1-4bb0-b0f0-bffc90aa8c8e",
   "metadata": {},
   "outputs": [
    {
     "data": {
      "text/plain": [
       "[4*x, 4*y**3]"
      ]
     },
     "execution_count": 8,
     "metadata": {},
     "output_type": "execute_result"
    }
   ],
   "source": [
    "# Si en vez de x,y tengo una función que depende de x,y,z; la línea de abajo debería decir\n",
    "# var = [x,y,z]\n",
    "var = [x,y]\n",
    "\n",
    "# Las líneas que siguen quedarían igual. Si tenés una restricción más, podés definirle e\n",
    "# gradiente de la misma manera. Ej: si tenés una función de vínculo h, escribís:\n",
    "# grad_h = [smp.diff(h, u) for u in var]\n",
    "\n",
    "grad_f = [smp.diff(f, u) for u in var]\n",
    "grad_g = [smp.diff(g, u) for u in var]\n",
    "grad_f"
   ]
  },
  {
   "cell_type": "code",
   "execution_count": 70,
   "id": "31bd468d-749a-4e5b-a277-ce7be05f1b3b",
   "metadata": {},
   "outputs": [
    {
     "data": {
      "text/plain": [
       "[(0, 0)]"
      ]
     },
     "execution_count": 70,
     "metadata": {},
     "output_type": "execute_result"
    }
   ],
   "source": [
    "candidatos_locales = smp.solve(grad_f, (x,y))\n",
    "candidatos_locales"
   ]
  },
  {
   "cell_type": "markdown",
   "id": "0b4cba03-802f-4513-beca-e5ccbaba9fcb",
   "metadata": {},
   "source": [
    "### Hessiana\n",
    "\n",
    "Es la misma idea que el gradiente solo que ahora derivás al gradiente que calculaste antes.\n",
    "\n",
    "* En el caso de tener 3 variables en vez de 2, lo único que tenés que cambiar es el límite superior de la variable i (se explica mejor en la celda)\n",
    "* smp.Matrix(): a esta función le das de comer una lista y te devuelve una matriz con el formato lindo ese que se ve.\n",
    "    * Además es necesaria porque para el método de Sylvester te interesa calcularle el determinante después.\n",
    "    * También podés usar el método de los autovectores y autovalores muy rápido con el método .eigenvects()\n",
    "\n",
    "Si te pinta resolver como calcular los menores con Python podés mirar las herramientas que hay para matrices acá https://docs.sympy.org/latest/tutorials/intro-tutorial/matrices.html"
   ]
  },
  {
   "cell_type": "code",
   "execution_count": 78,
   "id": "9e3b2426-0a70-4c46-93fb-ebffe6b078f6",
   "metadata": {},
   "outputs": [
    {
     "data": {
      "text/latex": [
       "$\\displaystyle \\left[\\begin{matrix}2 & 0\\\\0 & 6 y^{2}\\end{matrix}\\right]$"
      ],
      "text/plain": [
       "Matrix([\n",
       "[2,      0],\n",
       "[0, 6*y**2]])"
      ]
     },
     "execution_count": 78,
     "metadata": {},
     "output_type": "execute_result"
    }
   ],
   "source": [
    "# Si en vez de 2, tenés n variables, donde dice for i in [0,1], escribí: for i in [0, n-1]\n",
    "hess_f = smp.Matrix([[smp.Rational(1,2)*smp.diff(grad_f[i], u) for u in var] for i in [0,1]])\n",
    "hess_f"
   ]
  },
  {
   "cell_type": "markdown",
   "id": "2de4ecdd-5bd8-40de-8a9f-dc9f343fc266",
   "metadata": {
    "tags": []
   },
   "source": [
    "#### Criterio de Sylvester\n",
    "\n",
    "Para el caso de una función real de dominio $\\mathbb{R}^2$ y diferenciable en $(x_0,y_0)$, este criterio nos dice que\n",
    "* Si $H_{11}(x_0,y_0) > 0$ y $|H(x_0,y_0)|>0$ entonces $f$ tiene un mínimo local en (x_0,y_0).\n",
    "* Si $H_{11}(x_0,y_0) > 0$ y $|H(x_0,y_0)|<0$ entonces $f$ tiene un mínimo local en (x_0,y_0).\n",
    "* Si $H_{11}(x_0,y_0) \\le 0$ o $|H(x_0,y_0)|=0$ entonoces el criterio no decide nada."
   ]
  },
  {
   "cell_type": "code",
   "execution_count": 102,
   "id": "293151a0-6067-4885-beaa-fac902684450",
   "metadata": {},
   "outputs": [
    {
     "name": "stdout",
     "output_type": "stream",
     "text": [
      "Acá no se qué decirte :(\n"
     ]
    }
   ],
   "source": [
    "subs = [[(var[i], candidatos_locales[j][i]) for i in range(len(var))] for j in range(len(candidatos_locales))]\n",
    "H_11_eval_en_cand = [hess_f[0].subs(subs[i]) for i in range(len(subs))]\n",
    "det_H_eval_en_cand = [hess_f.det().subs(subs[i]) for i in range(len(subs))]\n",
    "testarudos = []\n",
    "max_loc, min_loc = [], []\n",
    "\n",
    "for i in range(len(candidatos_locales)):\n",
    "    if (H_11_eval_en_cand[i]*det_H_eval_en_cand[i] == 0 or H_11_eval_en_cand[i]<0):\n",
    "        print('Acá no se qué decirte :(')\n",
    "        testarudos.append(candidatos_locales[i])\n",
    "        continue\n",
    "    elif (det_H_eval_en_cand[i]>0):\n",
    "        min_loc.append(candidatos_locales[i])\n",
    "    else:\n",
    "        max_loc.append(candidatos_locales[i])"
   ]
  },
  {
   "cell_type": "markdown",
   "id": "cbcee8ee-3c88-4e98-bc59-e518e74d3707",
   "metadata": {},
   "source": [
    "#### Criterio de los autovalores (este no falla) COMPLETAR"
   ]
  },
  {
   "cell_type": "code",
   "execution_count": 103,
   "id": "e2c2ff9c-07a4-46dc-a08f-1a36c22b44dd",
   "metadata": {},
   "outputs": [
    {
     "data": {
      "text/plain": [
       "[(2,\n",
       "  1,\n",
       "  [Matrix([\n",
       "   [1],\n",
       "   [0]])]),\n",
       " (6*y**2,\n",
       "  1,\n",
       "  [Matrix([\n",
       "   [0],\n",
       "   [1]])])]"
      ]
     },
     "execution_count": 103,
     "metadata": {},
     "output_type": "execute_result"
    }
   ],
   "source": [
    "# .eigenvects() te devuelve una lista de tuplas de la forma\n",
    "# (autovector, multiplicidad algebraica, lista de autovectores)\n",
    "# También existe el método .eigenvals() que te devuelve una lista de autovalores.\n",
    "# Calcular los autovectores le cuesta más a la compu, pero eso empieza a ser relevante \n",
    "# para matrices mucho más grandes de las que vamos a tratar acá. Solo lo comento como\n",
    "# curiosidad.\n",
    "hess_f.eigenvects()"
   ]
  },
  {
   "cell_type": "code",
   "execution_count": null,
   "id": "09172584-493a-4745-9c6f-0805e702958c",
   "metadata": {},
   "outputs": [],
   "source": []
  },
  {
   "cell_type": "code",
   "execution_count": null,
   "id": "c7c05c2d-ca55-4ff4-82d9-76e7f36fe7c4",
   "metadata": {},
   "outputs": [],
   "source": []
  },
  {
   "cell_type": "code",
   "execution_count": null,
   "id": "ee6ee58a-0e6d-46bf-bdc1-445188dd0ca3",
   "metadata": {},
   "outputs": [],
   "source": []
  },
  {
   "cell_type": "markdown",
   "id": "ec83ef43-9ba2-4719-ad9b-4deabc792f4d",
   "metadata": {},
   "source": [
    "## Multiplicadores de Lagrange\n",
    "\n",
    "Hasta acá sabemos que tenemos una función f con una restricción g. Queremos resolver el sistema\n",
    "\n",
    "$$\n",
    "\\begin{cases}\n",
    "\\nabla f - \\lambda \\nabla g = 0 \\\\\n",
    "g = 0\n",
    "\\end{cases}\n",
    "$$\n",
    "\n",
    "Para eso el plan de acción es armar el sistema de ecuaciones como una lista, donde cada elemento es una de las ecuaciones. Es clave tener en cuenta que los resolvedores solo manejan ecuaciones homogéneas, por eso definí al sistema y a la restricción de esa manera."
   ]
  },
  {
   "cell_type": "code",
   "execution_count": 12,
   "id": "4a08146e-efdb-4053-b106-ca2b27845e6f",
   "metadata": {},
   "outputs": [
    {
     "data": {
      "text/plain": [
       "[-2*\\lambda*x + 4*x, -4*\\lambda*y + 4*y**3, x**2 + 2*y**2 - 8]"
      ]
     },
     "execution_count": 12,
     "metadata": {},
     "output_type": "execute_result"
    }
   ],
   "source": [
    "# Armamos el sistema de ecuaciones.\n",
    "# Si en vez de dos variables tenés n, acordate de hacer el cambio de [0,1] a [0, n-1] en la línea que sigue.\n",
    "\n",
    "lagrange = [grad_f[i] - l*grad_g[i] for i in [0,1]]  # Primeras dos ecuaciones.\n",
    "lagrange.append(g)                                   # Le agrego a la lista el vínculo.\n",
    "lagrange                                             # Mostramos el sistema completo."
   ]
  },
  {
   "cell_type": "markdown",
   "id": "ae9c266d-c266-4cfa-a824-e3bed822e9f7",
   "metadata": {},
   "source": [
    "El resolvedor que vamos a usar es smp.solve(). \n",
    "\n",
    "Recibe como parámetros:\n",
    "\n",
    "1) El sistema de ecuaciones (homogéneo) a resolver. Es una lista. Capaz también una matriz, no me acuerdo.\n",
    "2) Una tupla (encierra elementos entre corchetes) con las variables a despejar.\n",
    "    * Fijate que le paso a $\\lambda$ como variable también para que me diga que valor toma. Importante esto.\n",
    "    * En caso de tener más variables tu sistema de ecuaciones (variable lagrange definida en la celda anterior) debería tener más ecuaciones. El único cambio que habría que hacer en esta celda es agregarle las variables nuevas a la tupla de variables.\n",
    "    \n",
    "Te devuelve:\n",
    "\n",
    "* Una lista con tuplas de valores que resuelven el sistema.\n",
    "* Las tuplas están ordenadas. Es decir van a tener el mismo orden que vos le pasaste a la función como argumento."
   ]
  },
  {
   "cell_type": "code",
   "execution_count": 13,
   "id": "9f0b5508-cfc3-442b-b226-80bc2f0405a1",
   "metadata": {},
   "outputs": [
    {
     "data": {
      "text/plain": [
       "[(-2, -sqrt(2), 2),\n",
       " (-2, sqrt(2), 2),\n",
       " (0, -2, 4),\n",
       " (0, 2, 4),\n",
       " (2, -sqrt(2), 2),\n",
       " (2, sqrt(2), 2),\n",
       " (-2*sqrt(2), 0, 2),\n",
       " (2*sqrt(2), 0, 2)]"
      ]
     },
     "execution_count": 13,
     "metadata": {},
     "output_type": "execute_result"
    }
   ],
   "source": [
    "# Vamos a guardar la lista de tuplas solución en una variable que llamamos\n",
    "# lagr_sols ¿Por qué? porque se puede y porque capaz que más adelante las quiero\n",
    "# usar para algo. Me parece una buena práctica guardarlas así.\n",
    "lagr_sols = smp.solve(lagrange, (x,y,l))\n",
    "lagr_sols"
   ]
  },
  {
   "cell_type": "markdown",
   "id": "87414608-5a9c-42b5-8073-7ce4f2d9e379",
   "metadata": {},
   "source": [
    "### Evaluar en los candidatos para obtener los extremos"
   ]
  },
  {
   "cell_type": "code",
   "execution_count": 64,
   "id": "bb30571b-7a54-4219-bfd2-455e10cca1ed",
   "metadata": {},
   "outputs": [
    {
     "data": {
      "text/plain": [
       "[[[(x, -2), (y, -sqrt(2))], 12],\n",
       " [[(x, -2), (y, sqrt(2))], 12],\n",
       " [[(x, 2), (y, -sqrt(2))], 12],\n",
       " [[(x, 2), (y, sqrt(2))], 12]]"
      ]
     },
     "execution_count": 64,
     "metadata": {},
     "output_type": "execute_result"
    }
   ],
   "source": [
    "# Acá voy a preparar la lista de tuplas que necesito para hacer la evaluación de f en estos puntos.\n",
    "\n",
    "sustituciones = [[(var[i], lagr_sols[j][i]) for i in range(len(var))] for j in range(len(lagr_sols))]\n",
    "sustituciones\n",
    "\n",
    "candidatos = [f.subs(sustituciones[i]) for i in range(len(lagr_sols))]  # Hago una lista con las imágenes de los candidatos a extremo\n",
    "minimo, maximo = min(candidatos), max(candidatos)                       # Me fijo cuál es el valor máximo y mínimo\n",
    "\n",
    "# Acá hago dos listas, donde cada elemento contiene una lista con los extremos y su imágen.\n",
    "\n",
    "minimos, maximos = [], []\n",
    "for i in range(len(candidatos)):\n",
    "    if (candidatos[i] == minimo):\n",
    "        minimos.append([sustituciones[i], candidatos[i]])\n",
    "    elif (candidatos[i] == maximo):\n",
    "        maximos.append([sustituciones[i], candidatos[i]])\n",
    "        \n",
    "minimos"
   ]
  },
  {
   "cell_type": "code",
   "execution_count": null,
   "id": "533cf83c-8183-4387-87d5-6a6c791288c6",
   "metadata": {},
   "outputs": [],
   "source": []
  },
  {
   "cell_type": "code",
   "execution_count": null,
   "id": "85f5d601-86b5-4846-b88f-c55fe9c4e795",
   "metadata": {},
   "outputs": [],
   "source": []
  }
 ],
 "metadata": {
  "kernelspec": {
   "display_name": "Python 3 (ipykernel)",
   "language": "python",
   "name": "python3"
  },
  "language_info": {
   "codemirror_mode": {
    "name": "ipython",
    "version": 3
   },
   "file_extension": ".py",
   "mimetype": "text/x-python",
   "name": "python",
   "nbconvert_exporter": "python",
   "pygments_lexer": "ipython3",
   "version": "3.8.10"
  }
 },
 "nbformat": 4,
 "nbformat_minor": 5
}
