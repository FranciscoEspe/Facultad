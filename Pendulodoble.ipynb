{
 "cells": [
  {
   "cell_type": "markdown",
   "metadata": {},
   "source": [
    "## Importando las librerías y módulos a usar"
   ]
  },
  {
   "cell_type": "code",
   "execution_count": 1,
   "metadata": {},
   "outputs": [],
   "source": [
    "import numpy as np\n",
    "import sympy as smp\n",
    "from scipy.integrate import odeint\n",
    "import matplotlib.pyplot as plt\n",
    "from matplotlib import animation\n",
    "from mpl_toolkits.mplot3d import Axes3D\n",
    "from matplotlib.animation import PillowWriter"
   ]
  },
  {
   "cell_type": "markdown",
   "metadata": {},
   "source": [
    "## Definiendo los símbolos que vamos a usar con sympy"
   ]
  },
  {
   "cell_type": "markdown",
   "metadata": {},
   "source": [
    "Definimos los parámetros y constantes."
   ]
  },
  {
   "cell_type": "code",
   "execution_count": 2,
   "metadata": {},
   "outputs": [],
   "source": [
    "t, g = smp.symbols('t g')\n",
    "m1, m2 = smp.symbols('m_1 m_2')\n",
    "L1, L2 = smp.symbols('L_1 L_2')"
   ]
  },
  {
   "cell_type": "markdown",
   "metadata": {},
   "source": [
    "Definimos a $\\theta_1$ y $\\theta_2$ como funciones del tiempo."
   ]
  },
  {
   "cell_type": "code",
   "execution_count": 3,
   "metadata": {},
   "outputs": [],
   "source": [
    "the1, the2 = smp.symbols(r'\\theta_1 \\theta_2', cls=smp.Function)"
   ]
  },
  {
   "cell_type": "code",
   "execution_count": 4,
   "metadata": {},
   "outputs": [],
   "source": [
    "the1 = the1(t)\n",
    "the2 = the2(t)"
   ]
  },
  {
   "cell_type": "code",
   "execution_count": 5,
   "metadata": {},
   "outputs": [
    {
     "data": {
      "text/latex": [
       "$\\displaystyle \\theta_{2}{\\left(t \\right)}$"
      ],
      "text/plain": [
       "\\theta_2(t)"
      ]
     },
     "execution_count": 5,
     "metadata": {},
     "output_type": "execute_result"
    }
   ],
   "source": [
    "the2"
   ]
  },
  {
   "cell_type": "markdown",
   "metadata": {},
   "source": [
    "Definimos derivadas primeras y segundas también."
   ]
  },
  {
   "cell_type": "code",
   "execution_count": 6,
   "metadata": {},
   "outputs": [],
   "source": [
    "the1_t = smp.diff(the1,t)\n",
    "the2_t = smp.diff(the2,t)\n",
    "the1_tt = smp.diff(the1_t,t)\n",
    "the2_tt = smp.diff(the2_t,t)"
   ]
  },
  {
   "cell_type": "code",
   "execution_count": 7,
   "metadata": {},
   "outputs": [
    {
     "data": {
      "text/latex": [
       "$\\displaystyle \\frac{d^{2}}{d t^{2}} \\theta_{2}{\\left(t \\right)}$"
      ],
      "text/plain": [
       "Derivative(\\theta_2(t), (t, 2))"
      ]
     },
     "execution_count": 7,
     "metadata": {},
     "output_type": "execute_result"
    }
   ],
   "source": [
    "the2_tt"
   ]
  },
  {
   "cell_type": "markdown",
   "metadata": {},
   "source": [
    "## Escribimos nuestra transformación de coordenadas"
   ]
  },
  {
   "cell_type": "markdown",
   "metadata": {},
   "source": [
    "Definimos $x_1$, $y_1$, $x_2$ y $y_2$ en función de los parámetros de arriba."
   ]
  },
  {
   "cell_type": "code",
   "execution_count": 8,
   "metadata": {},
   "outputs": [],
   "source": [
    "x1 = L1*smp.sin(the1)\n",
    "y1 = -L1*smp.cos(the1)\n",
    "x2 = L1*smp.sin(the1) + L2*smp.sin(the2)\n",
    "y2 = -L1*smp.cos(the1) - L2*smp.cos(the2)"
   ]
  },
  {
   "cell_type": "markdown",
   "metadata": {},
   "source": [
    "Definimos las energías cinética y potencial y luego el lagrangiano del sistema."
   ]
  },
  {
   "cell_type": "code",
   "execution_count": 9,
   "metadata": {},
   "outputs": [],
   "source": [
    "# Cinética\n",
    "T1 = smp.Rational(1,2) * m1 * (smp.diff(x1,t)**2 + smp.diff(y1,t)**2)\n",
    "T2 = smp.Rational(1,2) * m2 * (smp.diff(x2,t)**2 + smp.diff(y2,t)**2)\n",
    "T = T1 + T2\n",
    "# Potencial\n",
    "V1 = m1 * g * y1\n",
    "V2 = m2 * g * y2\n",
    "V = V1 + V2\n",
    "# Lagrangiano\n",
    "L = T - V"
   ]
  },
  {
   "cell_type": "markdown",
   "metadata": {},
   "source": [
    "Veamos la forma que toma el lagrangiano y digámosle a SymPy que simplifique lo más que pueda la expresión."
   ]
  },
  {
   "cell_type": "code",
   "execution_count": 10,
   "metadata": {},
   "outputs": [
    {
     "data": {
      "text/latex": [
       "$\\displaystyle \\frac{L_{1}^{2} m_{1} \\left(\\frac{d}{d t} \\theta_{1}{\\left(t \\right)}\\right)^{2}}{2} + L_{1} g m_{1} \\cos{\\left(\\theta_{1}{\\left(t \\right)} \\right)} + g m_{2} \\left(L_{1} \\cos{\\left(\\theta_{1}{\\left(t \\right)} \\right)} + L_{2} \\cos{\\left(\\theta_{2}{\\left(t \\right)} \\right)}\\right) + \\frac{m_{2} \\left(L_{1}^{2} \\left(\\frac{d}{d t} \\theta_{1}{\\left(t \\right)}\\right)^{2} + 2 L_{1} L_{2} \\cos{\\left(\\theta_{1}{\\left(t \\right)} - \\theta_{2}{\\left(t \\right)} \\right)} \\frac{d}{d t} \\theta_{1}{\\left(t \\right)} \\frac{d}{d t} \\theta_{2}{\\left(t \\right)} + L_{2}^{2} \\left(\\frac{d}{d t} \\theta_{2}{\\left(t \\right)}\\right)^{2}\\right)}{2}$"
      ],
      "text/plain": [
       "L_1**2*m_1*Derivative(\\theta_1(t), t)**2/2 + L_1*g*m_1*cos(\\theta_1(t)) + g*m_2*(L_1*cos(\\theta_1(t)) + L_2*cos(\\theta_2(t))) + m_2*(L_1**2*Derivative(\\theta_1(t), t)**2 + 2*L_1*L_2*cos(\\theta_1(t) - \\theta_2(t))*Derivative(\\theta_1(t), t)*Derivative(\\theta_2(t), t) + L_2**2*Derivative(\\theta_2(t), t)**2)/2"
      ]
     },
     "execution_count": 10,
     "metadata": {},
     "output_type": "execute_result"
    }
   ],
   "source": [
    "L.simplify()"
   ]
  },
  {
   "cell_type": "markdown",
   "metadata": {},
   "source": [
    "## Obtenemos las ecuaciones de movimiento"
   ]
  },
  {
   "cell_type": "markdown",
   "metadata": {},
   "source": [
    "Lo que queremos es resolver estas ecuaciones diferenciales para las funciones de los ángulos, que según E+L me hacen satisfacer\n",
    "$$\n",
    "\\frac{\\partial L}{\\partial \\theta_1} - \\frac{d}{dt}\\frac{\\partial L}{\\partial \\dot\\theta_1} = 0\n",
    "$$\n",
    "$$\n",
    "\\frac{\\partial L}{\\partial \\theta_2} - \\frac{d}{dt}\\frac{\\partial L}{\\partial \\dot\\theta_2} = 0\n",
    "$$"
   ]
  },
  {
   "cell_type": "markdown",
   "metadata": {},
   "source": [
    "Para eso lo que hacemos primero es definir los lados izquierdos de las ecuaciones. Después con un método podemos resolver para $\\ddot\\theta_1$ y $\\ddot\\theta_2$."
   ]
  },
  {
   "cell_type": "code",
   "execution_count": 15,
   "metadata": {},
   "outputs": [],
   "source": [
    "EL1 = smp.diff(L,the1) - smp.diff(smp.diff(L, the1_t), t)\n",
    "EL2 = smp.diff(L,the2) - smp.diff(smp.diff(L, the2_t), t)"
   ]
  },
  {
   "cell_type": "code",
   "execution_count": 23,
   "metadata": {},
   "outputs": [
    {
     "data": {
      "text/latex": [
       "$\\displaystyle - L_{1} \\left(L_{2} m_{2} \\sin{\\left(\\theta_{1}{\\left(t \\right)} - \\theta_{2}{\\left(t \\right)} \\right)} \\frac{d}{d t} \\theta_{1}{\\left(t \\right)} \\frac{d}{d t} \\theta_{2}{\\left(t \\right)} + g m_{1} \\sin{\\left(\\theta_{1}{\\left(t \\right)} \\right)} + g m_{2} \\sin{\\left(\\theta_{1}{\\left(t \\right)} \\right)}\\right)$"
      ],
      "text/plain": [
       "-L_1*(L_2*m_2*sin(\\theta_1(t) - \\theta_2(t))*Derivative(\\theta_1(t), t)*Derivative(\\theta_2(t), t) + g*m_1*sin(\\theta_1(t)) + g*m_2*sin(\\theta_1(t)))"
      ]
     },
     "execution_count": 23,
     "metadata": {},
     "output_type": "execute_result"
    }
   ],
   "source": [
    "smp.diff(L,the1).simplify().factor(the1_tt,the2_tt, the1_t)"
   ]
  },
  {
   "cell_type": "code",
   "execution_count": 24,
   "metadata": {},
   "outputs": [
    {
     "data": {
      "text/latex": [
       "$\\displaystyle L_{1} \\left(- L_{2} m_{2} \\sin{\\left(\\theta_{1}{\\left(t \\right)} - \\theta_{2}{\\left(t \\right)} \\right)} \\frac{d}{d t} \\theta_{1}{\\left(t \\right)} \\frac{d}{d t} \\theta_{2}{\\left(t \\right)} + L_{2} m_{2} \\sin{\\left(\\theta_{1}{\\left(t \\right)} - \\theta_{2}{\\left(t \\right)} \\right)} \\left(\\frac{d}{d t} \\theta_{2}{\\left(t \\right)}\\right)^{2} + L_{2} m_{2} \\cos{\\left(\\theta_{1}{\\left(t \\right)} - \\theta_{2}{\\left(t \\right)} \\right)} \\frac{d^{2}}{d t^{2}} \\theta_{2}{\\left(t \\right)} + \\left(L_{1} m_{1} + L_{1} m_{2}\\right) \\frac{d^{2}}{d t^{2}} \\theta_{1}{\\left(t \\right)}\\right)$"
      ],
      "text/plain": [
       "L_1*(-L_2*m_2*sin(\\theta_1(t) - \\theta_2(t))*Derivative(\\theta_1(t), t)*Derivative(\\theta_2(t), t) + L_2*m_2*sin(\\theta_1(t) - \\theta_2(t))*Derivative(\\theta_2(t), t)**2 + L_2*m_2*cos(\\theta_1(t) - \\theta_2(t))*Derivative(\\theta_2(t), (t, 2)) + (L_1*m_1 + L_1*m_2)*Derivative(\\theta_1(t), (t, 2)))"
      ]
     },
     "execution_count": 24,
     "metadata": {},
     "output_type": "execute_result"
    }
   ],
   "source": [
    "smp.diff(smp.diff(L, the1_t), t).simplify().factor(the1_tt,the2_tt, the1_t)"
   ]
  },
  {
   "cell_type": "code",
   "execution_count": 34,
   "metadata": {},
   "outputs": [
    {
     "data": {
      "text/latex": [
       "$\\displaystyle L_{1} \\left(L_{1} m_{1} \\frac{d}{d t} \\theta_{1}{\\left(t \\right)} + m_{2} \\left(L_{1} \\frac{d}{d t} \\theta_{1}{\\left(t \\right)} + L_{2} \\cos{\\left(\\theta_{1}{\\left(t \\right)} - \\theta_{2}{\\left(t \\right)} \\right)} \\frac{d}{d t} \\theta_{2}{\\left(t \\right)}\\right)\\right)$"
      ],
      "text/plain": [
       "L_1*(L_1*m_1*Derivative(\\theta_1(t), t) + m_2*(L_1*Derivative(\\theta_1(t), t) + L_2*cos(\\theta_1(t) - \\theta_2(t))*Derivative(\\theta_2(t), t)))"
      ]
     },
     "execution_count": 34,
     "metadata": {},
     "output_type": "execute_result"
    }
   ],
   "source": [
    "smp.diff(L, the1_t).simplify()"
   ]
  },
  {
   "cell_type": "code",
   "execution_count": 32,
   "metadata": {},
   "outputs": [
    {
     "data": {
      "text/latex": [
       "$\\displaystyle L_{1} L_{2} m_{2} \\left(- \\left(\\frac{d}{d t} \\theta_{1}{\\left(t \\right)} - \\frac{d}{d t} \\theta_{2}{\\left(t \\right)}\\right) \\sin{\\left(\\theta_{1}{\\left(t \\right)} - \\theta_{2}{\\left(t \\right)} \\right)} \\frac{d}{d t} \\theta_{2}{\\left(t \\right)} + \\cos{\\left(\\theta_{1}{\\left(t \\right)} - \\theta_{2}{\\left(t \\right)} \\right)} \\frac{d^{2}}{d t^{2}} \\theta_{2}{\\left(t \\right)}\\right)$"
      ],
      "text/plain": [
       "L_1*L_2*m_2*(-(Derivative(\\theta_1(t), t) - Derivative(\\theta_2(t), t))*sin(\\theta_1(t) - \\theta_2(t))*Derivative(\\theta_2(t), t) + cos(\\theta_1(t) - \\theta_2(t))*Derivative(\\theta_2(t), (t, 2)))"
      ]
     },
     "execution_count": 32,
     "metadata": {},
     "output_type": "execute_result"
    }
   ],
   "source": [
    "smp.diff(m2*L1*L2*smp.cos(the1-the2)*the2_t,t).simplify()"
   ]
  },
  {
   "cell_type": "code",
   "execution_count": 18,
   "metadata": {},
   "outputs": [
    {
     "data": {
      "text/latex": [
       "$\\displaystyle - L_{1} \\left(L_{1} m_{1} \\frac{d^{2}}{d t^{2}} \\theta_{1}{\\left(t \\right)} + L_{1} m_{2} \\frac{d^{2}}{d t^{2}} \\theta_{1}{\\left(t \\right)} + L_{2} m_{2} \\sin{\\left(\\theta_{1}{\\left(t \\right)} - \\theta_{2}{\\left(t \\right)} \\right)} \\left(\\frac{d}{d t} \\theta_{2}{\\left(t \\right)}\\right)^{2} + L_{2} m_{2} \\cos{\\left(\\theta_{1}{\\left(t \\right)} - \\theta_{2}{\\left(t \\right)} \\right)} \\frac{d^{2}}{d t^{2}} \\theta_{2}{\\left(t \\right)} + g m_{1} \\sin{\\left(\\theta_{1}{\\left(t \\right)} \\right)} + g m_{2} \\sin{\\left(\\theta_{1}{\\left(t \\right)} \\right)}\\right)$"
      ],
      "text/plain": [
       "-L_1*(L_1*m_1*Derivative(\\theta_1(t), (t, 2)) + L_1*m_2*Derivative(\\theta_1(t), (t, 2)) + L_2*m_2*sin(\\theta_1(t) - \\theta_2(t))*Derivative(\\theta_2(t), t)**2 + L_2*m_2*cos(\\theta_1(t) - \\theta_2(t))*Derivative(\\theta_2(t), (t, 2)) + g*m_1*sin(\\theta_1(t)) + g*m_2*sin(\\theta_1(t)))"
      ]
     },
     "execution_count": 18,
     "metadata": {},
     "output_type": "execute_result"
    }
   ],
   "source": [
    "EL1.simplify()#.factor(the1_tt, the2_tt)"
   ]
  },
  {
   "cell_type": "code",
   "execution_count": 17,
   "metadata": {},
   "outputs": [
    {
     "data": {
      "text/latex": [
       "$\\displaystyle L_{2} m_{2} \\left(L_{1} \\sin{\\left(\\theta_{1}{\\left(t \\right)} - \\theta_{2}{\\left(t \\right)} \\right)} \\left(\\frac{d}{d t} \\theta_{1}{\\left(t \\right)}\\right)^{2} - L_{1} \\cos{\\left(\\theta_{1}{\\left(t \\right)} - \\theta_{2}{\\left(t \\right)} \\right)} \\frac{d^{2}}{d t^{2}} \\theta_{1}{\\left(t \\right)} - L_{2} \\frac{d^{2}}{d t^{2}} \\theta_{2}{\\left(t \\right)} - g \\sin{\\left(\\theta_{2}{\\left(t \\right)} \\right)}\\right)$"
      ],
      "text/plain": [
       "L_2*m_2*(L_1*sin(\\theta_1(t) - \\theta_2(t))*Derivative(\\theta_1(t), t)**2 - L_1*cos(\\theta_1(t) - \\theta_2(t))*Derivative(\\theta_1(t), (t, 2)) - L_2*Derivative(\\theta_2(t), (t, 2)) - g*sin(\\theta_2(t)))"
      ]
     },
     "execution_count": 17,
     "metadata": {},
     "output_type": "execute_result"
    }
   ],
   "source": [
    "EL2.simplify()"
   ]
  },
  {
   "cell_type": "code",
   "execution_count": 16,
   "metadata": {},
   "outputs": [],
   "source": [
    "sols = smp.solve([EL1, EL2], (the1_tt, the2_tt), simplify=False, rational=False)"
   ]
  },
  {
   "cell_type": "code",
   "execution_count": 17,
   "metadata": {},
   "outputs": [
    {
     "data": {
      "text/latex": [
       "$\\displaystyle \\frac{L_{1} m_{1} \\sin{\\left(2 \\theta_{1}{\\left(t \\right)} - 2 \\theta_{2}{\\left(t \\right)} \\right)} \\left(\\frac{d}{d t} \\theta_{1}{\\left(t \\right)}\\right)^{2} + 2 L_{2} m_{1} \\sin{\\left(\\theta_{1}{\\left(t \\right)} - \\theta_{2}{\\left(t \\right)} \\right)} \\left(\\frac{d}{d t} \\theta_{2}{\\left(t \\right)}\\right)^{2} + 2 g m_{1} \\sin{\\left(\\theta_{1}{\\left(t \\right)} \\right)} + g m_{2} \\sin{\\left(\\theta_{1}{\\left(t \\right)} - 2 \\theta_{2}{\\left(t \\right)} \\right)} + g m_{2} \\sin{\\left(\\theta_{1}{\\left(t \\right)} \\right)}}{L_{1} m_{1} \\left(\\cos{\\left(2 \\theta_{1}{\\left(t \\right)} - 2 \\theta_{2}{\\left(t \\right)} \\right)} - 3\\right)}$"
      ],
      "text/plain": [
       "(L_1*m_1*sin(2*\\theta_1(t) - 2*\\theta_2(t))*Derivative(\\theta_1(t), t)**2 + 2*L_2*m_1*sin(\\theta_1(t) - \\theta_2(t))*Derivative(\\theta_2(t), t)**2 + 2*g*m_1*sin(\\theta_1(t)) + g*m_2*sin(\\theta_1(t) - 2*\\theta_2(t)) + g*m_2*sin(\\theta_1(t)))/(L_1*m_1*(cos(2*\\theta_1(t) - 2*\\theta_2(t)) - 3))"
      ]
     },
     "execution_count": 17,
     "metadata": {},
     "output_type": "execute_result"
    }
   ],
   "source": [
    "sols[the1_tt].simplify() #Con esto vemos la expresión. Con el ; no lo mostramos"
   ]
  },
  {
   "cell_type": "markdown",
   "metadata": {},
   "source": [
    "## Resolviendo el sistema de ecuaciones diferenciales de segundo orden"
   ]
  },
  {
   "cell_type": "markdown",
   "metadata": {},
   "source": [
    "Python no sabe resolver ODE de segundo orden. Solo de primer. Así que lo que vamos a hacer transformar el sistema de dos ecuaciones de segundo orden en uno de cuatro ecuaciones de primer orden."
   ]
  },
  {
   "cell_type": "markdown",
   "metadata": {},
   "source": [
    "Para eso definimos\n",
    "1. $z_1 = \\frac{d\\theta_1}{dt}$ y $z_2 = \\frac{d\\theta_2}{dt}$.\n",
    "2. Luego para sus derivadas: $\\frac{dz_1}{dt} = \\frac{d^2\\theta_1}{dt^2}$ y $\\frac{dz_2}{dt} = \\frac{d^2\\theta_2}{dt^2}$."
   ]
  },
  {
   "cell_type": "markdown",
   "metadata": {},
   "source": [
    "Necesitamos convertir las expresiones **simbólicas** en funciones **numéricas** para así poder usar un resolvedor de sistemas de ODE de python que se llama `odeint`. Pero primero lo primero, vamos a usar `smp.lambdify` para pasar de simbolitos a numeritos."
   ]
  },
  {
   "cell_type": "code",
   "execution_count": 18,
   "metadata": {},
   "outputs": [],
   "source": [
    "dz1dt_f = smp.lambdify((t,g,m1,m2,L1,L2,the1,the2,the1_t,the2_t), sols[the1_tt])\n",
    "dz2dt_f = smp.lambdify((t,g,m1,m2,L1,L2,the1,the2,the1_t,the2_t), sols[the2_tt])\n",
    "dthe1dt_f = smp.lambdify(the1_t,the1_t)\n",
    "dthe2dt_f = smp.lambdify(the2_t,the2_t)"
   ]
  },
  {
   "cell_type": "markdown",
   "metadata": {},
   "source": [
    "La idea de estas funciones numéricas es que toman como argumento directamente a números. Fijate que las expresiones numéricas de $\\dot\\theta_1$ y $\\dot\\theta_2$ es la identidad y por lo tanto cuando las evaluamos en algún número nos devuelve el mismo. Para las de $z$ tenemos que pasar un montón de argumentos y nos va a devolver $\\ddot\\theta$ evaluado en ese valor."
   ]
  },
  {
   "cell_type": "markdown",
   "metadata": {},
   "source": [
    "Ahora definimos el vector $\\vec S = (\\theta_1, z_1, \\theta_2, z_2)$. Si vamos a usar un ODE solver en python tenemos que escribir una función que tome a $\\vec S$ y $t$ y devuelva $d\\vec S/dt$. O sea tenemos que definir $d\\vec S/dt (\\vec S, t)$"
   ]
  },
  {
   "cell_type": "code",
   "execution_count": 19,
   "metadata": {},
   "outputs": [],
   "source": [
    "def dSdt(S,t,g,m1,m2,L1,L2):\n",
    "    the1, z1, the2, z2 = S\n",
    "    return [\n",
    "        dthe1dt_f(z1),\n",
    "        dz1dt_f(t, g, m1, m2, L1, L2, the1, the2, z1, z2),\n",
    "        dthe2dt_f(z2),\n",
    "        dz2dt_f(t, g, m1, m2, L1, L2, the1, the2, z1, z2)\n",
    "    ]"
   ]
  },
  {
   "cell_type": "markdown",
   "metadata": {},
   "source": [
    "Ahora resolvemos usando el método `odeint` de scipy."
   ]
  },
  {
   "cell_type": "code",
   "execution_count": 24,
   "metadata": {},
   "outputs": [],
   "source": [
    "t = np.linspace(0,40,1001)\n",
    "g = 9.81\n",
    "m1 = 2\n",
    "m2 = 2\n",
    "L1 = 2\n",
    "L2 = 2\n",
    "condinic = [0, 0, 0.1, -0.5]\n",
    "ans = odeint(dSdt, y0= condinic, t=t, args=(g,m1,m2,L1,L2))"
   ]
  },
  {
   "cell_type": "markdown",
   "metadata": {},
   "source": [
    "Importante notar que el dominio es de 1000 intervalos entre 0 y 40. Es decir que por cada segundo tenemos 25 intervalos en los que tenemos evaluada nuestra función. Esto es importante a la hora de animar porque nos va a decir la cantidad de frames por segundo a los que corre la animación. Otra cosa que hay que tener en cuenta es que `odeint` te devuelve los valores de $\\vec S$ a cada instante, pero para graficar lo que nos interesa es en cada fila tener los valores de una misma función, así podemos usar esa lista como los valores de la función que vamos a animar. Para obtener eso lo que hacemos es trasponer la matriz de soluciones."
   ]
  },
  {
   "cell_type": "code",
   "execution_count": 25,
   "metadata": {},
   "outputs": [
    {
     "data": {
      "text/plain": [
       "array([[ 0.00000000e+00,  3.79319416e-04,  1.40211053e-03, ...,\n",
       "         5.11877092e-02,  5.43985486e-02,  5.84883195e-02],\n",
       "       [ 0.00000000e+00,  1.82750946e-02,  3.20624328e-02, ...,\n",
       "         6.88523149e-02,  9.15034406e-02,  1.12679794e-01],\n",
       "       [ 1.00000000e-01,  7.92571255e-02,  5.72522968e-02, ...,\n",
       "         2.29417390e-01,  2.29631878e-01,  2.27193853e-01],\n",
       "       [-5.00000000e-01, -5.35785764e-01, -5.62941167e-01, ...,\n",
       "         3.89592785e-02, -2.80645002e-02, -9.34666806e-02]])"
      ]
     },
     "execution_count": 25,
     "metadata": {},
     "output_type": "execute_result"
    }
   ],
   "source": [
    "ans.T"
   ]
  },
  {
   "cell_type": "markdown",
   "metadata": {},
   "source": [
    "Ahora sí obtenemos $\\theta_1(t)$ y $\\theta_2(t)$ de `ans`"
   ]
  },
  {
   "cell_type": "code",
   "execution_count": 26,
   "metadata": {},
   "outputs": [],
   "source": [
    "the1 = ans.T[0]\n",
    "the2 = ans.T[2]"
   ]
  },
  {
   "cell_type": "code",
   "execution_count": 27,
   "metadata": {},
   "outputs": [
    {
     "data": {
      "image/png": "[encoded data removed]",
      "text/plain": [
       "<Figure size 432x288 with 1 Axes>"
      ]
     },
     "metadata": {
      "needs_background": "light"
     },
     "output_type": "display_data"
    }
   ],
   "source": [
    "plt.plot(t,the2)\n",
    "plt.plot(t,the1)\n",
    "plt.show()"
   ]
  },
  {
   "cell_type": "markdown",
   "metadata": {},
   "source": [
    "## Animando"
   ]
  },
  {
   "cell_type": "markdown",
   "metadata": {},
   "source": [
    "Primero necesitamos una función que nos tome los ángulos y nos devuelva las ubicaciones en cartesianas de las dos masas."
   ]
  },
  {
   "cell_type": "code",
   "execution_count": 28,
   "metadata": {},
   "outputs": [],
   "source": [
    "def get_x1y1x2y2(t, the1, the2, L1, L2):\n",
    "    return (L1*np.sin(the1),\n",
    "           -L1*np.cos(the1),\n",
    "           L1*np.sin(the1) + L2*np.sin(the2),\n",
    "           -L1*np.cos(the1) - L2*np.cos(the2)\n",
    "           )\n",
    "\n",
    "x1, y1, x2, y2 = get_x1y1x2y2(t, the1, the2, L1, L2)"
   ]
  },
  {
   "cell_type": "markdown",
   "metadata": {},
   "source": [
    "Ahora sí efectivamente animamos"
   ]
  },
  {
   "cell_type": "code",
   "execution_count": 29,
   "metadata": {},
   "outputs": [
    {
     "data": {
      "image/png": "[encoded data removed]",
      "text/plain": [
       "<Figure size 576x576 with 1 Axes>"
      ]
     },
     "metadata": {},
     "output_type": "display_data"
    }
   ],
   "source": [
    "def animate(i):\n",
    "    ln1.set_data([0, x1[i], x2[i]], [0, y1[i], y2[i]])\n",
    "    return ln1\n",
    "fig, ax = plt.subplots(1,1, figsize = (8,8))\n",
    "ax.set_facecolor('k')\n",
    "ax.get_xaxis().set_ticks([])    # Esto es para esconder los ticks del eje x\n",
    "ax.get_yaxis().set_ticks([])    # Esto es para esconder los ticks del eje y\n",
    "ln1, = plt.plot([0, x1[0], x2[0]], [0, y1[0], y2[0]], 'r-o', lw = 3, markersize = 8)\n",
    "ax.set_ylim(-4,4)\n",
    "ax.set_xlim(-4,4)\n",
    "ani = animation.FuncAnimation(fig, animate, frames = 1000, interval = 50)\n",
    "plt.show()\n",
    "ani.save('pendulodoble.gif', writer = 'pillow', fps = 25)"
   ]
  },
  {
   "cell_type": "code",
   "execution_count": null,
   "metadata": {},
   "outputs": [],
   "source": []
  }
 ],
 "metadata": {
  "kernelspec": {
   "display_name": "Python 3 (ipykernel)",
   "language": "python",
   "name": "python3"
  },
  "language_info": {
   "codemirror_mode": {
    "name": "ipython",
    "version": 3
   },
   "file_extension": ".py",
   "mimetype": "text/x-python",
   "name": "python",
   "nbconvert_exporter": "python",
   "pygments_lexer": "ipython3",
   "version": "3.8.10"
  }
 },
 "nbformat": 4,
 "nbformat_minor": 4
}
