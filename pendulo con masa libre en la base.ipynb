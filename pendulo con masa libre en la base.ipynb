{
 "cells": [
  {
   "cell_type": "code",
   "execution_count": 2,
   "id": "54b41e21-6949-462c-8705-82361d55b034",
   "metadata": {},
   "outputs": [],
   "source": [
    "import sympy as smp"
   ]
  },
  {
   "cell_type": "markdown",
   "id": "43de0f10-7d0e-493f-a6c8-44c75ebd0d67",
   "metadata": {},
   "source": [
    "# Defino los símbolos y las coordenadas"
   ]
  },
  {
   "cell_type": "markdown",
   "id": "e975bdd1-efea-4ed8-a565-c02536b766c5",
   "metadata": {},
   "source": [
    "## Símbolos y funciones"
   ]
  },
  {
   "cell_type": "code",
   "execution_count": 3,
   "id": "43db265c-3dd7-4c61-9e0f-d45964d96d64",
   "metadata": {},
   "outputs": [],
   "source": [
    "t, g, m1, m2, l = smp.symbols('t g m1 m2 l')\n",
    "x1, the = smp.symbols(r'x_1 \\theta', cls=smp.Function)\n",
    "x1 = x1(t)\n",
    "the = the(t)"
   ]
  },
  {
   "cell_type": "code",
   "execution_count": 4,
   "id": "ac71fd0d-4d31-4b7b-b6c2-2c9e68d0a794",
   "metadata": {},
   "outputs": [],
   "source": [
    "x1_t = smp.diff(x1,t)\n",
    "the_t = smp.diff(the,t)\n",
    "x1_tt = smp.diff(x1_t,t)\n",
    "the_tt = smp.diff(the_t,t)"
   ]
  },
  {
   "cell_type": "markdown",
   "id": "a2bd5794-d1ea-4c29-a211-10a25ef9cc2f",
   "metadata": {},
   "source": [
    "## Coordenadas y transformación"
   ]
  },
  {
   "cell_type": "code",
   "execution_count": 5,
   "id": "056ad814-db2a-439f-ad28-6617de654442",
   "metadata": {},
   "outputs": [],
   "source": [
    "xm1 = x1\n",
    "ym1 = 0\n",
    "xm2 = xm1 + l*smp.sin(the)\n",
    "ym2 = - l*smp.cos(the)"
   ]
  },
  {
   "cell_type": "markdown",
   "id": "6977ac28-08bb-4267-a727-2fc800125f2b",
   "metadata": {},
   "source": [
    "# Energías y Lagrangianos"
   ]
  },
  {
   "cell_type": "code",
   "execution_count": 6,
   "id": "aa6fe476-b2b7-480a-b92e-48e3fe51c406",
   "metadata": {},
   "outputs": [],
   "source": [
    "# Energías cinéticas\n",
    "T1 = smp.Rational(1,2) * m1 * x1_t**2\n",
    "T2 = smp.Rational(1,2) * m2 * (smp.diff(xm2,t)**2 + smp.diff(ym2,t)**2)\n",
    "\n",
    "# Energías potenciales\n",
    "U1 = m1*g*ym1\n",
    "U2 = m2*g*ym2\n",
    "\n",
    "# Lagrangiano\n",
    "L = T1 + T2 - U1 - U2"
   ]
  },
  {
   "cell_type": "code",
   "execution_count": 7,
   "id": "e744bf5a-bc35-49b3-a108-4018d8a11033",
   "metadata": {},
   "outputs": [
    {
     "data": {
      "text/latex": [
       "$\\displaystyle g l m_{2} \\cos{\\left(\\theta{\\left(t \\right)} \\right)} + \\frac{m_{1} \\left(\\frac{d}{d t} \\operatorname{x_{1}}{\\left(t \\right)}\\right)^{2}}{2} + \\frac{m_{2} \\left(l^{2} \\left(\\frac{d}{d t} \\theta{\\left(t \\right)}\\right)^{2} + 2 l \\cos{\\left(\\theta{\\left(t \\right)} \\right)} \\frac{d}{d t} \\theta{\\left(t \\right)} \\frac{d}{d t} \\operatorname{x_{1}}{\\left(t \\right)} + \\left(\\frac{d}{d t} \\operatorname{x_{1}}{\\left(t \\right)}\\right)^{2}\\right)}{2}$"
      ],
      "text/plain": [
       "g*l*m2*cos(\\theta(t)) + m1*Derivative(x_1(t), t)**2/2 + m2*(l**2*Derivative(\\theta(t), t)**2 + 2*l*cos(\\theta(t))*Derivative(\\theta(t), t)*Derivative(x_1(t), t) + Derivative(x_1(t), t)**2)/2"
      ]
     },
     "execution_count": 7,
     "metadata": {},
     "output_type": "execute_result"
    }
   ],
   "source": [
    "L.simplify()"
   ]
  },
  {
   "cell_type": "markdown",
   "id": "34d5bbbc-903c-41a2-9b4b-8533b81dd821",
   "metadata": {},
   "source": [
    "## Ecuaciones de E+L"
   ]
  },
  {
   "cell_type": "code",
   "execution_count": 8,
   "id": "f8bb7bdc-16d7-4398-9d4f-eeb2330f4c17",
   "metadata": {},
   "outputs": [],
   "source": [
    "EL_the = smp.diff(smp.diff(L,the_t),t) - smp.diff(L, the)\n",
    "EL_x1 = smp.diff(smp.diff(L,x1_t),t) - smp.diff(L, x1)"
   ]
  },
  {
   "cell_type": "code",
   "execution_count": 9,
   "id": "24bd694a-82ab-49fe-841c-a1aa82bc07fb",
   "metadata": {},
   "outputs": [
    {
     "data": {
      "text/latex": [
       "$\\displaystyle l m_{2} \\left(g \\sin{\\left(\\theta{\\left(t \\right)} \\right)} + l \\frac{d^{2}}{d t^{2}} \\theta{\\left(t \\right)} + \\cos{\\left(\\theta{\\left(t \\right)} \\right)} \\frac{d^{2}}{d t^{2}} \\operatorname{x_{1}}{\\left(t \\right)}\\right)$"
      ],
      "text/plain": [
       "l*m2*(g*sin(\\theta(t)) + l*Derivative(\\theta(t), (t, 2)) + cos(\\theta(t))*Derivative(x_1(t), (t, 2)))"
      ]
     },
     "execution_count": 9,
     "metadata": {},
     "output_type": "execute_result"
    }
   ],
   "source": [
    "EL_the.simplify()"
   ]
  },
  {
   "cell_type": "code",
   "execution_count": 10,
   "id": "0b35258b-bae1-4aab-967c-3e129c02e301",
   "metadata": {},
   "outputs": [
    {
     "data": {
      "text/latex": [
       "$\\displaystyle m_{1} \\frac{d^{2}}{d t^{2}} \\operatorname{x_{1}}{\\left(t \\right)} + m_{2} \\left(- l \\sin{\\left(\\theta{\\left(t \\right)} \\right)} \\left(\\frac{d}{d t} \\theta{\\left(t \\right)}\\right)^{2} + l \\cos{\\left(\\theta{\\left(t \\right)} \\right)} \\frac{d^{2}}{d t^{2}} \\theta{\\left(t \\right)} + \\frac{d^{2}}{d t^{2}} \\operatorname{x_{1}}{\\left(t \\right)}\\right)$"
      ],
      "text/plain": [
       "m1*Derivative(x_1(t), (t, 2)) + m2*(-l*sin(\\theta(t))*Derivative(\\theta(t), t)**2 + l*cos(\\theta(t))*Derivative(\\theta(t), (t, 2)) + Derivative(x_1(t), (t, 2)))"
      ]
     },
     "execution_count": 10,
     "metadata": {},
     "output_type": "execute_result"
    }
   ],
   "source": [
    "EL_x1.simplify()"
   ]
  },
  {
   "cell_type": "code",
   "execution_count": 11,
   "id": "dbc0a34d-c1b9-4d92-a626-52b655275c45",
   "metadata": {},
   "outputs": [],
   "source": [
    "ans = smp.solve([EL_the, EL_x1], (the_tt, x1_tt))"
   ]
  },
  {
   "cell_type": "code",
   "execution_count": 12,
   "id": "b18c139e-51f4-4572-b6d5-30974553d4e7",
   "metadata": {},
   "outputs": [
    {
     "data": {
      "text/latex": [
       "$\\displaystyle - \\frac{\\left(g \\left(m_{1} + m_{2}\\right) + l m_{2} \\cos{\\left(\\theta{\\left(t \\right)} \\right)} \\left(\\frac{d}{d t} \\theta{\\left(t \\right)}\\right)^{2}\\right) \\sin{\\left(\\theta{\\left(t \\right)} \\right)}}{l \\left(m_{1} + m_{2} \\sin^{2}{\\left(\\theta{\\left(t \\right)} \\right)}\\right)}$"
      ],
      "text/plain": [
       "-(g*(m1 + m2) + l*m2*cos(\\theta(t))*Derivative(\\theta(t), t)**2)*sin(\\theta(t))/(l*(m1 + m2*sin(\\theta(t))**2))"
      ]
     },
     "execution_count": 12,
     "metadata": {},
     "output_type": "execute_result"
    }
   ],
   "source": [
    "ans[the_tt]"
   ]
  },
  {
   "cell_type": "code",
   "execution_count": 13,
   "id": "2e41eaf9-b103-4af3-a428-4f3b9778cebd",
   "metadata": {},
   "outputs": [
    {
     "data": {
      "text/latex": [
       "$\\displaystyle \\frac{m_{2} \\left(g \\cos{\\left(\\theta{\\left(t \\right)} \\right)} + l \\left(\\frac{d}{d t} \\theta{\\left(t \\right)}\\right)^{2}\\right) \\sin{\\left(\\theta{\\left(t \\right)} \\right)}}{m_{1} + m_{2} \\sin^{2}{\\left(\\theta{\\left(t \\right)} \\right)}}$"
      ],
      "text/plain": [
       "m2*(g*cos(\\theta(t)) + l*Derivative(\\theta(t), t)**2)*sin(\\theta(t))/(m1 + m2*sin(\\theta(t))**2)"
      ]
     },
     "execution_count": 13,
     "metadata": {},
     "output_type": "execute_result"
    }
   ],
   "source": [
    "ans[x1_tt]"
   ]
  },
  {
   "cell_type": "markdown",
   "id": "1fff57c8-59eb-418e-86c6-adeddb478867",
   "metadata": {},
   "source": [
    "Entonces el sistema a resolver nos quedó esto:\n",
    "$$\n",
    "\\ddot \\theta(t) = - \\left[\\frac{g(m_1 + m_2) + lm_2 \\cos(\\theta) \\dot\\theta^2}{l (m_1 +m_2 \\sin^2(\\theta))}\\right]\\sin(\\theta)\n",
    "$$\n",
    "\n",
    "$$\n",
    "\\ddot x_1(t) = m_2 \\left[\\frac{g\\cos(\\theta) + l \\dot\\theta^2}{m_1 +m_2 \\sin^2(\\theta)}\\right]\\sin(\\theta)\n",
    "$$"
   ]
  },
  {
   "cell_type": "markdown",
   "id": "36ace162-5f68-49fb-a02b-e83ba5f39305",
   "metadata": {},
   "source": [
    "# Resolviendo el sistema de ecuaciones"
   ]
  },
  {
   "cell_type": "code",
   "execution_count": 14,
   "id": "fa4240d7-5963-4749-bf24-9f8f97bd6f8f",
   "metadata": {},
   "outputs": [],
   "source": [
    "dvdt_f = smp.lambdify((t,g,m1,m2,l,x1,the,x1_t,the_t), ans[x1_tt])\n",
    "dwdt_f = smp.lambdify((t,g,m1,m2,l,x1,the,x1_t,the_t), ans[the_tt])\n",
    "dx1dt_f = smp.lambdify(x1_t, x1_t)\n",
    "dthedt_f = smp.lambdify(the_t, the_t)"
   ]
  },
  {
   "cell_type": "code",
   "execution_count": 15,
   "id": "8121f868-a12f-4800-851c-c85eac773d07",
   "metadata": {},
   "outputs": [],
   "source": [
    "def dSdt(S,t,g,m1,m2,l):\n",
    "    x1, v, the, w = S\n",
    "    return [\n",
    "        dx1dt_f(v),\n",
    "        dvdt_f(t,g,m1,m2,l,x1,the,v,w),\n",
    "        dthedt_f(w),\n",
    "        dwdt_f(t,g,m1,m2,l,x1,the,v,w)\n",
    "    ]"
   ]
  },
  {
   "cell_type": "markdown",
   "id": "cede7823-8fae-461f-aebb-b174207ea9e4",
   "metadata": {},
   "source": [
    "Todavía falta importar el solver desde `scipy` y `numpy` para crear el array de valores que va a tomar la solución:"
   ]
  },
  {
   "cell_type": "code",
   "execution_count": 16,
   "id": "47c9c6af-fcab-4f0a-8945-f30a10cabdc3",
   "metadata": {},
   "outputs": [],
   "source": [
    "from scipy.integrate import odeint\n",
    "import numpy as np"
   ]
  },
  {
   "cell_type": "code",
   "execution_count": 76,
   "id": "7e812b00-e62a-41ed-8fa5-709d59affdf9",
   "metadata": {},
   "outputs": [],
   "source": [
    "t = np.linspace(0,40,1001)\n",
    "g = 9.81\n",
    "m1 = 1\n",
    "m2 = 1\n",
    "l = 3\n",
    "condinic = [0, 0, np.pi/4, np.pi/4]\n",
    "ans = odeint(dSdt, y0= condinic, t=t, args=(g,m1,m2,l))"
   ]
  },
  {
   "cell_type": "code",
   "execution_count": 77,
   "id": "971208b5-0cba-4255-aeec-b2216a432f47",
   "metadata": {},
   "outputs": [],
   "source": [
    "x1 = ans.T[0]\n",
    "the = ans.T[2]"
   ]
  },
  {
   "cell_type": "markdown",
   "id": "1c5aad62-a175-4a0e-a1f7-b8798e9a97e8",
   "metadata": {},
   "source": [
    "# Ploteando y animando"
   ]
  },
  {
   "cell_type": "code",
   "execution_count": 78,
   "id": "05820e35-684b-4bd6-b88d-e961e757780a",
   "metadata": {},
   "outputs": [],
   "source": [
    "import matplotlib.pyplot as plt\n",
    "from matplotlib import animation\n",
    "from matplotlib.animation import PillowWriter"
   ]
  },
  {
   "cell_type": "code",
   "execution_count": 79,
   "id": "361ce71e-6d1e-4370-96bd-66e59e0a27c2",
   "metadata": {},
   "outputs": [
    {
     "data": {
      "text/plain": [
       "<matplotlib.legend.Legend at 0x7f1aeda22820>"
      ]
     },
     "execution_count": 79,
     "metadata": {},
     "output_type": "execute_result"
    },
    {
     "data": {
      "image/png": "[encoded data removed]",
      "text/plain": [
       "<Figure size 432x288 with 1 Axes>"
      ]
     },
     "metadata": {
      "needs_background": "light"
     },
     "output_type": "display_data"
    }
   ],
   "source": [
    "plt.plot(t, x1, label='x1')\n",
    "plt.plot(t, the, label=r'$\\theta$')\n",
    "plt.legend()"
   ]
  },
  {
   "cell_type": "code",
   "execution_count": 80,
   "id": "286c9f4b-dfbe-4918-93c3-6f995c1b01e4",
   "metadata": {},
   "outputs": [],
   "source": [
    "def get_x1y1x2y2(t,x1,the,l):\n",
    "    return (x1,\n",
    "            x1*0,\n",
    "            x1 + l*np.sin(the),\n",
    "            -l*np.cos(the)\n",
    "           )\n",
    "x1, y1, x2, y2 = get_x1y1x2y2(t,x1,the,l)"
   ]
  },
  {
   "cell_type": "code",
   "execution_count": 81,
   "id": "2b41cc9a-9b55-4d19-86fc-82fe663e4ddb",
   "metadata": {},
   "outputs": [
    {
     "data": {
      "text/plain": [
       "array([-2.12132034, -2.05936476, -2.00732668, ..., -2.14736941,\n",
       "       -2.08185056, -2.02594371])"
      ]
     },
     "execution_count": 81,
     "metadata": {},
     "output_type": "execute_result"
    }
   ],
   "source": [
    "y2"
   ]
  },
  {
   "cell_type": "code",
   "execution_count": 85,
   "id": "97acf4fc-d685-4bc3-8e34-23f37ed1293e",
   "metadata": {},
   "outputs": [
    {
     "data": {
      "text/plain": [
       "array([9., 9., 9., ..., 9., 9., 9.])"
      ]
     },
     "execution_count": 85,
     "metadata": {},
     "output_type": "execute_result"
    }
   ],
   "source": [
    "largo = (x2-x1)**2 + (y2-y1)**2\n",
    "largo"
   ]
  },
  {
   "cell_type": "code",
   "execution_count": 86,
   "id": "7ac38165-2509-40da-b0d8-0f812269aa38",
   "metadata": {},
   "outputs": [
    {
     "data": {
      "text/plain": [
       "<matplotlib.legend.Legend at 0x7f1aed9223a0>"
      ]
     },
     "execution_count": 86,
     "metadata": {},
     "output_type": "execute_result"
    },
    {
     "data": {
      "image/png": "[encoded data removed]",
      "text/plain": [
       "<Figure size 432x288 with 1 Axes>"
      ]
     },
     "metadata": {
      "needs_background": "light"
     },
     "output_type": "display_data"
    }
   ],
   "source": [
    "plt.plot(t,x1, label='x1')\n",
    "plt.plot(t,y1, label='y1')\n",
    "plt.plot(t,x2, label='x2')\n",
    "plt.plot(t,y2, label='y2')\n",
    "plt.legend()"
   ]
  },
  {
   "cell_type": "code",
   "execution_count": 87,
   "id": "3e11dc78-0ec2-490d-9002-1503b720c752",
   "metadata": {},
   "outputs": [
    {
     "data": {
      "image/png": "[encoded data removed]",
      "text/plain": [
       "<Figure size 576x576 with 1 Axes>"
      ]
     },
     "metadata": {},
     "output_type": "display_data"
    }
   ],
   "source": [
    "def animate(i):\n",
    "    ln1.set_data([x1[i], x2[i]], [y1[i], y2[i]])\n",
    "    return ln1,\n",
    "\n",
    "fig, ax = plt.subplots(1,1, figsize = (8,8))\n",
    "ax.set_facecolor('k')\n",
    "ax.get_xaxis().set_ticks([])    # Esto es para esconder los ticks del eje x\n",
    "ax.get_yaxis().set_ticks([])    # Esto es para esconder los ticks del eje y\n",
    "ln1, = plt.plot([x1[0], x2[0]], [y1[0], y2[0]], 'r--o', lw = 3, markersize = 10)\n",
    "ax.set_ylim(-4,4)\n",
    "ax.set_xlim(-4,4)\n",
    "ani = animation.FuncAnimation(fig, animate, frames = 1000, interval = 50)\n",
    "plt.show()\n",
    "ani.save('pendulo.gif', writer = 'pillow', fps = 25)"
   ]
  },
  {
   "cell_type": "code",
   "execution_count": null,
   "id": "6b6596b7-3756-4434-99fb-a86a32fcc05c",
   "metadata": {},
   "outputs": [],
   "source": []
  },
  {
   "cell_type": "code",
   "execution_count": null,
   "id": "af5a2a51-52c8-4ce5-a613-491b6e5108bc",
   "metadata": {},
   "outputs": [],
   "source": []
  }
 ],
 "metadata": {
  "kernelspec": {
   "display_name": "Python 3 (ipykernel)",
   "language": "python",
   "name": "python3"
  },
  "language_info": {
   "codemirror_mode": {
    "name": "ipython",
    "version": 3
   },
   "file_extension": ".py",
   "mimetype": "text/x-python",
   "name": "python",
   "nbconvert_exporter": "python",
   "pygments_lexer": "ipython3",
   "version": "3.8.10"
  }
 },
 "nbformat": 4,
 "nbformat_minor": 5
}
